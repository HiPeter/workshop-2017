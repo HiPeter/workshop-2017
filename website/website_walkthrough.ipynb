{
 "cells": [
  {
   "cell_type": "markdown",
   "metadata": {},
   "source": [
    "# Website walkthrough (75min)\n",
    "\n",
    "* Materials Explorer\n",
    "* Material Details\n",
    "* Battery Explorer and Details\n",
    "* Crystal Toolkit\n",
    "* Structure Predictor\n",
    "* Phase Diagram App\n",
    "* Pourbaix Diagram App\n",
    "* Reaction Calculator\n",
    "* Molecules Explorer\n",
    "\n",
    "We don't have time to explore all apps..."
   ]
  },
  {
   "cell_type": "markdown",
   "metadata": {},
   "source": [
    "## materials explorer (15min)\n",
    "- sign in. go to materials explorer (1min)\n",
    "- explore by chemistry (3min)\n",
    "  - elements / chemical system, or formula\n",
    "  - wildcard syntax\n",
    "  - nelements: defaults to # specified. unconstrain with >, >=. exclude\n",
    "    elements.\n",
    "- other primary input modes (4min)\n",
    "  - mpquery\n",
    "    - {\"elements\":{\"\\$in\":[\"Li\", \"Na\", \"K\"], \"\\$all\": [\"O\"]}, \"nelements\":2}\n",
    "    - {\"anonymous_formula\": {\"A\": 1, \"B\": 1, \"C\": 1, \"D\": 3}}\n",
    "  - structure (d/l Na2O2, drag-and-drop)\n",
    "  - mp-ids, tags (disodium peroxide)\n",
    "- explore by properties (2min)\n",
    "  - sliders. band gap 0.5 to 3. type-in endpoints. e_above_hull, type in 0.1\n",
    "    for RHS\n",
    "  - has bandstructure. expandable property groups. elasticity.K_VRH >= 100\n",
    "- *Exercise* (5min)\n",
    "  - Of ABO3 compounds with a band gap between 1 and 4 eV and energy above hull\n",
    "    at most 50 meV, which has the highest density? (4min)\n",
    "  - Go over solution (1min)"
   ]
  },
  {
   "cell_type": "markdown",
   "metadata": {},
   "source": [
    "## material details (12min)\n",
    "- load TiCoSb, mp-5967. Note and view/copy DOI. OSTI, on-demand. (1min)\n",
    "- CIF viewer. JSMol. Conventional standard vs. primitive cell. Computed lattice\n",
    "  params typically correspond to primitive cell. (1min)\n",
    "- Help guides. Toggle and walk through some properties. (1min)\n",
    "- Static and Interactive BS/DOS. (1min)\n",
    "- XRD. Default Cu K-Alpha radiation, but can step through different\n",
    "  wavelengths. (1min).\n",
    "- Substrates (1min)\n",
    "- Elasticity, piezoelectricity (1min)\n",
    "- Calculation summary and task details (1min)\n",
    "- User-contributed data, provenance, ICSD duplicates (1min)\n",
    "- Go to Ag, mp-124. Surface properties and Wulff construction, currently only\n",
    "  for elemental compounds. Also note that if no elasticty, can get\n",
    "  prediction. (1min)\n",
    "- *Exercise* Find a material of interest to you and explore its detail\n",
    "  page. (2min)"
   ]
  },
  {
   "cell_type": "markdown",
   "metadata": {},
   "source": [
    "## battery explorer and details pages (15min)\n",
    "Presentation by Miao Liu. Starts with searching \"Co-O\", limit to Li as working\n",
    "ion. First result is LiCoO2, prevalent in cell phones and laptops."
   ]
  },
  {
   "cell_type": "markdown",
   "metadata": {},
   "source": [
    "## crystal toolkit (5min)\n",
    "Foreshadowing what will be done in pymatgen session\n",
    "- Load crystal toolkit. Mention can drag and drop structure or enter material\n",
    "  IDs. Explore materials for barium nickel oxide BaNiO3, select mp-19241. Click\n",
    "  'Edit Crystal' in detail page. (1min)\n",
    "- Can do some basic tranformations. Supercell scaling. Substitution. Fractional\n",
    "  substitution given oxidation states. We will simply replace O with Cl. (1min)\n",
    "- Can download in various formats, including JSON. Open in TextMate. Notice\n",
    "  special preservation of structure history and reference to pymatgen module to\n",
    "  apply transformation. (1min)\n",
    "- Can submit to see if it's interesting to us. MPComplete. Using XSEDE. Go to\n",
    "  dashboard to track submission status. Go to second page. Click on a running\n",
    "  submission. FireWorks dashboard. (1min)\n",
    "- Sandboxes / viewing a completed submission. Switch sandbox to see\n",
    "  completed. Go to and note attribution - submission author(s), bibtex. Back to\n",
    "  dashboard, switch back to core sandbox. Browser forward to note material no\n",
    "  longer visible. (1min)"
   ]
  },
  {
   "cell_type": "markdown",
   "metadata": {},
   "source": [
    "## structure predictor (5min)\n",
    "- Li-V-P-O. Ionic compound predictions using ICSD. Must select\n",
    "  valences. E.g. P:[5] V:[3] O:[-2] Li:[1] (1min)\n",
    "- Go to dashboard. Note that results are private by default but can make public\n",
    "  and share link with colleagues. (1min)\n",
    "- Go to public predictions at\n",
    "  https://materialsproject.org/apps/structure_predictor/1398/. Can\n",
    "  download/inspect all. Look at\n",
    "  https://materialsproject.org/apps/structure_predictor/1398/crystals/32261,\n",
    "  fourth prediction in list, which was a lithium vanadium phosphate prediction MP\n",
    "  folks were able to make in the lab, for investigation as a battery cathode\n",
    "  material. Note ICSD source, which has Fe in V site. (1min)\n",
    "- materials explorer mpquery for {'icsd_ids': X}, then copy mpid and search in\n",
    "  battery explorer. Load battery detail page. (1min)\n",
    "- Scroll over documentation for app (1min)\n",
    "\n",
    "reference: [A Computational Investigation of Li9M3(P2O7)3(PO4)2 (M = V, Mo) as Cathodes for Li Ion Batteries](http://dx.doi.org/10.1149/2.080205jes)"
   ]
  },
  {
   "cell_type": "markdown",
   "metadata": {},
   "source": [
    "## phase diagram app (5min)\n",
    "- Experimentalists unsuccessfully attempt to prepare the ternary phase\n",
    "  NaFeS2. Use the phase diagram app to map out the stable phases of the \"Na Fe\n",
    "  S\" system. What compounds does NaFeS2 decompose to, according to MP data?\n",
    "  Read phase diagram by lever rule. (1min)\n",
    "- Search for NaFe2. See \"decomposes to\" field. Can also generate phase diagram\n",
    "  for material. (1min)\n",
    "- With an open element, the effect of temperature and partial pressure can be\n",
    "  captured in a single chemical potential variable, with a more negative value\n",
    "  corresponding to higher temperatures or lower partial pressures. These are\n",
    "  grand potential phase diagrams. Demonstrate with \"Na Fe S\" and \"S\"\n",
    "  open. (1min)\n",
    "- *Exercise* Plot grand potential phase diagrams of Li + P closed and oxygen\n",
    "  open. For what range of oxygen chemical potentials is Li3P7 thermodynamically\n",
    "  stable? (2min)\n",
    "- *Exercise* (zero time for this - just listing here for reference) A group of researchers want to develop lead-free compounds for photovoltaic applications. They decide to screen a total of 360 candidate inorganic halide perovskites AMX3 for desirable bandgaps and chemical stability. Using DFT and using experimental data to calibrate a filtering by PBE-DFT bandgaps, which are expected to underestimate true experimental values, they identify nine candidate compositions: KSnBr3, KSnI3, RbSnBr3, RbSnI3, CsSnBr3, KGeBr3, KGeI3, RbGeI3 and CsGeI3. Evaluate the thermodynamic stability of these compositions according to MP data, i.e. which ones are energentically stable with respect to simpler binary phases?\n",
    "\n",
    "references:\n",
    "\n",
    "[Pyrite Formation via Kinetic Intermediates through Low-Temperature Solid-State Metathesis](http://dx.doi.org/10.1021/ja5081647)\n",
    "\n",
    "[Lead-free germanium iodide perovskite materials for photovoltaic applications](http://dx.doi.org/10.1039/C5TA05741H)"
   ]
  },
  {
   "cell_type": "markdown",
   "metadata": {},
   "source": [
    "## pourbaix diagram app (5min)\n",
    "*Exercise* Examine the Pourbaix diagram for the 50%-50% Bi-V system in aqueous solution, assuming ion concentrations both at 10^-5 mol/kg. Is bismuth vanadate (BiVO4) expected to be thermodynamically stable against decomposition at potentials close to the oxygen evolution potential?\n",
    "\n",
    "reference: [Mechanistic insights into chemical and photochemical transformations of bismuth vanadate photoanodes](http://dx.doi.org/10.1038/ncomms12012)"
   ]
  },
  {
   "cell_type": "markdown",
   "metadata": {},
   "source": [
    "## reaction calculator (5min)\n",
    "- Search reaction to form calcium carbonate \"CaO + CO2\" -> \"CaCO3\" (no exptl. data)\n",
    "- Search \"MgO + Al2O3\" -> \"MgAl2O4\" (has exptl. data)"
   ]
  },
  {
   "cell_type": "markdown",
   "metadata": {},
   "source": [
    "## molecules explorer (5min)\n",
    "Substructure search for quinoxalene molecules w/ pyrazine ring flanked by\n",
    "benzene rings. Examine one with highest ionization potential. Explore solubility."
   ]
  },
  {
   "cell_type": "markdown",
   "metadata": {},
   "source": [
    "## discussion forum (3min)\n",
    "Resource apart from documentation to clarify website/API/data use."
   ]
  }
 ],
 "metadata": {
  "kernelspec": {
   "display_name": "Python 2",
   "language": "python",
   "name": "python2"
  },
  "language_info": {
   "codemirror_mode": {
    "name": "ipython",
    "version": 2
   },
   "file_extension": ".py",
   "mimetype": "text/x-python",
   "name": "python",
   "nbconvert_exporter": "python",
   "pygments_lexer": "ipython2",
   "version": "2.7.10"
  }
 },
 "nbformat": 4,
 "nbformat_minor": 0
}
