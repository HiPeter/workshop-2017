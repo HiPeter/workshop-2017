{
 "cells": [
  {
   "cell_type": "markdown",
   "metadata": {},
   "source": [
    "# Find the best substrate for BiFeO3\n",
    "Let's find the best substrate for a Bismuth Ferrate."
   ]
  },
  {
   "cell_type": "code",
   "execution_count": 2,
   "metadata": {
    "collapsed": false
   },
   "outputs": [],
   "source": [
    "from pymatgen.matproj.rest import MPRester\n",
    "mpr = MPRester()"
   ]
  },
  {
   "cell_type": "code",
   "execution_count": 3,
   "metadata": {
    "collapsed": false
   },
   "outputs": [],
   "source": [
    "film = mpr.get_structure_by_material_id(\"mp-645159\")"
   ]
  },
  {
   "cell_type": "markdown",
   "metadata": {},
   "source": [
    "Next, we need to get the elastic tensor"
   ]
  },
  {
   "cell_type": "code",
   "execution_count": 4,
   "metadata": {
    "collapsed": false
   },
   "outputs": [
    {
     "data": {
      "text/plain": [
       "ElasticTensor([[[[ 242.    0.    0.]\n",
       "   [   0.  121.    0.]\n",
       "   [   0.    0.  119.]]\n",
       "\n",
       "  [[   0.   90.    0.]\n",
       "   [  90.    0.    0.]\n",
       "   [   0.    0.    0.]]\n",
       "\n",
       "  [[   0.    0.   60.]\n",
       "   [   0.    0.    0.]\n",
       "   [  60.    0.    0.]]]\n",
       "\n",
       "\n",
       " [[[   0.   90.    0.]\n",
       "   [  90.    0.    0.]\n",
       "   [   0.    0.    0.]]\n",
       "\n",
       "  [[ 121.    0.    0.]\n",
       "   [   0.  243.    0.]\n",
       "   [   0.    0.  119.]]\n",
       "\n",
       "  [[   0.    0.    0.]\n",
       "   [   0.    0.   78.]\n",
       "   [   0.   78.    0.]]]\n",
       "\n",
       "\n",
       " [[[   0.    0.   60.]\n",
       "   [   0.    0.    0.]\n",
       "   [  60.    0.    0.]]\n",
       "\n",
       "  [[   0.    0.    0.]\n",
       "   [   0.    0.   78.]\n",
       "   [   0.   78.    0.]]\n",
       "\n",
       "  [[ 119.    0.    0.]\n",
       "   [   0.  119.    0.]\n",
       "   [   0.    0.  255.]]]])"
      ]
     },
     "execution_count": 4,
     "metadata": {},
     "output_type": "execute_result"
    }
   ],
   "source": [
    "from pymatgen.analysis.elasticity.elastic import ElasticTensor\n",
    "elac = mpr.query({\"material_id\": \"mp-645159\"},['elasticity'])[0]\n",
    "tensor = ElasticTensor.from_voigt(elac['elasticity']['elastic_tensor'])\n",
    "tensor"
   ]
  },
  {
   "cell_type": "markdown",
   "metadata": {},
   "source": [
    "Let's get a list of substrates to consider. Materials Project has collected a set of the most accessible substrates and their corresponding MPids"
   ]
  },
  {
   "cell_type": "code",
   "execution_count": 5,
   "metadata": {
    "collapsed": false
   },
   "outputs": [
    {
     "data": {
      "text/plain": [
       "['mp-2920',\n",
       " 'mp-661',\n",
       " 'mp-20194',\n",
       " 'mp-2534',\n",
       " 'mp-1029',\n",
       " 'mp-6930',\n",
       " 'mp-23193',\n",
       " 'mp-31120',\n",
       " 'mp-20305',\n",
       " 'mp-2490',\n",
       " 'mp-22693',\n",
       " 'mp-3614',\n",
       " 'mp-20351',\n",
       " 'mp-905',\n",
       " 'mp-2133',\n",
       " 'mp-2201',\n",
       " 'mp-19717',\n",
       " 'mp-602',\n",
       " 'mp-23',\n",
       " 'mp-34202',\n",
       " 'mp-1943',\n",
       " 'mp-984',\n",
       " 'mp-541837',\n",
       " 'mp-1434',\n",
       " 'mp-134',\n",
       " 'mp-5854',\n",
       " 'mp-406',\n",
       " 'mp-2125',\n",
       " 'mp-7631',\n",
       " 'mp-3666',\n",
       " 'mp-19306',\n",
       " 'mp-1265',\n",
       " 'mp-2657',\n",
       " 'mp-23560',\n",
       " 'mp-66',\n",
       " 'mp-31119',\n",
       " 'mp-153',\n",
       " 'mp-23959',\n",
       " 'mp-1143',\n",
       " 'mp-1190',\n",
       " 'mp-21276',\n",
       " 'mp-804',\n",
       " 'mp-672',\n",
       " 'mp-2858',\n",
       " 'mp-20012',\n",
       " 'mp-3731',\n",
       " 'mp-5690',\n",
       " 'mp-19387',\n",
       " 'mp-3427',\n",
       " 'mp-3196',\n",
       " 'mp-11714',\n",
       " 'mp-1634',\n",
       " 'mp-886',\n",
       " 'mp-149',\n",
       " 'mp-81',\n",
       " 'mp-2691',\n",
       " 'mp-224',\n",
       " 'mp-48',\n",
       " 'mp-1821',\n",
       " 'mp-3792',\n",
       " 'mp-22862',\n",
       " 'mp-390',\n",
       " 'mp-23352',\n",
       " 'mp-3953',\n",
       " 'mp-4651',\n",
       " 'mp-19648',\n",
       " 'mp-8062',\n",
       " 'mp-124',\n",
       " 'mp-614603',\n",
       " 'mp-1249',\n",
       " 'mp-19133',\n",
       " 'mp-3536',\n",
       " 'mp-1156',\n",
       " 'mp-30',\n",
       " 'mp-542812',\n",
       " 'mp-32',\n",
       " 'mp-5986',\n",
       " 'mp-1138',\n",
       " 'mp-2741',\n",
       " 'mp-24972',\n",
       " 'mp-2176']"
      ]
     },
     "execution_count": 5,
     "metadata": {},
     "output_type": "execute_result"
    }
   ],
   "source": [
    "mpr.get_all_substrates()"
   ]
  },
  {
   "cell_type": "code",
   "execution_count": 6,
   "metadata": {
    "collapsed": true
   },
   "outputs": [],
   "source": [
    "pot_substrates = [mpr.get_structure_by_material_id(s) for s in mpr.get_all_substrates()]"
   ]
  },
  {
   "cell_type": "code",
   "execution_count": 7,
   "metadata": {
    "collapsed": false,
    "scrolled": true
   },
   "outputs": [
    {
     "name": "stdout",
     "output_type": "stream",
     "text": [
      "Full Formula (Al2 N2)\n",
      "Reduced Formula: AlN\n",
      "abc   :   3.128588   3.128588   5.016955\n",
      "angles:  90.000000  90.000000 120.000000\n",
      "Sites (4)\n",
      "  #  SP           a         b         c    coordination_no  forces\n",
      "---  ----  --------  --------  --------  -----------------  ----------------------\n",
      "  0  N     0.666667  0.333333  0.880713                  4  [0.0, 0.0, 0.0007832]\n",
      "  1  N     0.333333  0.666667  0.380713                  4  [0.0, 0.0, 0.0007832]\n",
      "  2  Al    0.666667  0.333333  0.499287                  4  [0.0, 0.0, -0.0007832]\n",
      "  3  Al    0.333333  0.666667  0.999287                  4  [0.0, 0.0, -0.0007832]\n"
     ]
    }
   ],
   "source": [
    "print(pot_substrates[1])"
   ]
  },
  {
   "cell_type": "markdown",
   "metadata": {},
   "source": [
    "Next we need to initialize the substrate analyzer"
   ]
  },
  {
   "cell_type": "code",
   "execution_count": 8,
   "metadata": {
    "collapsed": true
   },
   "outputs": [],
   "source": [
    "from pymatgen.analysis.substrate_analyzer import SubstrateAnalyzer\n",
    "sa = SubstrateAnalyzer()"
   ]
  },
  {
   "cell_type": "markdown",
   "metadata": {},
   "source": [
    "The analyzer can be used to calculate matches between a substrates and films"
   ]
  },
  {
   "cell_type": "code",
   "execution_count": 9,
   "metadata": {
    "collapsed": false
   },
   "outputs": [],
   "source": [
    "all_matches = []\n",
    "for substrate in pot_substrates[:10]:\n",
    "    matches = list(sa.calculate(substrate,film,tensor,lowest=True))\n",
    "    for m in matches:\n",
    "        m['composition'] = str(substrate.composition.reduced_formula)\n",
    "    all_matches.extend(matches)"
   ]
  },
  {
   "cell_type": "code",
   "execution_count": 10,
   "metadata": {
    "collapsed": false
   },
   "outputs": [
    {
     "data": {
      "text/plain": [
       "146"
      ]
     },
     "execution_count": 10,
     "metadata": {},
     "output_type": "execute_result"
    }
   ],
   "source": [
    "len(all_matches)"
   ]
  },
  {
   "cell_type": "markdown",
   "metadata": {},
   "source": [
    "Let's plot the matches"
   ]
  },
  {
   "cell_type": "code",
   "execution_count": 11,
   "metadata": {
    "collapsed": false
   },
   "outputs": [
    {
     "data": {
      "image/png": "[encoded data removed]",
      "text/plain": [
       "<matplotlib.figure.Figure at 0x7eff2eb534e0>"
      ]
     },
     "metadata": {},
     "output_type": "display_data"
    }
   ],
   "source": [
    "%matplotlib inline\n",
    "from matplotlib import pyplot as plt\n",
    "\n",
    "for i in all_matches:\n",
    "    plt.scatter(i['elastic_energy'],i['match_area'])\n",
    "plt.xlabel(\"Elastic Energy (eV)\")\n",
    "plt.ylabel(r\"Matching Area ($\\AA^2$)\")\n",
    "plt.xlim(0,0.005)\n",
    "plt.show()"
   ]
  },
  {
   "cell_type": "markdown",
   "metadata": {
    "collapsed": true
   },
   "source": [
    "Our previous analysis shows that the lower left corner is preferred. So let's look at matches with matching area <"
   ]
  },
  {
   "cell_type": "code",
   "execution_count": 12,
   "metadata": {
    "collapsed": false
   },
   "outputs": [
    {
     "name": "stdout",
     "output_type": "stream",
     "text": [
      "Material: CeO2 Substrate Face: [0, 1, 0]  Film Direction: [1, 0, -1]  Strain: 0.012856399831028797\n",
      "Material: GaAs Substrate Face: [1, 0, 0]  Film Direction: [1, 0, -1]  Strain: 0.018005629745282737\n",
      "Material: DyScO3 Substrate Face: [0, 0, 1]  Film Direction: [0, 0, 1]  Strain: 0.006456864634338208\n",
      "Material: DyScO3 Substrate Face: [0, 1, 0]  Film Direction: [0, 1, 0]  Strain: 0.011114725727691326\n",
      "Material: DyScO3 Substrate Face: [1, 0, 0]  Film Direction: [1, 0, 0]  Strain: 0.006888529056243525\n",
      "Material: GaP Substrate Face: [0, 1, 0]  Film Direction: [1, 0, -1]  Strain: 0.010095340220019764\n"
     ]
    }
   ],
   "source": [
    "\n",
    "for m in all_matches:\n",
    "    if m['match_area'] < 50.0 and m['elastic_energy'] < 0.002:\n",
    "        print(\"Material: {} Substrate Face: {}  Film Direction: {}  Strain: {}\".format(m['composition'],\n",
    "                                                                                      m['sub_miller'],\n",
    "                                                                                      m['film_miller'],\n",
    "                                                                                      m['strain']))\n"
   ]
  },
  {
   "cell_type": "code",
   "execution_count": null,
   "metadata": {
    "collapsed": true
   },
   "outputs": [],
   "source": []
  }
 ],
 "metadata": {
  "kernelspec": {
   "display_name": "Python 3",
   "language": "python",
   "name": "python3"
  }
 },
 "nbformat": 4,
 "nbformat_minor": 1
}
