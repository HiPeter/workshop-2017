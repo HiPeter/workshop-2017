{
 "cells": [
  {
   "cell_type": "markdown",
   "metadata": {},
   "source": [
    "# Notebook and python basics\n",
    "\n",
    "The jupyter notebook is an interactive python environment that enables users to enter and execute commands in \"cells,\" much like the matlab interactive environment.  We use it primarily as a teaching tool, since live coding is much easier to follow in the notebook and markdown documentation can be inserted inline.  Here, we cover a few basic features of the notebook environment and python before we begin with any of the materials science.\n",
    "\n",
    "To execute a cell, you can either click the \"play\" button in the toolbar, or press `shift+enter` while the cell is active.  For example:"
   ]
  },
  {
   "cell_type": "code",
   "execution_count": null,
   "metadata": {
    "collapsed": false
   },
   "outputs": [],
   "source": [
    "print(\"Hello world!\")"
   ]
  },
  {
   "cell_type": "code",
   "execution_count": null,
   "metadata": {
    "collapsed": false
   },
   "outputs": [],
   "source": [
    "a = 3\n",
    "b = 4\n",
    "print(a + b)"
   ]
  },
  {
   "cell_type": "code",
   "execution_count": null,
   "metadata": {
    "collapsed": false
   },
   "outputs": [],
   "source": [
    "list_of_numbers = [1, 2, 3]\n",
    "list_sum = 0\n",
    "# A basic for loop\n",
    "for number in list_of_numbers:\n",
    "    list_sum = list_sum + number\n",
    "\n",
    "print(\"Sum of list is\", list_sum)"
   ]
  },
  {
   "cell_type": "markdown",
   "metadata": {},
   "source": [
    "Note that `print` is a *function* for which the arguments are enclosed in parentheses.  We'll be using a variety of functions in this lesson.  Note that you can import functions from libraries and modules you have installed.  For example, from the math library, you might want to import the sine function:"
   ]
  },
  {
   "cell_type": "code",
   "execution_count": null,
   "metadata": {
    "collapsed": true
   },
   "outputs": [],
   "source": [
    "from math import cos"
   ]
  },
  {
   "cell_type": "markdown",
   "metadata": {},
   "source": [
    "You can find information about functions and modules via the following commands in the jupyter notebook.  Use the built-in function `help` to print information about a function or object.  Using the question mark will print a tooltip at the bottom of the screen.  I tend to use the `shift+tab` command while the cursor is inside of a function call's parentheses most regularly."
   ]
  },
  {
   "cell_type": "code",
   "execution_count": null,
   "metadata": {
    "collapsed": false
   },
   "outputs": [],
   "source": [
    "help(cos)\n",
    "cos?\n",
    "cos(5) # press shift+tab with the cursor inside the parentheses"
   ]
  },
  {
   "cell_type": "markdown",
   "metadata": {},
   "source": [
    "Python has a rich ecosystem of packages, of which pymatgen is one, that are accessible via both the conda and python package index software managers.  Some of the most popular include **numpy** (for matrix/vector numerical operations), **scipy** (for various scientific computing tools, including ODEs, numerical optimization), **matplotlib** (for plotting), and **pandas** (for dataframe-based analysis akin to R).  The following links might be useful, if you're interested in learning more about python or scientific computing using python generally.\n",
    "\n",
    "* [PyPI - the Python Package Index](https://pypi.python.org/pypi)\n",
    "* [Scipy and Numpy documentation](https://docs.scipy.org/doc/)\n",
    "* [Matplotlib examples](http://matplotlib.org/gallery.html)\n",
    "* [A gallery of interesting notebooks](https://github.com/ipython/ipython/wiki/A-gallery-of-interesting-IPython-Notebooks)\n"
   ]
  },
  {
   "cell_type": "markdown",
   "metadata": {},
   "source": [
    "# Pymatgen core functionality\n",
    "\n",
    "Pymatgen is the code that powers all of the analysis that's used in the Materials Project.  It includes a robust and efficient libraries for the handling of structures and molecules, in addition to various mathematical and scientific tools for the handling and generation of materials data.  Here are a few things you can do with pymatgen:\n",
    "\n",
    "- Create, identify, and manipulate crystal structures and molecules\n",
    "- Write input and output files for most electronic structure codes\n",
    "- Analyze density of states, XRD spectra, and bandstructure data\n",
    "- Tensor-based analysis, including Elastic and Piezoelectric tensors\n",
    "- Analysis of the local chemical environment of structural sites\n",
    "- Create pourbaix and phase diagrams\n",
    "- Match substrates based on geometry and elastic behavior\n",
    "- Create and manipulate surfaces\n",
    "- Do unit conversions\n",
    "- Get basic information about chemical identity\n",
    "- Estimate the cost of a material based on chemical abundance"
   ]
  },
  {
   "cell_type": "markdown",
   "metadata": {},
   "source": [
    "## Structures, sites, and lattices\n",
    "\n",
    "Most of the fundamentals of pymatgen are expressed in the Structure and Lattice objects.  These objects contain data on the lattice parameters and the location of individual sites within lattices.  Let's start by importing those objects."
   ]
  },
  {
   "cell_type": "code",
   "execution_count": 1,
   "metadata": {
    "collapsed": false
   },
   "outputs": [],
   "source": [
    "from pymatgen import Structure, Lattice, Molecule"
   ]
  },
  {
   "cell_type": "markdown",
   "metadata": {},
   "source": [
    "The general lattice constructor takes a 3x3 array as it's argument, which consists of the vectors that compose the unit cell.  There are also convenience constructors that allow you to construct lattices from lengths and angles, as well as from specific crystal systems with appropriate input parameters."
   ]
  },
  {
   "cell_type": "code",
   "execution_count": 2,
   "metadata": {
    "collapsed": false
   },
   "outputs": [
    {
     "name": "stdout",
     "output_type": "stream",
     "text": [
      "('a = ', 2.7999999999999998)\n",
      "('alpha = ', 90.0)\n",
      "('volume = ', 21.951999999999995)\n"
     ]
    }
   ],
   "source": [
    "# Making lattices\n",
    "lattice = Lattice([[2.8, 0, 0], [0, 2.8, 0], [0, 0, 2.8]])\n",
    "lattice = Lattice.from_lengths_and_angles([2.8, 2.8, 2.8], [90, 90, 90])\n",
    "lattice.cubic(2.8)\n",
    "\n",
    "lattice.hexagonal(a = 2.8, c = 3.6)\n",
    "lattice.rhombohedral(a = 2.8, alpha = 60)\n",
    "\n",
    "# Getting lattice info\n",
    "print(\"a = \", lattice.a)\n",
    "print(\"alpha = \", lattice.alpha)\n",
    "print(\"volume = \", lattice.volume)"
   ]
  },
  {
   "cell_type": "markdown",
   "metadata": {},
   "source": [
    "Structures objects are lattices with the addition of contained species.  Structures are constructed from a lattice, a list of species, and a list of coordinates that correspond to each species.  Note that species in this string can contain occupancies (and sometimes must in order to use other tools!).  You can also create structures from spacegroups, and from cif files."
   ]
  },
  {
   "cell_type": "code",
   "execution_count": 3,
   "metadata": {
    "collapsed": false
   },
   "outputs": [
    {
     "name": "stdout",
     "output_type": "stream",
     "text": [
      "Full Formula (Fe2)\n",
      "Reduced Formula: Fe\n",
      "abc   :   2.800000   2.800000   2.800000\n",
      "angles:  90.000000  90.000000  90.000000\n",
      "Sites (2)\n",
      "  #  SP      a    b    c\n",
      "---  ----  ---  ---  ---\n",
      "  0  Fe    0    0    0\n",
      "  1  Fe    0.5  0.5  0.5\n"
     ]
    },
    {
     "data": {
      "text/plain": [
       "u'Nb16 O40'"
      ]
     },
     "execution_count": 3,
     "metadata": {},
     "output_type": "execute_result"
    }
   ],
   "source": [
    "# Making structures\n",
    "bcc_fe = Structure(lattice, [\"Fe\", \"Fe\"], [[0, 0, 0], [0.5, 0.5, 0.5]])\n",
    "site0 = bcc_fe[0]\n",
    "site0.coords\n",
    "site0.species_string\n",
    "site0.x\n",
    "\n",
    "bcc_fe = Structure.from_spacegroup(\"Im-3m\", Lattice.cubic(2.8), [\"Fe\"], [[0, 0, 0]])\n",
    "print(bcc_fe)\n",
    "nacl= Structure.from_spacegroup(\"Fm-3m\", Lattice.cubic(5.692), [\"Na+\", \"Cl-\"], \n",
    "                                [[0, 0, 0], [0.5, 0.5, 0.5]])\n",
    "big_structure = Structure.from_file(\"Nb2O5.cif\")\n",
    "big_structure.formula"
   ]
  },
  {
   "cell_type": "markdown",
   "metadata": {},
   "source": [
    "Disordered structures can also be constructed using dictionaries that correspond to the species and its occupancy."
   ]
  },
  {
   "cell_type": "code",
   "execution_count": 4,
   "metadata": {
    "collapsed": false
   },
   "outputs": [
    {
     "name": "stdout",
     "output_type": "stream",
     "text": [
      "Full Formula (Cu2 Au2)\n",
      "Reduced Formula: CuAu\n",
      "abc   :   3.677000   3.677000   3.677000\n",
      "angles:  90.000000  90.000000  90.000000\n",
      "Sites (4)\n",
      "  #  SP                        a    b    c\n",
      "---  ----------------------  ---  ---  ---\n",
      "  0  Cu0+:0.500, Au0+:0.500  0    0    0\n",
      "  1  Cu0+:0.500, Au0+:0.500  0    0.5  0.5\n",
      "  2  Cu0+:0.500, Au0+:0.500  0.5  0    0.5\n",
      "  3  Cu0+:0.500, Au0+:0.500  0.5  0.5  0\n"
     ]
    }
   ],
   "source": [
    "# Making disordered structures\n",
    "specie = {\"Cu0+\": 0.5, \"Au0+\":0.5}\n",
    "cu_au = Structure.from_spacegroup(\"Fm-3m\", Lattice.cubic(3.677), [specie], [[0, 0, 0]])\n",
    "print(cu_au)"
   ]
  },
  {
   "cell_type": "markdown",
   "metadata": {},
   "source": [
    "You can also assign site properties flexibly, and some site properties, like `selective_dynamics` will be used in other methods, such as writing a file to POSCAR."
   ]
  },
  {
   "cell_type": "code",
   "execution_count": 10,
   "metadata": {
    "collapsed": false
   },
   "outputs": [],
   "source": [
    "# Manipulating structures and assigning properties to sites\n",
    "big_structure[0] = \"V\"\n",
    "big_structure.formula\n",
    "big_structure[0] = \"Nb\"\n",
    "\n",
    "bcc_fe.append(\"C\", [0.25, 0.25, 0.25])\n",
    "bcc_fe.pop(-1)\n",
    "bcc_fe.make_supercell([2, 2, 2])\n",
    "\n",
    "sd = []\n",
    "names = []\n",
    "for site in big_structure:\n",
    "    if site.species_string == \"Nb\":\n",
    "        sd.append([False, False, False])\n",
    "    else:\n",
    "        sd.append([True, True, True])\n",
    "big_structure.add_site_property(\"selective_dynamics\", sd)\n",
    "big_structure.to(filename=\"POSCAR\")"
   ]
  },
  {
   "cell_type": "markdown",
   "metadata": {},
   "source": [
    "**Visualization**: note that pymatgen has a visualization package that requires VTK to run.  We also have a notebook viewing tool, which we'll use here."
   ]
  },
  {
   "cell_type": "code",
   "execution_count": 8,
   "metadata": {
    "collapsed": true
   },
   "outputs": [],
   "source": [
    "from pymatgen.vis.structure_chemview import quick_view"
   ]
  },
  {
   "cell_type": "code",
   "execution_count": 9,
   "metadata": {
    "collapsed": false
   },
   "outputs": [
    {
     "data": {
      "application/vnd.jupyter.widget-view+json": {
       "model_id": "b7f1588258ed41e4919730d6e80914f7"
      }
     },
     "metadata": {},
     "output_type": "display_data"
    }
   ],
   "source": [
    "quick_view(nacl)"
   ]
  },
  {
   "cell_type": "markdown",
   "metadata": {},
   "source": [
    "### Exercise 1: \n",
    "\n",
    "You're studying materials used in the chlor-alkali process for the production of Cl<sub>2</sub>.  Find your favorite oxide using the materials project rester.  Replace each oxygen atom with chlorine."
   ]
  },
  {
   "cell_type": "code",
   "execution_count": 11,
   "metadata": {
    "collapsed": false
   },
   "outputs": [
    {
     "data": {
      "text/plain": [
       "Structure Summary\n",
       "Lattice\n",
       "    abc : 5.7177236999999996 5.7177236999999996 4.8239612200000002\n",
       " angles : 90.0 90.0 119.99999998\n",
       " volume : 136.57800651282531\n",
       "      A : 5.7177236999999996 0.0 3.5010960138069804e-16\n",
       "      B : -2.8588618482715322 4.9516939770182855 3.5010960138069804e-16\n",
       "      C : 0.0 0.0 4.8239612200000002\n",
       "PeriodicSite: Ba (2.8589, 1.6506, 1.2060) [0.6667, 0.3333, 0.2500]\n",
       "PeriodicSite: Ba (-0.0000, 3.3011, 3.6180) [0.3333, 0.6667, 0.7500]\n",
       "PeriodicSite: Ni (0.0000, 0.0000, 2.4120) [0.0000, 0.0000, 0.5000]\n",
       "PeriodicSite: Ni (0.0000, 0.0000, 0.0000) [0.0000, 0.0000, 0.0000]\n",
       "PeriodicSite: O (2.8589, 3.5012, 3.6180) [0.8535, 0.7071, 0.7500]\n",
       "PeriodicSite: O (-1.6027, 4.2264, 1.2060) [0.1465, 0.8535, 0.2500]\n",
       "PeriodicSite: O (1.6027, 4.2264, 1.2060) [0.7071, 0.8535, 0.2500]\n",
       "PeriodicSite: O (1.2562, 0.7253, 3.6180) [0.2929, 0.1465, 0.7500]\n",
       "PeriodicSite: O (0.0000, 1.4505, 1.2060) [0.1465, 0.2929, 0.2500]\n",
       "PeriodicSite: O (4.4615, 0.7253, 3.6180) [0.8535, 0.1465, 0.7500]"
      ]
     },
     "execution_count": 11,
     "metadata": {},
     "output_type": "execute_result"
    }
   ],
   "source": [
    "from pymatgen import MPRester\n",
    "mpr = MPRester()\n",
    "# Potential solution:\n",
    "structure = Structure.from_file(\"BaNiO3.cif\")\n",
    "for n in range(structure.num_sites):\n",
    "    if structure[n].species_string == 'O':\n",
    "        structure[n] = 'Cl'\n",
    "\n",
    "# Bonus solution\n",
    "structure.replace_species({'Cl':'O'})\n",
    "structure"
   ]
  },
  {
   "cell_type": "markdown",
   "metadata": {},
   "source": [
    "---------\n",
    "## Input/Output"
   ]
  },
  {
   "cell_type": "markdown",
   "metadata": {},
   "source": [
    "Pymatgen has extensive I/O capabilities for both structures and files for electronic structure codes, including a native serialization format for nearly all of its core classes.  This means pymatgen objects can be very easily inserted into a Mongo-style collection, which we'll discuss more later.  Structure and molecule objects can be output into both friendly serialization formats (json, yaml) and a number of standard file formats automatically.  For molecules, this includes any file format supported by OpenBabel, assuming you have that dependency installed."
   ]
  },
  {
   "cell_type": "code",
   "execution_count": 12,
   "metadata": {
    "collapsed": false,
    "scrolled": true
   },
   "outputs": [],
   "source": [
    "bcc_fe.to(\"bcc_fe.cif\")\n",
    "bcc_fe.to(filename=\"bcc_fe.cif\")\n",
    "bcc_fe.to(filename=\"bcc_fe.json\")\n",
    "\n",
    "molecule = Molecule(['C', 'O'], [[0,0,0],[0, 0, 1.2]])\n",
    "molecule.to(filename=\"molecule.xyz\")"
   ]
  },
  {
   "cell_type": "markdown",
   "metadata": {},
   "source": [
    "The primary way that pymatgen serializes objects for file output is via another module named \"monty\" (the hidden complement to python), which has two functions that will put any object with a native `as_dict` method into a json or yaml file.  A number of classes have methods that will output their contents to a file, but some don't, so you can use monty.serialization.dumpfn and loadfn to output any object with a as_dict/from_dict to a file (or read it from a file).  Here are a few examples:"
   ]
  },
  {
   "cell_type": "code",
   "execution_count": 15,
   "metadata": {
    "collapsed": false
   },
   "outputs": [],
   "source": [
    "from monty.serialization import dumpfn, loadfn\n",
    "dumpfn(bcc_fe, \"bcc_fe.json\")\n",
    "new_struct = loadfn(\"bcc_fe.json\")\n",
    "bandstructure = loadfn(\"li2o_bs.json\")"
   ]
  },
  {
   "cell_type": "markdown",
   "metadata": {},
   "source": [
    "For electronic structure and MD, pymatgen has interfaces to the following codes and I/O formats:\n",
    "\n",
    "* abinit\n",
    "* exciting\n",
    "* feff\n",
    "* lammps\n",
    "* VASP\n",
    "* adf\n",
    "* aiida\n",
    "* ase\n",
    "* OpenBabel\n",
    "* cif\n",
    "* cssr\n",
    "* fiesta\n",
    "* gaussian\n",
    "* nwchem\n",
    "* phonopy\n",
    "* pwscf (Quantum Espresso)\n",
    "* qchem\n",
    "* xcrysden\n",
    "* xr\n",
    "* xyz\n",
    "* zeopp"
   ]
  },
  {
   "cell_type": "markdown",
   "metadata": {},
   "source": [
    "Since the majority of the data hosted on the materials project is determined using VASP, we'll walk you through the VASP io module in pymatgen.  Most input and output files in pymatgen have their own associated object, contained in pymatgen.io.vasp.inputs or pymatgen.io.vasp.outputs.  However, the main way in which pymatgen generates input for vasp calculations is via the input sets, contained in pymatgen.io.vasp.sets, which define vasp input parameters for a given calculation equivalent to what has been used to generate data on the materials project.  There are a number of input sets, which each have different parameters, but the main one we use for structure optimization is called the MPRelaxSet."
   ]
  },
  {
   "cell_type": "code",
   "execution_count": null,
   "metadata": {
    "collapsed": false
   },
   "outputs": [],
   "source": [
    "from pymatgen.io.vasp.sets import MPRelaxSet\n",
    "vis = MPRelaxSet(nacl)\n",
    "vis.write_input(\"vasp_input\")"
   ]
  },
  {
   "cell_type": "code",
   "execution_count": null,
   "metadata": {
    "collapsed": false
   },
   "outputs": [],
   "source": [
    "!ls vasp_input/"
   ]
  },
  {
   "cell_type": "markdown",
   "metadata": {},
   "source": [
    "The MPRelaxSet has a number of convenient features, including automatically setting MAGMOMS, LDAUU values, and scaling k-points to a density.  Most of the customizations you might add on top of our set can be achieved using user_incar_settings:"
   ]
  },
  {
   "cell_type": "code",
   "execution_count": null,
   "metadata": {
    "collapsed": false
   },
   "outputs": [],
   "source": [
    "vis = MPRelaxSet(nacl, user_incar_settings={\"ISYM\": 0})\n",
    "vis.write_input(\"vasp_input_2\")\n",
    "!diff vasp_input/INCAR vasp_input_2/INCAR"
   ]
  },
  {
   "cell_type": "markdown",
   "metadata": {},
   "source": [
    "We're not going to discuss VASP input and output any further because you may not use VASP for your work, and because we'll be covering ways in which you can automate all of this using workflows is tomorrow's morning session, but there are a number of very sophisticated methods for parsing outputs, and a number of other input sets you can use for more specific calculations like HSE bandstructure runs, slab calculations, and native vasp elastic calculations."
   ]
  },
  {
   "cell_type": "markdown",
   "metadata": {},
   "source": [
    "---------\n",
    "## SymmetryAnalyzer and Operations\n",
    "\n",
    "In addition to bookkeeping of structures using Structure objects, pymatgen contains powerful tools for analyzing crystal symmetry and comparing structures.  The SymmetryAnalyzer object is essentially a wrapper around spglib, which is written in c for more efficient determination of invariant symmetry operations and thus crystal symmetry.  The symmetry analyzer can be used to get primitive and standardized conventional cell settings of structures."
   ]
  },
  {
   "cell_type": "code",
   "execution_count": null,
   "metadata": {
    "collapsed": false
   },
   "outputs": [],
   "source": [
    "# Get primitive structure of BCC iron\n",
    "from pymatgen.symmetry.analyzer import SpacegroupAnalyzer, PointGroupAnalyzer\n",
    "sga = SpacegroupAnalyzer(bcc_fe)\n",
    "prim = sga.get_primitive_standard_structure() # Note only a single site\n",
    "sga.get_conventional_standard_structure()\n",
    "print(\"Crystal system:\", sga.get_crystal_system())\n",
    "print(\"Spacegroup symbol:\", sga.get_space_group_symbol())"
   ]
  },
  {
   "cell_type": "markdown",
   "metadata": {},
   "source": [
    "ops = sga.get_space_group_operations()"
   ]
  },
  {
   "cell_type": "code",
   "execution_count": null,
   "metadata": {
    "collapsed": false
   },
   "outputs": [],
   "source": [
    "pga = PointGroupAnalyzer(molecule)\n",
    "pga.get_pointgroup()\n",
    "pga.get_pointgroup()"
   ]
  },
  {
   "cell_type": "markdown",
   "metadata": {},
   "source": [
    "--------\n",
    "## XRD, Bandstructure, and Density of States\n",
    "\n",
    "Pymatgen has various tools that allow for the analysis and plotting of structural and electronic information.  The XRDCalculator is perhaps the most straightforward of these tools, since it only requires a structure object."
   ]
  },
  {
   "cell_type": "code",
   "execution_count": null,
   "metadata": {
    "collapsed": false
   },
   "outputs": [],
   "source": [
    "from pymatgen.analysis.diffraction.xrd import XRDCalculator, ATOMIC_SCATTERING_PARAMS\n",
    "XRDCalculator.AVAILABLE_RADIATION\n",
    "xrdc = XRDCalculator()\n",
    "big_xrd = xrdc.get_xrd_data(big_structure)"
   ]
  },
  {
   "cell_type": "code",
   "execution_count": null,
   "metadata": {
    "collapsed": false
   },
   "outputs": [],
   "source": [
    "%matplotlib inline\n",
    "xrdc.show_xrd_plot(nacl)"
   ]
  },
  {
   "cell_type": "markdown",
   "metadata": {},
   "source": [
    " ### Exercise 3: XRD spectra of Li<sub>x</sub>Si<sub>y</sub>\n",
    " \n",
    "Your experimental collaborator finds an interesting Li-S cathode and performs powder XRD on it, resulting in the spectra below.  Identify the structure using the pymatgen XRD calculator.\n",
    "![LiS XRD](LiS_XRD.png)\n"
   ]
  },
  {
   "cell_type": "code",
   "execution_count": null,
   "metadata": {
    "collapsed": false
   },
   "outputs": [],
   "source": [
    "lis_structures = loadfn(\"li_s_structure.json\")\n",
    "data = xrdc.get_xrd_data(lis_structures[0], two_theta_range=[10,80])\n",
    "for n, lis_structure in enumerate(lis_structures):\n",
    "    data = xrdc.get_xrd_data(lis_structure, two_theta_range=[10,80])\n",
    "    if len(data) == 8:\n",
    "        print(lis_structure)\n",
    "    xrdc.show_xrd_plot(lis_structure)"
   ]
  },
  {
   "cell_type": "markdown",
   "metadata": {},
   "source": [
    "### Exercise 4: Electronic structure of TiO<sub>2</sub>"
   ]
  },
  {
   "cell_type": "code",
   "execution_count": null,
   "metadata": {
    "collapsed": false
   },
   "outputs": [],
   "source": [
    "from pymatgen.analysis.diffraction.xrd import XRDCalculator\n",
    "from pymatgen.electronic_structure.plotter import BSPlotter, DosPlotter\n",
    "from pymatgen.electronic_structure.core import OrbitalType\n",
    "\n",
    "bs = mpr.get_bandstructure_by_material_id(\"mp-2657\")\n",
    "print(bs.get_band_gap())\n",
    "plotter=BSPlotter(bs)\n",
    "#plotter.get_plot().show()\n",
    "#plotter.plot_brillouin()\n",
    "\n",
    "dos = mpr.get_dos_by_material_id(\"mp-2657\")\n",
    "dp = DosPlotter()\n",
    "dos_ti = dos.get_element_spd_dos(\"Ti\")\n",
    "dos_o = dos.get_element_spd_dos(\"O\")\n",
    "dp.add_dos(\"O p-states\", dos_o[OrbitalType.p])\n",
    "dp.add_dos(\"Ti d-states\", dos_ti[OrbitalType.d])\n",
    "#dp.get_plot().show()"
   ]
  },
  {
   "cell_type": "markdown",
   "metadata": {},
   "source": [
    "## Tensors"
   ]
  },
  {
   "cell_type": "markdown",
   "metadata": {
    "collapsed": true
   },
   "source": [
    "### Exercise 5:\n",
    "\n",
    "Fit a \"noisy\" tensor to a particular crystal structure"
   ]
  },
  {
   "cell_type": "code",
   "execution_count": null,
   "metadata": {
    "collapsed": false
   },
   "outputs": [],
   "source": [
    "import json\n",
    "import numpy as np\n",
    "from pymatgen.analysis.elasticity.elastic import ElasticTensor\n",
    "data = json.load(open(\"sample_elastic.json\"))\n",
    "si_struct = Structure.from_dict(data[0])\n",
    "et = ElasticTensor.from_voigt(data[1])\n",
    "\n",
    "print(np.array(data[1]))\n",
    "et.fit_to_structure(si_struct).voigt.round(2)"
   ]
  },
  {
   "cell_type": "markdown",
   "metadata": {},
   "source": [
    "## Surfaces"
   ]
  },
  {
   "cell_type": "markdown",
   "metadata": {
    "collapsed": true
   },
   "source": [
    "### Generate all of the low-index facets for BCC Fe"
   ]
  },
  {
   "cell_type": "code",
   "execution_count": null,
   "metadata": {
    "collapsed": false
   },
   "outputs": [],
   "source": [
    "from pymatgen.symmetry.analyzer import SpacegroupAnalyzer\n",
    "from pymatgen.core.surface import generate_all_slabs\n",
    "lattice = Lattice.cubic(2.85)\n",
    "structure = Structure(lattice, [\"Fe\", \"Fe\"],\n",
    "                      [[0, 0, 0], [0.5, 0.5, 0.5]])\n",
    "\n",
    "slabs = generate_all_slabs(structure, 1, 4, 10)\n",
    "first_slab = slabs[0]\n",
    "first_slab.miller_index\n",
    "for slab in slabs:\n",
    "    print slab.miller_index\n",
    "\n",
    "quick_view(slab)"
   ]
  },
  {
   "cell_type": "markdown",
   "metadata": {
    "collapsed": true
   },
   "source": [
    "# Summary"
   ]
  },
  {
   "cell_type": "markdown",
   "metadata": {},
   "source": [
    "This notebook is intended to provide a short introduction to some of the functionality of pymatgen. Pourbaix diagram and phase diagram generation require a bit more in-depth use of the API, and we don't have time to cover that here, but you can find additional examples [here](http://pymatgen.org/examples.html).\n",
    "\n",
    "In conclusion, I'd like to note that pymatgen development is ongoing and encourage you to get involved.  We have a [git repository](www.github.com/materialsproject/pymatgen), which you can clone/fork to customize the code.I'd encourage anyone interested in computational materials science to get a basic sense of how contributing to an open-source repository works.  You basically create a copy of the repository on github (i. e. a fork), make changes there, and submit them in what's called a pull request."
   ]
  }
 ],
 "metadata": {
  "kernelspec": {
   "display_name": "Python 2",
   "language": "python",
   "name": "python2"
  },
  "language_info": {
   "codemirror_mode": {
    "name": "ipython",
    "version": 2
   },
   "file_extension": ".py",
   "mimetype": "text/x-python",
   "name": "python",
   "nbconvert_exporter": "python",
   "pygments_lexer": "ipython2",
   "version": "2.7.13"
  }
 },
 "nbformat": 4,
 "nbformat_minor": 0
}
