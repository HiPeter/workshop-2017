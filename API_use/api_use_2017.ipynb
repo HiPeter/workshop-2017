{
 "cells": [
  {
   "cell_type": "markdown",
   "metadata": {
    "deletable": true,
    "editable": true
   },
   "source": [
    "# The Materials API\n",
    "\n",
    "### Presented by: John Dagdelen"
   ]
  },
  {
   "cell_type": "markdown",
   "metadata": {
    "deletable": true,
    "editable": true
   },
   "source": [
    "In this module, we will learn how to interact with the Materials Project database and go through some practical exaples of combining our own code with MP data to uncover new materials insights. We will do this through the Materials API (MAPI), which is an open API for accessing Materials Project data based on [Representational state transfer (REST)](https://en.wikipedia.org/wiki/Representational_state_transfer) principles.\n",
    "\n",
    "In this module, we cover:\n",
    "\n",
    "* The Materials Project API (MAPI).\n",
    "* Getting your Materials Project API key.\n",
    "* The `pymatgen.MPRester` built-ins.\n",
    "* The `MPRester.query` method for accessing the MP database.\n",
    "* The [mapidoc](https://github.com/materialsproject/mapidoc) (Materials Project documentation) repository.\n",
    "* Accessing the API more directly, with plain HTTP requests, via the Python `requests` library. (Is this important for the MP Workshop?)\n",
    "* Examples of API usage to get chemical system entries for generating phase diagrams and calculating reaction energies. (change this?)"
   ]
  },
  {
   "cell_type": "markdown",
   "metadata": {},
   "source": [
    "## Section 0: Getting an API key\n",
    "\n",
    "The first step to getting started with the API is to get an API key. API keys are unique identifiers that are used to track and control how the API is being used. \n",
    "\n",
    "To get yours, go to the dashboard page on the Materials Project website (https://materialsproject.org/dashboard). Click the 'Generate API key' button and copy the string under the button; this is your API key.\n",
    "\n",
    "Paste your key in as the value inside the quotation marks (\"\") below, which will assign it the environment variable name MAPI_KEY."
   ]
  },
  {
   "cell_type": "code",
   "execution_count": 11,
   "metadata": {
    "collapsed": false,
    "deletable": true,
    "editable": true
   },
   "outputs": [],
   "source": [
    "import os\n",
    "os.environ['MAPI_KEY'] = \"PASTE YOUR API KEY HERE\"\n",
    "# os.environ['MAPI_KEY'] = \"Mw5HXJN7sRfVADEl\"\n",
    "\n",
    "# # MAPI_KEY = \"PASTE YOUR API KEY HERE\"\n",
    "# MAPI_KEY = \"Mw5HXJN7sRfVADEl\""
   ]
  },
  {
   "cell_type": "markdown",
   "metadata": {
    "deletable": true,
    "editable": true
   },
   "source": [
    "## Section 1: The MPRester\n",
    "\n",
    "In this section we will:\n",
    "\n",
    "* Open the pymatgen.MPRester web documentation.\n",
    "* Create our first instance of an MPRester object.\n",
    "* Get our feet wet with calling a few of the MPRester's \"specialty\" methods.\n",
    "* Introduce the powerful `query` method. \n",
    "\n"
   ]
  },
  {
   "cell_type": "markdown",
   "metadata": {},
   "source": [
    "#### Background and Documentation\n",
    "\n",
    "REST is a widely used type of standardization that allows different computer systems to work together. In RESTful systems, information is organized into resources, each of which is uniquely identified via a uniform resource identifier (URI). Since MAPI is a RESTful system, users can interact with the MP database regardless of their computer system or programming language (as long as it supports basic http requests.)\n",
    "\n",
    "[NOTE: Should we do an example using the requests library before or after introducing the MPRester?]\n",
    "\n",
    "To facilitate researchers in using our API, we implemented a convenient wrapper for it in the Python Materials Genomics (pymatgen) library called the `MPRester`. You can find the relevant pymatgen documentation for it [here](http://pymatgen.org/pymatgen.ext.matproj.html?highlight=mprester#pymatgen.ext.matproj.MPRester).\n",
    "\n"
   ]
  },
  {
   "cell_type": "markdown",
   "metadata": {},
   "source": [
    "#### Starting up an instance of the MPRester\n",
    "\n",
    "We'll create an instance of the MPRester object using our API key as an input argument. (Note for power-users: If you add \"PMG_MAPI_KEY: [your API key]\" to your .pmgrc.yaml file, you can skip filling in this argument in the future.) "
   ]
  },
  {
   "cell_type": "code",
   "execution_count": 22,
   "metadata": {
    "collapsed": true
   },
   "outputs": [],
   "source": [
    "from pymatgen import MPRester\n",
    "\n",
    "# mpr = MPRester() # object for connecting to MP REST interface\n",
    "mpr = MPRester(MAPI_KEY) # object for connecting to MP REST interface"
   ]
  },
  {
   "cell_type": "code",
   "execution_count": 34,
   "metadata": {
    "collapsed": true
   },
   "outputs": [],
   "source": [
    "all_SiO2_structures = mpr.get_structures(\"SiO2\")\n"
   ]
  },
  {
   "cell_type": "code",
   "execution_count": 33,
   "metadata": {
    "collapsed": false
   },
   "outputs": [
    {
     "name": "stdout",
     "output_type": "stream",
     "text": [
      "2883\n"
     ]
    }
   ],
   "source": [
    "print(len(all_SiO2_structures))"
   ]
  },
  {
   "cell_type": "markdown",
   "metadata": {
    "deletable": true,
    "editable": true
   },
   "source": [
    "## `mapidoc` repo\n",
    "* Go over first part of README\n",
    "* examples of MongoDB syntax\n",
    "* search for properties, more MongoDB syntax\n",
    "* Go over remainder of README -- examples of not using pymatgen for API queries"
   ]
  },
  {
   "cell_type": "markdown",
   "metadata": {
    "deletable": true,
    "editable": true
   },
   "source": [
    "## generating phase diagrams - plotting, calculating phase equilibria properties\n",
    "\n",
    "examples from hackingmaterials.com and pymatgen.org"
   ]
  },
  {
   "cell_type": "code",
   "execution_count": 12,
   "metadata": {
    "collapsed": false,
    "deletable": true,
    "editable": true
   },
   "outputs": [],
   "source": [
    "%matplotlib inline\n",
    "\n",
    "from pymatgen import MPRester\n",
    "from pymatgen.entries.compatibility import MaterialsProjectCompatibility\n",
    "from pymatgen.phasediagram.analyzer import PDAnalyzer\n",
    "from pymatgen.phasediagram.maker import PhaseDiagram\n",
    "from pymatgen.phasediagram.plotter import PDPlotter"
   ]
  },
  {
   "cell_type": "code",
   "execution_count": 13,
   "metadata": {
    "collapsed": true,
    "deletable": true,
    "editable": true
   },
   "outputs": [],
   "source": [
    "system = [\"Fe\", \"P\"]"
   ]
  },
  {
   "cell_type": "markdown",
   "metadata": {
    "deletable": true,
    "editable": true
   },
   "source": [
    "Set energy corrections and +U/pseudopotential choice:"
   ]
  },
  {
   "cell_type": "code",
   "execution_count": 15,
   "metadata": {
    "collapsed": true,
    "deletable": true,
    "editable": true
   },
   "outputs": [],
   "source": [
    "compat = MaterialsProjectCompatibility()"
   ]
  },
  {
   "cell_type": "markdown",
   "metadata": {
    "deletable": true,
    "editable": true
   },
   "source": [
    "Create phase diagram by fetching unprocessed entries from MP,"
   ]
  },
  {
   "cell_type": "code",
   "execution_count": 16,
   "metadata": {
    "collapsed": false,
    "deletable": true,
    "editable": true
   },
   "outputs": [],
   "source": [
    "unprocessed_entries = mpr.get_entries_in_chemsys(system)"
   ]
  },
  {
   "cell_type": "markdown",
   "metadata": {
    "deletable": true,
    "editable": true
   },
   "source": [
    "filtering and adding energy corrections,"
   ]
  },
  {
   "cell_type": "code",
   "execution_count": 17,
   "metadata": {
    "collapsed": false,
    "deletable": true,
    "editable": true
   },
   "outputs": [],
   "source": [
    "processed_entries = compat.process_entries(unprocessed_entries)"
   ]
  },
  {
   "cell_type": "markdown",
   "metadata": {
    "deletable": true,
    "editable": true
   },
   "source": [
    "and, finally, instantiating a Phase Diagram object from thge processed entries:"
   ]
  },
  {
   "cell_type": "code",
   "execution_count": 18,
   "metadata": {
    "collapsed": true,
    "deletable": true,
    "editable": true
   },
   "outputs": [],
   "source": [
    "pd = PhaseDiagram(processed_entries)"
   ]
  },
  {
   "cell_type": "markdown",
   "metadata": {
    "deletable": true,
    "editable": true
   },
   "source": [
    "Let's plot the phase diagram."
   ]
  },
  {
   "cell_type": "code",
   "execution_count": 19,
   "metadata": {
    "collapsed": false,
    "deletable": true,
    "editable": true
   },
   "outputs": [
    {
     "data": {
      "image/png": "[encoded data removed]",
      "text/plain": [
       "<matplotlib.figure.Figure at 0x116cc7978>"
      ]
     },
     "metadata": {},
     "output_type": "display_data"
    }
   ],
   "source": [
    "plotter = PDPlotter(pd, show_unstable=0)\n",
    "plotter.show()"
   ]
  },
  {
   "cell_type": "code",
   "execution_count": 20,
   "metadata": {
    "collapsed": false,
    "deletable": true,
    "editable": true
   },
   "outputs": [
    {
     "data": {
      "image/png": "[encoded data removed]",
      "text/plain": [
       "<matplotlib.figure.Figure at 0x119781a90>"
      ]
     },
     "metadata": {},
     "output_type": "display_data"
    }
   ],
   "source": [
    "plotter = PDPlotter(pd, show_unstable=0.100)\n",
    "plotter.show()"
   ]
  },
  {
   "cell_type": "markdown",
   "metadata": {
    "deletable": true,
    "editable": true
   },
   "source": [
    "Let's analyze the phase diagram to list stable and unstable entries."
   ]
  },
  {
   "cell_type": "code",
   "execution_count": 26,
   "metadata": {
    "collapsed": true,
    "deletable": true,
    "editable": true
   },
   "outputs": [],
   "source": [
    "pda = PDAnalyzer(pd)"
   ]
  },
  {
   "cell_type": "markdown",
   "metadata": {
    "deletable": true,
    "editable": true
   },
   "source": [
    "A table of stable entries:"
   ]
  },
  {
   "cell_type": "code",
   "execution_count": 36,
   "metadata": {
    "collapsed": false,
    "deletable": true,
    "editable": true
   },
   "outputs": [
    {
     "name": "stdout",
     "output_type": "stream",
     "text": [
      "Fe3P\tmp-18708\n",
      "FeP2\tmp-20027\n",
      "Fe\tmp-13\n",
      "P\tmp-568348\n",
      "FeP\tmp-1005\n",
      "Fe2P\tmp-778\n",
      "FeP4\tmp-570553\n"
     ]
    }
   ],
   "source": [
    "for e in pd.stable_entries:\n",
    "    print(\"{}\\t{}\".format(e.composition.reduced_formula, e.entry_id))"
   ]
  },
  {
   "cell_type": "markdown",
   "metadata": {
    "deletable": true,
    "editable": true
   },
   "source": [
    "Now, let's print a table of unstable entries, inlcuding their energy above hull and predicted decomposition. Since this is more involved display-wise, we'll use a handy and popular library for dealing with data frames and displaying them nicely inline."
   ]
  },
  {
   "cell_type": "code",
   "execution_count": 37,
   "metadata": {
    "collapsed": true,
    "deletable": true,
    "editable": true
   },
   "outputs": [],
   "source": [
    "from pandas import DataFrame"
   ]
  },
  {
   "cell_type": "code",
   "execution_count": 38,
   "metadata": {
    "collapsed": false,
    "deletable": true,
    "editable": true
   },
   "outputs": [
    {
     "ename": "NameError",
     "evalue": "name 'pda' is not defined",
     "output_type": "error",
     "traceback": [
      "\u001b[0;31m---------------------------------------------------------------------------\u001b[0m",
      "\u001b[0;31mNameError\u001b[0m                                 Traceback (most recent call last)",
      "\u001b[0;32m<ipython-input-38-e09d85419ab0>\u001b[0m in \u001b[0;36m<module>\u001b[0;34m()\u001b[0m\n\u001b[1;32m      3\u001b[0m \u001b[0mdata\u001b[0m \u001b[0;34m=\u001b[0m \u001b[0mcollections\u001b[0m\u001b[0;34m.\u001b[0m\u001b[0mdefaultdict\u001b[0m\u001b[0;34m(\u001b[0m\u001b[0mlist\u001b[0m\u001b[0;34m)\u001b[0m\u001b[0;34m\u001b[0m\u001b[0m\n\u001b[1;32m      4\u001b[0m \u001b[0;32mfor\u001b[0m \u001b[0me\u001b[0m \u001b[0;32min\u001b[0m \u001b[0mpd\u001b[0m\u001b[0;34m.\u001b[0m\u001b[0munstable_entries\u001b[0m\u001b[0;34m:\u001b[0m\u001b[0;34m\u001b[0m\u001b[0m\n\u001b[0;32m----> 5\u001b[0;31m     \u001b[0mdecomp\u001b[0m\u001b[0;34m,\u001b[0m \u001b[0mehull\u001b[0m \u001b[0;34m=\u001b[0m \u001b[0mpda\u001b[0m\u001b[0;34m.\u001b[0m\u001b[0mget_decomp_and_e_above_hull\u001b[0m\u001b[0;34m(\u001b[0m\u001b[0me\u001b[0m\u001b[0;34m)\u001b[0m\u001b[0;34m\u001b[0m\u001b[0m\n\u001b[0m\u001b[1;32m      6\u001b[0m     \u001b[0mdata\u001b[0m\u001b[0;34m[\u001b[0m\u001b[0;34m\"Materials ID\"\u001b[0m\u001b[0;34m]\u001b[0m\u001b[0;34m.\u001b[0m\u001b[0mappend\u001b[0m\u001b[0;34m(\u001b[0m\u001b[0me\u001b[0m\u001b[0;34m.\u001b[0m\u001b[0mentry_id\u001b[0m\u001b[0;34m)\u001b[0m\u001b[0;34m\u001b[0m\u001b[0m\n\u001b[1;32m      7\u001b[0m     \u001b[0mdata\u001b[0m\u001b[0;34m[\u001b[0m\u001b[0;34m\"Composition\"\u001b[0m\u001b[0;34m]\u001b[0m\u001b[0;34m.\u001b[0m\u001b[0mappend\u001b[0m\u001b[0;34m(\u001b[0m\u001b[0me\u001b[0m\u001b[0;34m.\u001b[0m\u001b[0mcomposition\u001b[0m\u001b[0;34m.\u001b[0m\u001b[0mreduced_formula\u001b[0m\u001b[0;34m)\u001b[0m\u001b[0;34m\u001b[0m\u001b[0m\n",
      "\u001b[0;31mNameError\u001b[0m: name 'pda' is not defined"
     ]
    }
   ],
   "source": [
    "import collections\n",
    "\n",
    "data = collections.defaultdict(list)\n",
    "for e in pd.unstable_entries:\n",
    "    decomp, ehull = pda.get_decomp_and_e_above_hull(e)\n",
    "    data[\"Materials ID\"].append(e.entry_id)\n",
    "    data[\"Composition\"].append(e.composition.reduced_formula)\n",
    "    data[\"Ehull\"].append(ehull)    \n",
    "    data[\"Decomposition\"].append(\n",
    "        \" + \".join([\"{:.2f} {} [{}]\".format(\n",
    "                    v, k.composition.reduced_formula, k.entry_id)\n",
    "                    for k, v in decomp.items()]))\n",
    "\n",
    "from pandas import DataFrame\n",
    "df = DataFrame(data, columns=[\n",
    "        \"Materials ID\", \"Composition\", \"Ehull\", \"Decomposition\"])\n",
    "\n",
    "df"
   ]
  },
  {
   "cell_type": "code",
   "execution_count": null,
   "metadata": {
    "collapsed": false,
    "deletable": true,
    "editable": true
   },
   "outputs": [],
   "source": [
    "mpr.query('mp-27164', ['e_above_hull'])"
   ]
  },
  {
   "cell_type": "markdown",
   "metadata": {
    "deletable": true,
    "editable": true
   },
   "source": [
    "Let's examine another chemical system: C-Ca-O."
   ]
  },
  {
   "cell_type": "code",
   "execution_count": 39,
   "metadata": {
    "collapsed": false,
    "deletable": true,
    "editable": true
   },
   "outputs": [
    {
     "name": "stderr",
     "output_type": "stream",
     "text": [
      "/Users/jdagdelen/anaconda/envs/mp/lib/python3.6/site-packages/numpy/linalg/linalg.py:1821: RuntimeWarning: invalid value encountered in det\n",
      "  r = _umath_linalg.det(a, signature=signature)\n"
     ]
    }
   ],
   "source": [
    "entries = mpr.get_entries_in_chemsys(['Ca', 'C', 'O'])\n",
    "pd = PhaseDiagram(compat.process_entries(entries))"
   ]
  },
  {
   "cell_type": "code",
   "execution_count": 44,
   "metadata": {
    "collapsed": false,
    "deletable": true,
    "editable": true
   },
   "outputs": [
    {
     "data": {
      "image/png": "[encoded data removed]",
      "text/plain": [
       "<matplotlib.figure.Figure at 0x1251a6ba8>"
      ]
     },
     "metadata": {},
     "output_type": "display_data"
    },
    {
     "data": {
      "image/png": "[encoded data removed]",
      "text/plain": [
       "<matplotlib.figure.Figure at 0x12533ab00>"
      ]
     },
     "metadata": {},
     "output_type": "display_data"
    }
   ],
   "source": [
    "plotter1 = PDPlotter(pd, show_unstable=False)\n",
    "plotter1.show()\n",
    "plotter2 = PDPlotter(pd, show_unstable=True)\n",
    "plotter2.show()"
   ]
  },
  {
   "cell_type": "code",
   "execution_count": 34,
   "metadata": {
    "collapsed": true,
    "deletable": true,
    "editable": true
   },
   "outputs": [],
   "source": [
    "pda = PDAnalyzer(pd)"
   ]
  },
  {
   "cell_type": "markdown",
   "metadata": {
    "deletable": true,
    "editable": true
   },
   "source": [
    "And let's print out all entries now, stable and unstable."
   ]
  },
  {
   "cell_type": "code",
   "execution_count": 35,
   "metadata": {
    "collapsed": false,
    "deletable": true,
    "editable": true
   },
   "outputs": [
    {
     "data": {
      "text/html": [
       "<div>\n",
       "<style>\n",
       "    .dataframe thead tr:only-child th {\n",
       "        text-align: right;\n",
       "    }\n",
       "\n",
       "    .dataframe thead th {\n",
       "        text-align: left;\n",
       "    }\n",
       "\n",
       "    .dataframe tbody tr th {\n",
       "        vertical-align: top;\n",
       "    }\n",
       "</style>\n",
       "<table border=\"1\" class=\"dataframe\">\n",
       "  <thead>\n",
       "    <tr style=\"text-align: right;\">\n",
       "      <th></th>\n",
       "      <th>Materials ID</th>\n",
       "      <th>Composition</th>\n",
       "      <th>Ehull</th>\n",
       "      <th>Decomposition</th>\n",
       "    </tr>\n",
       "  </thead>\n",
       "  <tbody>\n",
       "    <tr>\n",
       "      <th>0</th>\n",
       "      <td>mp-1023923</td>\n",
       "      <td>O2</td>\n",
       "      <td>1.004394</td>\n",
       "      <td>1.00 O2 [mp-12957]</td>\n",
       "    </tr>\n",
       "    <tr>\n",
       "      <th>1</th>\n",
       "      <td>mp-607540</td>\n",
       "      <td>O2</td>\n",
       "      <td>0.112355</td>\n",
       "      <td>1.00 O2 [mp-12957]</td>\n",
       "    </tr>\n",
       "    <tr>\n",
       "      <th>2</th>\n",
       "      <td>mp-610917</td>\n",
       "      <td>O2</td>\n",
       "      <td>0.023777</td>\n",
       "      <td>1.00 O2 [mp-12957]</td>\n",
       "    </tr>\n",
       "    <tr>\n",
       "      <th>3</th>\n",
       "      <td>mp-12957</td>\n",
       "      <td>O2</td>\n",
       "      <td>0.000000</td>\n",
       "      <td>1.00 O2 [mp-12957]</td>\n",
       "    </tr>\n",
       "    <tr>\n",
       "      <th>4</th>\n",
       "      <td>mp-611836</td>\n",
       "      <td>O2</td>\n",
       "      <td>0.013366</td>\n",
       "      <td>1.00 O2 [mp-12957]</td>\n",
       "    </tr>\n",
       "    <tr>\n",
       "      <th>5</th>\n",
       "      <td>mp-973916</td>\n",
       "      <td>O2</td>\n",
       "      <td>0.007882</td>\n",
       "      <td>1.00 O2 [mp-12957]</td>\n",
       "    </tr>\n",
       "    <tr>\n",
       "      <th>6</th>\n",
       "      <td>mp-560602</td>\n",
       "      <td>O2</td>\n",
       "      <td>0.414823</td>\n",
       "      <td>1.00 O2 [mp-12957]</td>\n",
       "    </tr>\n",
       "    <tr>\n",
       "      <th>7</th>\n",
       "      <td>mp-1009490</td>\n",
       "      <td>O2</td>\n",
       "      <td>0.005418</td>\n",
       "      <td>1.00 O2 [mp-12957]</td>\n",
       "    </tr>\n",
       "    <tr>\n",
       "      <th>8</th>\n",
       "      <td>mp-632329</td>\n",
       "      <td>C</td>\n",
       "      <td>0.110332</td>\n",
       "      <td>1.00 C [mp-568286]</td>\n",
       "    </tr>\n",
       "    <tr>\n",
       "      <th>9</th>\n",
       "      <td>mp-568028</td>\n",
       "      <td>C</td>\n",
       "      <td>0.528945</td>\n",
       "      <td>1.00 C [mp-568286]</td>\n",
       "    </tr>\n",
       "    <tr>\n",
       "      <th>10</th>\n",
       "      <td>mp-1008374</td>\n",
       "      <td>C</td>\n",
       "      <td>0.437262</td>\n",
       "      <td>1.00 C [mp-568286]</td>\n",
       "    </tr>\n",
       "    <tr>\n",
       "      <th>11</th>\n",
       "      <td>mp-568286</td>\n",
       "      <td>C</td>\n",
       "      <td>0.000000</td>\n",
       "      <td>1.00 C [mp-568286]</td>\n",
       "    </tr>\n",
       "    <tr>\n",
       "      <th>12</th>\n",
       "      <td>mp-611426</td>\n",
       "      <td>C</td>\n",
       "      <td>0.145308</td>\n",
       "      <td>1.00 C [mp-568286]</td>\n",
       "    </tr>\n",
       "    <tr>\n",
       "      <th>13</th>\n",
       "      <td>mp-683919</td>\n",
       "      <td>C</td>\n",
       "      <td>0.348592</td>\n",
       "      <td>1.00 C [mp-568286]</td>\n",
       "    </tr>\n",
       "    <tr>\n",
       "      <th>14</th>\n",
       "      <td>mp-937760</td>\n",
       "      <td>C</td>\n",
       "      <td>0.003670</td>\n",
       "      <td>1.00 C [mp-568286]</td>\n",
       "    </tr>\n",
       "    <tr>\n",
       "      <th>15</th>\n",
       "      <td>mp-998866</td>\n",
       "      <td>C</td>\n",
       "      <td>2.756837</td>\n",
       "      <td>1.00 C [mp-568286]</td>\n",
       "    </tr>\n",
       "    <tr>\n",
       "      <th>16</th>\n",
       "      <td>mp-569567</td>\n",
       "      <td>C</td>\n",
       "      <td>0.174406</td>\n",
       "      <td>1.00 C [mp-568286]</td>\n",
       "    </tr>\n",
       "    <tr>\n",
       "      <th>17</th>\n",
       "      <td>mp-667273</td>\n",
       "      <td>C</td>\n",
       "      <td>0.388760</td>\n",
       "      <td>1.00 C [mp-568286]</td>\n",
       "    </tr>\n",
       "    <tr>\n",
       "      <th>18</th>\n",
       "      <td>mp-570002</td>\n",
       "      <td>C</td>\n",
       "      <td>0.762539</td>\n",
       "      <td>1.00 C [mp-568286]</td>\n",
       "    </tr>\n",
       "    <tr>\n",
       "      <th>19</th>\n",
       "      <td>mp-990448</td>\n",
       "      <td>C</td>\n",
       "      <td>0.003052</td>\n",
       "      <td>1.00 C [mp-568286]</td>\n",
       "    </tr>\n",
       "    <tr>\n",
       "      <th>20</th>\n",
       "      <td>mp-579909</td>\n",
       "      <td>C</td>\n",
       "      <td>0.944071</td>\n",
       "      <td>1.00 C [mp-568286]</td>\n",
       "    </tr>\n",
       "    <tr>\n",
       "      <th>21</th>\n",
       "      <td>mp-997182</td>\n",
       "      <td>C</td>\n",
       "      <td>0.003585</td>\n",
       "      <td>1.00 C [mp-568286]</td>\n",
       "    </tr>\n",
       "    <tr>\n",
       "      <th>22</th>\n",
       "      <td>mp-568806</td>\n",
       "      <td>C</td>\n",
       "      <td>0.006175</td>\n",
       "      <td>1.00 C [mp-568286]</td>\n",
       "    </tr>\n",
       "    <tr>\n",
       "      <th>23</th>\n",
       "      <td>mp-1018088</td>\n",
       "      <td>C</td>\n",
       "      <td>1.299379</td>\n",
       "      <td>1.00 C [mp-568286]</td>\n",
       "    </tr>\n",
       "    <tr>\n",
       "      <th>24</th>\n",
       "      <td>mp-66</td>\n",
       "      <td>C</td>\n",
       "      <td>0.135631</td>\n",
       "      <td>1.00 C [mp-568286]</td>\n",
       "    </tr>\n",
       "    <tr>\n",
       "      <th>25</th>\n",
       "      <td>mp-606949</td>\n",
       "      <td>C</td>\n",
       "      <td>0.003575</td>\n",
       "      <td>1.00 C [mp-568286]</td>\n",
       "    </tr>\n",
       "    <tr>\n",
       "      <th>26</th>\n",
       "      <td>mp-680372</td>\n",
       "      <td>C</td>\n",
       "      <td>0.407085</td>\n",
       "      <td>1.00 C [mp-568286]</td>\n",
       "    </tr>\n",
       "    <tr>\n",
       "      <th>27</th>\n",
       "      <td>mp-616440</td>\n",
       "      <td>C</td>\n",
       "      <td>0.140564</td>\n",
       "      <td>1.00 C [mp-568286]</td>\n",
       "    </tr>\n",
       "    <tr>\n",
       "      <th>28</th>\n",
       "      <td>mp-568410</td>\n",
       "      <td>C</td>\n",
       "      <td>0.506378</td>\n",
       "      <td>1.00 C [mp-568286]</td>\n",
       "    </tr>\n",
       "    <tr>\n",
       "      <th>29</th>\n",
       "      <td>mp-169</td>\n",
       "      <td>C</td>\n",
       "      <td>0.004413</td>\n",
       "      <td>1.00 C [mp-568286]</td>\n",
       "    </tr>\n",
       "    <tr>\n",
       "      <th>...</th>\n",
       "      <td>...</td>\n",
       "      <td>...</td>\n",
       "      <td>...</td>\n",
       "      <td>...</td>\n",
       "    </tr>\n",
       "    <tr>\n",
       "      <th>53</th>\n",
       "      <td>mp-1001594</td>\n",
       "      <td>C4O3</td>\n",
       "      <td>0.241118</td>\n",
       "      <td>0.64 CO2 [mp-20066] + 0.36 C [mp-568286]</td>\n",
       "    </tr>\n",
       "    <tr>\n",
       "      <th>54</th>\n",
       "      <td>mp-166</td>\n",
       "      <td>Ca</td>\n",
       "      <td>0.013329</td>\n",
       "      <td>1.00 Ca [mp-132]</td>\n",
       "    </tr>\n",
       "    <tr>\n",
       "      <th>55</th>\n",
       "      <td>mp-10683</td>\n",
       "      <td>Ca</td>\n",
       "      <td>0.396161</td>\n",
       "      <td>1.00 Ca [mp-132]</td>\n",
       "    </tr>\n",
       "    <tr>\n",
       "      <th>56</th>\n",
       "      <td>mp-21</td>\n",
       "      <td>Ca</td>\n",
       "      <td>0.013583</td>\n",
       "      <td>1.00 Ca [mp-132]</td>\n",
       "    </tr>\n",
       "    <tr>\n",
       "      <th>57</th>\n",
       "      <td>mp-45</td>\n",
       "      <td>Ca</td>\n",
       "      <td>0.000508</td>\n",
       "      <td>1.00 Ca [mp-132]</td>\n",
       "    </tr>\n",
       "    <tr>\n",
       "      <th>58</th>\n",
       "      <td>mp-1008498</td>\n",
       "      <td>Ca</td>\n",
       "      <td>0.152771</td>\n",
       "      <td>1.00 Ca [mp-132]</td>\n",
       "    </tr>\n",
       "    <tr>\n",
       "      <th>59</th>\n",
       "      <td>mp-132</td>\n",
       "      <td>Ca</td>\n",
       "      <td>0.000000</td>\n",
       "      <td>1.00 Ca [mp-132]</td>\n",
       "    </tr>\n",
       "    <tr>\n",
       "      <th>60</th>\n",
       "      <td>mp-545512</td>\n",
       "      <td>CaO</td>\n",
       "      <td>0.065085</td>\n",
       "      <td>1.00 CaO [mp-2605]</td>\n",
       "    </tr>\n",
       "    <tr>\n",
       "      <th>61</th>\n",
       "      <td>mp-2605</td>\n",
       "      <td>CaO</td>\n",
       "      <td>0.000000</td>\n",
       "      <td>1.00 CaO [mp-2605]</td>\n",
       "    </tr>\n",
       "    <tr>\n",
       "      <th>62</th>\n",
       "      <td>mp-634859</td>\n",
       "      <td>CaO2</td>\n",
       "      <td>0.007227</td>\n",
       "      <td>0.33 O2 [mp-12957] + 0.67 CaO [mp-2605]</td>\n",
       "    </tr>\n",
       "    <tr>\n",
       "      <th>63</th>\n",
       "      <td>mp-641635</td>\n",
       "      <td>CaCO3</td>\n",
       "      <td>1.368847</td>\n",
       "      <td>1.00 CaCO3 [mp-3953]</td>\n",
       "    </tr>\n",
       "    <tr>\n",
       "      <th>64</th>\n",
       "      <td>mp-560265</td>\n",
       "      <td>CaCO3</td>\n",
       "      <td>0.008073</td>\n",
       "      <td>1.00 CaCO3 [mp-3953]</td>\n",
       "    </tr>\n",
       "    <tr>\n",
       "      <th>65</th>\n",
       "      <td>mp-4626</td>\n",
       "      <td>CaCO3</td>\n",
       "      <td>0.024281</td>\n",
       "      <td>1.00 CaCO3 [mp-3953]</td>\n",
       "    </tr>\n",
       "    <tr>\n",
       "      <th>66</th>\n",
       "      <td>mp-3953</td>\n",
       "      <td>CaCO3</td>\n",
       "      <td>0.000000</td>\n",
       "      <td>1.00 CaCO3 [mp-3953]</td>\n",
       "    </tr>\n",
       "    <tr>\n",
       "      <th>67</th>\n",
       "      <td>mp-548403</td>\n",
       "      <td>CaCO3</td>\n",
       "      <td>0.312190</td>\n",
       "      <td>1.00 CaCO3 [mp-3953]</td>\n",
       "    </tr>\n",
       "    <tr>\n",
       "      <th>68</th>\n",
       "      <td>mp-553939</td>\n",
       "      <td>CaCO3</td>\n",
       "      <td>0.013584</td>\n",
       "      <td>1.00 CaCO3 [mp-3953]</td>\n",
       "    </tr>\n",
       "    <tr>\n",
       "      <th>69</th>\n",
       "      <td>mp-556235</td>\n",
       "      <td>CaCO3</td>\n",
       "      <td>0.002015</td>\n",
       "      <td>1.00 CaCO3 [mp-3953]</td>\n",
       "    </tr>\n",
       "    <tr>\n",
       "      <th>70</th>\n",
       "      <td>mp-561412</td>\n",
       "      <td>CaCO3</td>\n",
       "      <td>0.007359</td>\n",
       "      <td>1.00 CaCO3 [mp-3953]</td>\n",
       "    </tr>\n",
       "    <tr>\n",
       "      <th>71</th>\n",
       "      <td>mp-696740</td>\n",
       "      <td>CaCO3</td>\n",
       "      <td>1.683982</td>\n",
       "      <td>1.00 CaCO3 [mp-3953]</td>\n",
       "    </tr>\n",
       "    <tr>\n",
       "      <th>72</th>\n",
       "      <td>mp-3205</td>\n",
       "      <td>CaCO3</td>\n",
       "      <td>0.169799</td>\n",
       "      <td>1.00 CaCO3 [mp-3953]</td>\n",
       "    </tr>\n",
       "    <tr>\n",
       "      <th>73</th>\n",
       "      <td>mp-1009653</td>\n",
       "      <td>CaC2</td>\n",
       "      <td>0.204859</td>\n",
       "      <td>0.67 C [mp-568286] + 0.33 Ca [mp-132]</td>\n",
       "    </tr>\n",
       "    <tr>\n",
       "      <th>74</th>\n",
       "      <td>mp-1575</td>\n",
       "      <td>CaC2</td>\n",
       "      <td>0.015081</td>\n",
       "      <td>0.67 C [mp-568286] + 0.33 Ca [mp-132]</td>\n",
       "    </tr>\n",
       "    <tr>\n",
       "      <th>75</th>\n",
       "      <td>mp-684668</td>\n",
       "      <td>CaC2</td>\n",
       "      <td>0.068324</td>\n",
       "      <td>0.67 C [mp-568286] + 0.33 Ca [mp-132]</td>\n",
       "    </tr>\n",
       "    <tr>\n",
       "      <th>76</th>\n",
       "      <td>mp-642822</td>\n",
       "      <td>CaC2</td>\n",
       "      <td>0.024576</td>\n",
       "      <td>0.67 C [mp-568286] + 0.33 Ca [mp-132]</td>\n",
       "    </tr>\n",
       "    <tr>\n",
       "      <th>77</th>\n",
       "      <td>mp-917</td>\n",
       "      <td>CaC2</td>\n",
       "      <td>0.014315</td>\n",
       "      <td>0.67 C [mp-568286] + 0.33 Ca [mp-132]</td>\n",
       "    </tr>\n",
       "    <tr>\n",
       "      <th>78</th>\n",
       "      <td>mp-2482</td>\n",
       "      <td>CaC2</td>\n",
       "      <td>0.022313</td>\n",
       "      <td>0.67 C [mp-568286] + 0.33 Ca [mp-132]</td>\n",
       "    </tr>\n",
       "    <tr>\n",
       "      <th>79</th>\n",
       "      <td>mp-1009655</td>\n",
       "      <td>CaC2</td>\n",
       "      <td>0.743834</td>\n",
       "      <td>0.67 C [mp-568286] + 0.33 Ca [mp-132]</td>\n",
       "    </tr>\n",
       "    <tr>\n",
       "      <th>80</th>\n",
       "      <td>mp-570697</td>\n",
       "      <td>CaC2</td>\n",
       "      <td>0.762125</td>\n",
       "      <td>0.67 C [mp-568286] + 0.33 Ca [mp-132]</td>\n",
       "    </tr>\n",
       "    <tr>\n",
       "      <th>81</th>\n",
       "      <td>mp-558543</td>\n",
       "      <td>Ca(CO2)2</td>\n",
       "      <td>0.046302</td>\n",
       "      <td>0.21 CO2 [mp-20066] + 0.71 CaCO3 [mp-3953] + 0...</td>\n",
       "    </tr>\n",
       "    <tr>\n",
       "      <th>82</th>\n",
       "      <td>mp-1022724</td>\n",
       "      <td>CaC4</td>\n",
       "      <td>0.330530</td>\n",
       "      <td>0.80 C [mp-568286] + 0.20 Ca [mp-132]</td>\n",
       "    </tr>\n",
       "  </tbody>\n",
       "</table>\n",
       "<p>83 rows × 4 columns</p>\n",
       "</div>"
      ],
      "text/plain": [
       "   Materials ID Composition     Ehull  \\\n",
       "0    mp-1023923          O2  1.004394   \n",
       "1     mp-607540          O2  0.112355   \n",
       "2     mp-610917          O2  0.023777   \n",
       "3      mp-12957          O2  0.000000   \n",
       "4     mp-611836          O2  0.013366   \n",
       "5     mp-973916          O2  0.007882   \n",
       "6     mp-560602          O2  0.414823   \n",
       "7    mp-1009490          O2  0.005418   \n",
       "8     mp-632329           C  0.110332   \n",
       "9     mp-568028           C  0.528945   \n",
       "10   mp-1008374           C  0.437262   \n",
       "11    mp-568286           C  0.000000   \n",
       "12    mp-611426           C  0.145308   \n",
       "13    mp-683919           C  0.348592   \n",
       "14    mp-937760           C  0.003670   \n",
       "15    mp-998866           C  2.756837   \n",
       "16    mp-569567           C  0.174406   \n",
       "17    mp-667273           C  0.388760   \n",
       "18    mp-570002           C  0.762539   \n",
       "19    mp-990448           C  0.003052   \n",
       "20    mp-579909           C  0.944071   \n",
       "21    mp-997182           C  0.003585   \n",
       "22    mp-568806           C  0.006175   \n",
       "23   mp-1018088           C  1.299379   \n",
       "24        mp-66           C  0.135631   \n",
       "25    mp-606949           C  0.003575   \n",
       "26    mp-680372           C  0.407085   \n",
       "27    mp-616440           C  0.140564   \n",
       "28    mp-568410           C  0.506378   \n",
       "29       mp-169           C  0.004413   \n",
       "..          ...         ...       ...   \n",
       "53   mp-1001594        C4O3  0.241118   \n",
       "54       mp-166          Ca  0.013329   \n",
       "55     mp-10683          Ca  0.396161   \n",
       "56        mp-21          Ca  0.013583   \n",
       "57        mp-45          Ca  0.000508   \n",
       "58   mp-1008498          Ca  0.152771   \n",
       "59       mp-132          Ca  0.000000   \n",
       "60    mp-545512         CaO  0.065085   \n",
       "61      mp-2605         CaO  0.000000   \n",
       "62    mp-634859        CaO2  0.007227   \n",
       "63    mp-641635       CaCO3  1.368847   \n",
       "64    mp-560265       CaCO3  0.008073   \n",
       "65      mp-4626       CaCO3  0.024281   \n",
       "66      mp-3953       CaCO3  0.000000   \n",
       "67    mp-548403       CaCO3  0.312190   \n",
       "68    mp-553939       CaCO3  0.013584   \n",
       "69    mp-556235       CaCO3  0.002015   \n",
       "70    mp-561412       CaCO3  0.007359   \n",
       "71    mp-696740       CaCO3  1.683982   \n",
       "72      mp-3205       CaCO3  0.169799   \n",
       "73   mp-1009653        CaC2  0.204859   \n",
       "74      mp-1575        CaC2  0.015081   \n",
       "75    mp-684668        CaC2  0.068324   \n",
       "76    mp-642822        CaC2  0.024576   \n",
       "77       mp-917        CaC2  0.014315   \n",
       "78      mp-2482        CaC2  0.022313   \n",
       "79   mp-1009655        CaC2  0.743834   \n",
       "80    mp-570697        CaC2  0.762125   \n",
       "81    mp-558543    Ca(CO2)2  0.046302   \n",
       "82   mp-1022724        CaC4  0.330530   \n",
       "\n",
       "                                        Decomposition  \n",
       "0                                  1.00 O2 [mp-12957]  \n",
       "1                                  1.00 O2 [mp-12957]  \n",
       "2                                  1.00 O2 [mp-12957]  \n",
       "3                                  1.00 O2 [mp-12957]  \n",
       "4                                  1.00 O2 [mp-12957]  \n",
       "5                                  1.00 O2 [mp-12957]  \n",
       "6                                  1.00 O2 [mp-12957]  \n",
       "7                                  1.00 O2 [mp-12957]  \n",
       "8                                  1.00 C [mp-568286]  \n",
       "9                                  1.00 C [mp-568286]  \n",
       "10                                 1.00 C [mp-568286]  \n",
       "11                                 1.00 C [mp-568286]  \n",
       "12                                 1.00 C [mp-568286]  \n",
       "13                                 1.00 C [mp-568286]  \n",
       "14                                 1.00 C [mp-568286]  \n",
       "15                                 1.00 C [mp-568286]  \n",
       "16                                 1.00 C [mp-568286]  \n",
       "17                                 1.00 C [mp-568286]  \n",
       "18                                 1.00 C [mp-568286]  \n",
       "19                                 1.00 C [mp-568286]  \n",
       "20                                 1.00 C [mp-568286]  \n",
       "21                                 1.00 C [mp-568286]  \n",
       "22                                 1.00 C [mp-568286]  \n",
       "23                                 1.00 C [mp-568286]  \n",
       "24                                 1.00 C [mp-568286]  \n",
       "25                                 1.00 C [mp-568286]  \n",
       "26                                 1.00 C [mp-568286]  \n",
       "27                                 1.00 C [mp-568286]  \n",
       "28                                 1.00 C [mp-568286]  \n",
       "29                                 1.00 C [mp-568286]  \n",
       "..                                                ...  \n",
       "53           0.64 CO2 [mp-20066] + 0.36 C [mp-568286]  \n",
       "54                                   1.00 Ca [mp-132]  \n",
       "55                                   1.00 Ca [mp-132]  \n",
       "56                                   1.00 Ca [mp-132]  \n",
       "57                                   1.00 Ca [mp-132]  \n",
       "58                                   1.00 Ca [mp-132]  \n",
       "59                                   1.00 Ca [mp-132]  \n",
       "60                                 1.00 CaO [mp-2605]  \n",
       "61                                 1.00 CaO [mp-2605]  \n",
       "62            0.33 O2 [mp-12957] + 0.67 CaO [mp-2605]  \n",
       "63                               1.00 CaCO3 [mp-3953]  \n",
       "64                               1.00 CaCO3 [mp-3953]  \n",
       "65                               1.00 CaCO3 [mp-3953]  \n",
       "66                               1.00 CaCO3 [mp-3953]  \n",
       "67                               1.00 CaCO3 [mp-3953]  \n",
       "68                               1.00 CaCO3 [mp-3953]  \n",
       "69                               1.00 CaCO3 [mp-3953]  \n",
       "70                               1.00 CaCO3 [mp-3953]  \n",
       "71                               1.00 CaCO3 [mp-3953]  \n",
       "72                               1.00 CaCO3 [mp-3953]  \n",
       "73              0.67 C [mp-568286] + 0.33 Ca [mp-132]  \n",
       "74              0.67 C [mp-568286] + 0.33 Ca [mp-132]  \n",
       "75              0.67 C [mp-568286] + 0.33 Ca [mp-132]  \n",
       "76              0.67 C [mp-568286] + 0.33 Ca [mp-132]  \n",
       "77              0.67 C [mp-568286] + 0.33 Ca [mp-132]  \n",
       "78              0.67 C [mp-568286] + 0.33 Ca [mp-132]  \n",
       "79              0.67 C [mp-568286] + 0.33 Ca [mp-132]  \n",
       "80              0.67 C [mp-568286] + 0.33 Ca [mp-132]  \n",
       "81  0.21 CO2 [mp-20066] + 0.71 CaCO3 [mp-3953] + 0...  \n",
       "82              0.80 C [mp-568286] + 0.20 Ca [mp-132]  \n",
       "\n",
       "[83 rows x 4 columns]"
      ]
     },
     "execution_count": 35,
     "metadata": {},
     "output_type": "execute_result"
    }
   ],
   "source": [
    "import collections\n",
    "\n",
    "data = collections.defaultdict(list)\n",
    "for e in pd.all_entries:\n",
    "    decomp, ehull = pda.get_decomp_and_e_above_hull(e)\n",
    "    data[\"Materials ID\"].append(e.entry_id)\n",
    "    data[\"Composition\"].append(e.composition.reduced_formula)\n",
    "    data[\"Ehull\"].append(ehull)    \n",
    "    data[\"Decomposition\"].append(\n",
    "        \" + \".join([\"{:.2f} {} [{}]\".format(\n",
    "                    v, k.composition.reduced_formula, k.entry_id)\n",
    "                    for k, v in decomp.items()]))\n",
    "\n",
    "from pandas import DataFrame\n",
    "df = DataFrame(data, columns=[\n",
    "        \"Materials ID\", \"Composition\", \"Ehull\", \"Decomposition\"])\n",
    "\n",
    "df"
   ]
  },
  {
   "cell_type": "markdown",
   "metadata": {
    "deletable": true,
    "editable": true
   },
   "source": [
    "## Calculating reaction energies\n",
    "pymatgen.org example"
   ]
  },
  {
   "cell_type": "code",
   "execution_count": 40,
   "metadata": {
    "collapsed": false,
    "deletable": true,
    "editable": true
   },
   "outputs": [
    {
     "name": "stdout",
     "output_type": "stream",
     "text": [
      "Caculated\n",
      "CaO + CO2 -> CaCO3\n",
      "Reaction energy = -145.39165028828774 kJ mol^-1\n",
      "Experimental\n",
      "CaO + CO2 -> CaCO3\n",
      "Reaction energy = -178.3000000000004 kJ mol^-1\n"
     ]
    }
   ],
   "source": [
    "from pymatgen.matproj.rest import MPRester\n",
    "from pymatgen import Composition\n",
    "from pymatgen.entries.computed_entries import ComputedEntry\n",
    "from pymatgen.core.units import FloatWithUnit\n",
    "from pymatgen.analysis.reaction_calculator import ComputedReaction\n",
    "\n",
    "#This initializes the REST adaptor. Put your own API key in.\n",
    "# mpr = MPRester()\n",
    "\n",
    "#This gets all entries belonging to the Ca-C-O system.\n",
    "all_entries = mpr.get_entries_in_chemsys(['Ca', 'C', 'O'])\n",
    "\n",
    "#This method simply gets the lowest energy entry\n",
    "#for all entries with the same composition.\n",
    "def get_most_stable_entry(formula):\n",
    "    relevant_entries = [\n",
    "        entry for entry in all_entries\n",
    "        if entry.composition.reduced_formula == Composition(formula).reduced_formula]\n",
    "    relevant_entries = sorted(relevant_entries, key=lambda e: e.energy_per_atom)\n",
    "    return relevant_entries[0]\n",
    "\n",
    "CaO = get_most_stable_entry(\"CaO\")\n",
    "CO2 = get_most_stable_entry(\"CO2\")\n",
    "CaCO3 = get_most_stable_entry(\"CaCO3\")\n",
    "\n",
    "reaction = ComputedReaction([CaO, CO2], [CaCO3])\n",
    "energy = FloatWithUnit(reaction.calculated_reaction_energy, \"eV atom^-1\")\n",
    "\n",
    "print(\"Caculated\")\n",
    "print(reaction)\n",
    "print(\"Reaction energy = {}\".format(energy.to(\"kJ mol^-1\")))\n",
    "print\n",
    "\n",
    "# The following portions demonstrate how to get the experimental values as well.\n",
    "exp_CaO = mpr.get_exp_entry(\"CaO\")\n",
    "exp_CaCO3 = mpr.get_exp_entry(\"CaCO3\")\n",
    "\n",
    "#Unfortunately, the Materials Project database does not have\n",
    "# gas phase experimental entries.\n",
    "# This is the value from NIST. We manually create the entry.\n",
    "#Exp entries should be in kJ/mol.\n",
    "exp_CO2 = ComputedEntry(\"CO2\", -393.51)\n",
    "\n",
    "exp_reaction = ComputedReaction([exp_CaO, exp_CO2], [exp_CaCO3])\n",
    "\n",
    "print(\"Experimental\")\n",
    "print(exp_reaction)\n",
    "print(\"Reaction energy = {} kJ mol^-1\".format(\n",
    "    exp_reaction.calculated_reaction_energy))"
   ]
  },
  {
   "cell_type": "code",
   "execution_count": null,
   "metadata": {
    "collapsed": true
   },
   "outputs": [],
   "source": []
  }
 ],
 "metadata": {
  "kernelspec": {
   "display_name": "Python (mp)",
   "language": "python",
   "name": "mp"
  },
  "language_info": {
   "codemirror_mode": {
    "name": "ipython",
    "version": 3
   },
   "file_extension": ".py",
   "mimetype": "text/x-python",
   "name": "python",
   "nbconvert_exporter": "python",
   "pygments_lexer": "ipython3",
   "version": "3.6.1"
  }
 },
 "nbformat": 4,
 "nbformat_minor": 0
}
