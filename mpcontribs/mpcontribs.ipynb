{
 "cells": [
  {
   "cell_type": "markdown",
   "metadata": {},
   "source": [
    "#### https://www.materialsproject.org/dashboard -> copy api key"
   ]
  },
  {
   "cell_type": "code",
   "execution_count": null,
   "metadata": {
    "collapsed": false
   },
   "outputs": [],
   "source": [
    "# not during workshop\n",
    "!pmg config --add PMG_MAPI_KEY <USER_API_KEY>\n",
    "!cd ~/work/MPContribs && git pull && git submodule update webtzite && git submodule update mpcontribs/users"
   ]
  },
  {
   "cell_type": "markdown",
   "metadata": {},
   "source": [
    "#### \"MPContribs\" Button in upper right corner; log in to test site; generate api-key"
   ]
  },
  {
   "cell_type": "code",
   "execution_count": null,
   "metadata": {
    "collapsed": false
   },
   "outputs": [],
   "source": [
    "# check contributor: adds user and permissions to contribute to local test site\n",
    "from mpcontribs import MPContribsRester\n",
    "mpr = MPContribsRester(test_site=True)\n",
    "mpr.check_contributor()"
   ]
  },
  {
   "cell_type": "markdown",
   "metadata": {},
   "source": [
    "- source: https://refractiveindex.info/\n",
    "- google sheet: https://docs.google.com/spreadsheets/d/1mjsUpxyG4oXoyRll3iTR_dUw4sCS0bY-mweK8kP_Hog\n",
    "\n",
    "### Ingester\n",
    "\n",
    "click \"MPContribs\" > \"Ingester\"\n",
    "\n",
    "### Contribution Details & Custom Landing Pages\n",
    "\n",
    "### Materials Project & Embedding in Materials Details Page\n",
    "\n",
    "https://materialsproject.org/mpcontribs  \n",
    "to be deployed and integrated with production. Show prototype in MPContribs Explorer for now.\n",
    "\n",
    "### Interact with Data through Rester"
   ]
  },
  {
   "cell_type": "code",
   "execution_count": null,
   "metadata": {
    "collapsed": false
   },
   "outputs": [],
   "source": [
    "from mpcontribs.users.mp_workshop_2017.rest.rester import MpWorkshop2017Rester"
   ]
  },
  {
   "cell_type": "code",
   "execution_count": null,
   "metadata": {
    "collapsed": false
   },
   "outputs": [],
   "source": [
    "mpr = MpWorkshop2017Rester(test_site=True)"
   ]
  },
  {
   "cell_type": "code",
   "execution_count": null,
   "metadata": {
    "collapsed": false
   },
   "outputs": [],
   "source": [
    "mpr.check_contributor()"
   ]
  },
  {
   "cell_type": "code",
   "execution_count": null,
   "metadata": {
    "collapsed": false
   },
   "outputs": [],
   "source": [
    "mpr.preamble"
   ]
  },
  {
   "cell_type": "code",
   "execution_count": null,
   "metadata": {
    "collapsed": false
   },
   "outputs": [],
   "source": [
    "mpr.query_contributions()"
   ]
  },
  {
   "cell_type": "code",
   "execution_count": null,
   "metadata": {
    "collapsed": true
   },
   "outputs": [],
   "source": [
    "mpfile = mpr.find_contribution('5984cb36043b4b280043439a')\n",
    "mpid = mpfile.ids[0]"
   ]
  },
  {
   "cell_type": "code",
   "execution_count": null,
   "metadata": {
    "collapsed": false
   },
   "outputs": [],
   "source": [
    "mpfile.hdata[mpid]['data']"
   ]
  },
  {
   "cell_type": "code",
   "execution_count": null,
   "metadata": {
    "collapsed": false
   },
   "outputs": [],
   "source": [
    "mpfile.gdata[mpid]"
   ]
  },
  {
   "cell_type": "code",
   "execution_count": null,
   "metadata": {
    "collapsed": false
   },
   "outputs": [],
   "source": [
    "mpr.get_contributions() # DataFrame"
   ]
  },
  {
   "cell_type": "code",
   "execution_count": null,
   "metadata": {
    "collapsed": false
   },
   "outputs": [],
   "source": [
    "graphs = mpr.get_graphs()"
   ]
  },
  {
   "cell_type": "code",
   "execution_count": null,
   "metadata": {
    "collapsed": false
   },
   "outputs": [],
   "source": [
    "graphs['mp-987']"
   ]
  }
 ],
 "metadata": {
  "kernelspec": {
   "display_name": "Python 2",
   "language": "python",
   "name": "python2"
  },
  "language_info": {
   "codemirror_mode": {
    "name": "ipython",
    "version": 2
   },
   "file_extension": ".py",
   "mimetype": "text/x-python",
   "name": "python",
   "nbconvert_exporter": "python",
   "pygments_lexer": "ipython2",
   "version": "2.7.12"
  }
 },
 "nbformat": 4,
 "nbformat_minor": 1
}
