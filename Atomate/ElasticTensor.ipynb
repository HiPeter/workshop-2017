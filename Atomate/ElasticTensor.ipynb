{
 "cells": [
  {
   "cell_type": "code",
   "execution_count": 1,
   "metadata": {
    "collapsed": true
   },
   "outputs": [],
   "source": [
    "import os\n",
    "\n",
    "db_file = os.path.abspath(\"db.json\")"
   ]
  },
  {
   "cell_type": "code",
   "execution_count": 2,
   "metadata": {
    "collapsed": true
   },
   "outputs": [],
   "source": [
    "from pymatgen import Structure\n",
    "\n",
    "struct_si = Structure([[5.468344455957462, 0.0, -0.0], \n",
    "                       [-0.0, 5.468344455957462, 0.0], \n",
    "                       [0.0, -0.0, 5.468344455957462]], \n",
    "                      \n",
    "                      [\"Si\"]*8, \n",
    "                      \n",
    "                      [[-0.0, -0.0, 0.5],\n",
    "                       [0.75, 0.75, 0.75],\n",
    "                       [0.0, 0.5, -0.0],\n",
    "                       [0.75, 0.25, 0.25],\n",
    "                       [0.5, 0.0, -0.0],\n",
    "                       [0.25, 0.75, 0.25],\n",
    "                       [0.5, 0.5, 0.5],\n",
    "                       [0.25, 0.25, 0.75]])"
   ]
  },
  {
   "cell_type": "code",
   "execution_count": 3,
   "metadata": {
    "collapsed": true
   },
   "outputs": [],
   "source": [
    "from atomate.vasp.workflows import wf_structure_optimization\n",
    "\n",
    "c = {\"DB_FILE\": db_file}\n",
    "wf = wf_structure_optimization(struct_si, c)"
   ]
  },
  {
   "cell_type": "code",
   "execution_count": 4,
   "metadata": {
    "collapsed": true
   },
   "outputs": [],
   "source": [
    "from atomate.vasp.workflows import get_wf_elastic_constant\n",
    "\n",
    "wf_elastic = get_wf_elastic_constant(struct_si, db_file=db_file, \n",
    "                              stencils=[[0.01], [0.01], [0.01], [0.03], [0.03], [0.03]], \n",
    "                              copy_vasp_outputs=True)"
   ]
  },
  {
   "cell_type": "code",
   "execution_count": 5,
   "metadata": {},
   "outputs": [
    {
     "data": {
      "text/plain": [
       "{-8, -7, -6, -5, -4, -3, -2}"
      ]
     },
     "execution_count": 5,
     "metadata": {},
     "output_type": "execute_result"
    }
   ],
   "source": [
    "wf.append_wf(wf_elastic, wf.leaf_fw_ids)"
   ]
  },
  {
   "cell_type": "code",
   "execution_count": 6,
   "metadata": {
    "collapsed": true
   },
   "outputs": [],
   "source": [
    "from atomate.vasp.powerups import add_modify_incar\n",
    "\n",
    "\n",
    "wf = add_modify_incar(wf, {'incar_update': {'EDIFF': 1e-6, 'ENCUT': 700}})"
   ]
  },
  {
   "cell_type": "code",
   "execution_count": 7,
   "metadata": {
    "collapsed": true
   },
   "outputs": [],
   "source": [
    "from helper_functions import elastic_simulator\n",
    "\n",
    "wf = elastic_simulator(wf)"
   ]
  },
  {
   "cell_type": "code",
   "execution_count": 8,
   "metadata": {
    "collapsed": true
   },
   "outputs": [],
   "source": [
    "from fireworks.utilities.fw_utilities import plot_wf\n",
    "\n",
    "plot_wf(wf, depth_factor=2, numerical_label=True)"
   ]
  },
  {
   "cell_type": "code",
   "execution_count": 9,
   "metadata": {},
   "outputs": [
    {
     "name": "stdout",
     "output_type": "stream",
     "text": [
      "2017-08-05 14:51:10,734 INFO Performing db tune-up\n",
      "2017-08-05 14:51:10,749 INFO LaunchPad was RESET.\n"
     ]
    }
   ],
   "source": [
    "from fireworks import LaunchPad\n",
    "\n",
    "lp = LaunchPad()\n",
    "lp.reset(\"\", require_password=False)"
   ]
  },
  {
   "cell_type": "code",
   "execution_count": 10,
   "metadata": {},
   "outputs": [
    {
     "name": "stdout",
     "output_type": "stream",
     "text": [
      "2017-08-05 14:51:10,839 INFO Added a workflow. id_map: {-8: 1, -7: 2, -6: 3, -5: 4, -4: 5, -3: 6, -2: 7, -1: 8}\n"
     ]
    },
    {
     "data": {
      "text/plain": [
       "{-8: 1, -7: 2, -6: 3, -5: 4, -4: 5, -3: 6, -2: 7, -1: 8}"
      ]
     },
     "execution_count": 10,
     "metadata": {},
     "output_type": "execute_result"
    }
   ],
   "source": [
    "lp.add_wf(wf)"
   ]
  },
  {
   "cell_type": "code",
   "execution_count": 11,
   "metadata": {},
   "outputs": [
    {
     "name": "stdout",
     "output_type": "stream",
     "text": [
      "2017-08-05 14:51:10,901 INFO Created new dir /home/km/Software/matproj/workshop-2017/Atomate/launcher_2017-08-05-21-51-10-901393\n",
      "2017-08-05 14:51:10,902 INFO Launching Rocket\n",
      "2017-08-05 14:51:10,933 INFO RUNNING fw_id: 8 in directory: /home/km/Software/matproj/workshop-2017/Atomate/launcher_2017-08-05-21-51-10-901393\n",
      "2017-08-05 14:51:10,947 INFO Task started: FileWriteTask.\n",
      "2017-08-05 14:51:10,948 INFO Task completed: FileWriteTask \n",
      "2017-08-05 14:51:10,953 INFO Task started: {{atomate.vasp.firetasks.write_inputs.WriteVaspFromIOSet}}.\n",
      "2017-08-05 14:51:10,965 INFO Task completed: {{atomate.vasp.firetasks.write_inputs.WriteVaspFromIOSet}} \n",
      "2017-08-05 14:51:10,968 INFO Task started: {{atomate.vasp.firetasks.write_inputs.ModifyIncar}}.\n",
      "2017-08-05 14:51:10,972 INFO Task completed: {{atomate.vasp.firetasks.write_inputs.ModifyIncar}} \n",
      "2017-08-05 14:51:10,976 INFO Task started: {{atomate.vasp.firetasks.run_calc.RunVaspFake}}.\n",
      "2017-08-05 14:51:10,997 INFO atomate.vasp.firetasks.run_calc RunVaspFake: verified inputs successfully\n",
      "2017-08-05 14:51:11,000 INFO atomate.vasp.firetasks.run_calc RunVaspFake: ran fake VASP, generated outputs\n",
      "2017-08-05 14:51:11,001 INFO Task completed: {{atomate.vasp.firetasks.run_calc.RunVaspFake}} \n",
      "2017-08-05 14:51:11,005 INFO Task started: {{atomate.common.firetasks.glue_tasks.PassCalcLocs}}.\n",
      "2017-08-05 14:51:11,006 INFO Task completed: {{atomate.common.firetasks.glue_tasks.PassCalcLocs}} \n",
      "2017-08-05 14:51:11,010 INFO Task started: {{atomate.vasp.firetasks.parse_outputs.VaspToDb}}.\n",
      "2017-08-05 14:51:11,011 INFO atomate.vasp.firetasks.parse_outputs PARSING DIRECTORY: /home/km/Software/matproj/workshop-2017/Atomate/launcher_2017-08-05-21-51-10-901393\n",
      "2017-08-05 14:51:11,012 INFO atomate.vasp.drones Getting task doc for base dir :/home/km/Software/matproj/workshop-2017/Atomate/launcher_2017-08-05-21-51-10-901393\n",
      "2017-08-05 14:51:11,222 INFO atomate.vasp.drones Post-processing dir:/home/km/Software/matproj/workshop-2017/Atomate/launcher_2017-08-05-21-51-10-901393\n",
      "2017-08-05 14:51:11,224 WARNING atomate.vasp.drones Transformations file does not exist.\n",
      "2017-08-05 14:51:11,231 INFO atomate.vasp.drones Post-processed /home/km/Software/matproj/workshop-2017/Atomate/launcher_2017-08-05-21-51-10-901393\n",
      "2017-08-05 14:51:11,239 INFO atomate.utils.database Inserting 5727:/home/km/Software/matproj/workshop-2017/Atomate/launcher_2017-08-05-21-51-10-901393 with taskid = 16\n",
      "2017-08-05 14:51:11,253 INFO atomate.vasp.firetasks.parse_outputs Finished parsing with task_id: 16\n",
      "2017-08-05 14:51:11,255 INFO Task completed: {{atomate.vasp.firetasks.parse_outputs.VaspToDb}} \n",
      "2017-08-05 14:51:11,355 INFO Rocket finished\n",
      "2017-08-05 14:51:11,366 INFO Created new dir /home/km/Software/matproj/workshop-2017/Atomate/launcher_2017-08-05-21-51-11-366218\n",
      "2017-08-05 14:51:11,367 INFO Launching Rocket\n",
      "2017-08-05 14:51:11,422 INFO RUNNING fw_id: 7 in directory: /home/km/Software/matproj/workshop-2017/Atomate/launcher_2017-08-05-21-51-11-366218\n",
      "2017-08-05 14:51:11,439 INFO Task started: {{atomate.vasp.firetasks.glue_tasks.CopyVaspOutputs}}.\n",
      "2017-08-05 14:51:11,700 INFO Task completed: {{atomate.vasp.firetasks.glue_tasks.CopyVaspOutputs}} \n",
      "2017-08-05 14:51:11,705 INFO Task started: {{atomate.vasp.firetasks.write_inputs.WriteTransmutedStructureIOSet}}.\n",
      "2017-08-05 14:51:11,730 INFO Task completed: {{atomate.vasp.firetasks.write_inputs.WriteTransmutedStructureIOSet}} \n",
      "2017-08-05 14:51:11,739 INFO Task started: {{atomate.vasp.firetasks.write_inputs.ModifyIncar}}.\n",
      "2017-08-05 14:51:11,741 INFO Task completed: {{atomate.vasp.firetasks.write_inputs.ModifyIncar}} \n",
      "2017-08-05 14:51:11,746 INFO Task started: {{atomate.vasp.firetasks.run_calc.RunVaspFake}}.\n",
      "2017-08-05 14:51:11,777 INFO atomate.vasp.firetasks.run_calc RunVaspFake: verified inputs successfully\n",
      "2017-08-05 14:51:11,781 INFO atomate.vasp.firetasks.run_calc RunVaspFake: ran fake VASP, generated outputs\n",
      "2017-08-05 14:51:11,783 INFO Task completed: {{atomate.vasp.firetasks.run_calc.RunVaspFake}} \n",
      "2017-08-05 14:51:11,788 INFO Task started: {{atomate.common.firetasks.glue_tasks.PassCalcLocs}}.\n",
      "2017-08-05 14:51:11,789 INFO Task completed: {{atomate.common.firetasks.glue_tasks.PassCalcLocs}} \n",
      "2017-08-05 14:51:11,797 INFO Task started: {{atomate.vasp.firetasks.parse_outputs.VaspToDb}}.\n",
      "2017-08-05 14:51:11,798 INFO atomate.vasp.firetasks.parse_outputs PARSING DIRECTORY: /home/km/Software/matproj/workshop-2017/Atomate/launcher_2017-08-05-21-51-11-366218\n",
      "2017-08-05 14:51:11,800 INFO atomate.vasp.drones Getting task doc for base dir :/home/km/Software/matproj/workshop-2017/Atomate/launcher_2017-08-05-21-51-11-366218\n",
      "2017-08-05 14:51:11,979 INFO atomate.vasp.drones Post-processing dir:/home/km/Software/matproj/workshop-2017/Atomate/launcher_2017-08-05-21-51-11-366218\n",
      "2017-08-05 14:51:11,980 WARNING atomate.vasp.drones Transformations file does not exist.\n",
      "2017-08-05 14:51:11,988 INFO atomate.vasp.drones Post-processed /home/km/Software/matproj/workshop-2017/Atomate/launcher_2017-08-05-21-51-11-366218\n",
      "2017-08-05 14:51:11,994 INFO atomate.utils.database Inserting 5727:/home/km/Software/matproj/workshop-2017/Atomate/launcher_2017-08-05-21-51-11-366218 with taskid = 17\n",
      "2017-08-05 14:51:12,008 INFO atomate.vasp.firetasks.parse_outputs Finished parsing with task_id: 17\n",
      "2017-08-05 14:51:12,011 INFO Task completed: {{atomate.vasp.firetasks.parse_outputs.VaspToDb}} \n",
      "2017-08-05 14:51:12,016 INFO Task started: {{atomate.common.firetasks.glue_tasks.PassResult}}.\n",
      "2017-08-05 14:51:12,083 INFO Task completed: {{atomate.common.firetasks.glue_tasks.PassResult}} \n",
      "2017-08-05 14:51:12,123 INFO Rocket finished\n"
     ]
    },
    {
     "name": "stderr",
     "output_type": "stream",
     "text": [
      "/home/km/Software/matproj/pymatgen/pymatgen/io/vasp/outputs.py:822: UserWarning: No POTCAR file with matching TITEL fields was found in /home/km/Software/matproj/workshop-2017/Atomate/launcher_2017-08-05-21-51-11-366218\n",
      "  \" was found in {}\".format(os.path.abspath(p)))\n"
     ]
    },
    {
     "name": "stdout",
     "output_type": "stream",
     "text": [
      "2017-08-05 14:51:12,134 INFO Created new dir /home/km/Software/matproj/workshop-2017/Atomate/launcher_2017-08-05-21-51-12-133953\n",
      "2017-08-05 14:51:12,138 INFO Launching Rocket\n",
      "2017-08-05 14:51:12,176 INFO RUNNING fw_id: 6 in directory: /home/km/Software/matproj/workshop-2017/Atomate/launcher_2017-08-05-21-51-12-133953\n",
      "2017-08-05 14:51:12,190 INFO Task started: {{atomate.vasp.firetasks.glue_tasks.CopyVaspOutputs}}.\n",
      "2017-08-05 14:51:12,436 INFO Task completed: {{atomate.vasp.firetasks.glue_tasks.CopyVaspOutputs}} \n",
      "2017-08-05 14:51:12,441 INFO Task started: {{atomate.vasp.firetasks.write_inputs.WriteTransmutedStructureIOSet}}.\n",
      "2017-08-05 14:51:12,457 INFO Task completed: {{atomate.vasp.firetasks.write_inputs.WriteTransmutedStructureIOSet}} \n",
      "2017-08-05 14:51:12,461 INFO Task started: {{atomate.vasp.firetasks.write_inputs.ModifyIncar}}.\n",
      "2017-08-05 14:51:12,464 INFO Task completed: {{atomate.vasp.firetasks.write_inputs.ModifyIncar}} \n",
      "2017-08-05 14:51:12,472 INFO Task started: {{atomate.vasp.firetasks.run_calc.RunVaspFake}}.\n",
      "2017-08-05 14:51:12,494 INFO atomate.vasp.firetasks.run_calc RunVaspFake: verified inputs successfully\n",
      "2017-08-05 14:51:12,497 INFO atomate.vasp.firetasks.run_calc RunVaspFake: ran fake VASP, generated outputs\n",
      "2017-08-05 14:51:12,499 INFO Task completed: {{atomate.vasp.firetasks.run_calc.RunVaspFake}} \n",
      "2017-08-05 14:51:12,507 INFO Task started: {{atomate.common.firetasks.glue_tasks.PassCalcLocs}}.\n",
      "2017-08-05 14:51:12,509 INFO Task completed: {{atomate.common.firetasks.glue_tasks.PassCalcLocs}} \n",
      "2017-08-05 14:51:12,514 INFO Task started: {{atomate.vasp.firetasks.parse_outputs.VaspToDb}}.\n",
      "2017-08-05 14:51:12,516 INFO atomate.vasp.firetasks.parse_outputs PARSING DIRECTORY: /home/km/Software/matproj/workshop-2017/Atomate/launcher_2017-08-05-21-51-12-133953\n",
      "2017-08-05 14:51:12,517 INFO atomate.vasp.drones Getting task doc for base dir :/home/km/Software/matproj/workshop-2017/Atomate/launcher_2017-08-05-21-51-12-133953\n",
      "2017-08-05 14:51:12,718 INFO atomate.vasp.drones Post-processing dir:/home/km/Software/matproj/workshop-2017/Atomate/launcher_2017-08-05-21-51-12-133953\n",
      "2017-08-05 14:51:12,719 WARNING atomate.vasp.drones Transformations file does not exist.\n",
      "2017-08-05 14:51:12,724 INFO atomate.vasp.drones Post-processed /home/km/Software/matproj/workshop-2017/Atomate/launcher_2017-08-05-21-51-12-133953\n",
      "2017-08-05 14:51:12,730 INFO atomate.utils.database Inserting 5727:/home/km/Software/matproj/workshop-2017/Atomate/launcher_2017-08-05-21-51-12-133953 with taskid = 18\n",
      "2017-08-05 14:51:12,742 INFO atomate.vasp.firetasks.parse_outputs Finished parsing with task_id: 18\n",
      "2017-08-05 14:51:12,744 INFO Task completed: {{atomate.vasp.firetasks.parse_outputs.VaspToDb}} \n",
      "2017-08-05 14:51:12,748 INFO Task started: {{atomate.common.firetasks.glue_tasks.PassResult}}.\n",
      "2017-08-05 14:51:12,821 INFO Task completed: {{atomate.common.firetasks.glue_tasks.PassResult}} \n",
      "2017-08-05 14:51:12,859 INFO Rocket finished\n",
      "2017-08-05 14:51:12,867 INFO Created new dir /home/km/Software/matproj/workshop-2017/Atomate/launcher_2017-08-05-21-51-12-867088\n",
      "2017-08-05 14:51:12,868 INFO Launching Rocket\n"
     ]
    },
    {
     "name": "stderr",
     "output_type": "stream",
     "text": [
      "/home/km/Software/matproj/pymatgen/pymatgen/io/vasp/outputs.py:822: UserWarning: No POTCAR file with matching TITEL fields was found in /home/km/Software/matproj/workshop-2017/Atomate/launcher_2017-08-05-21-51-12-133953\n",
      "  \" was found in {}\".format(os.path.abspath(p)))\n"
     ]
    },
    {
     "name": "stdout",
     "output_type": "stream",
     "text": [
      "2017-08-05 14:51:12,907 INFO RUNNING fw_id: 5 in directory: /home/km/Software/matproj/workshop-2017/Atomate/launcher_2017-08-05-21-51-12-867088\n",
      "2017-08-05 14:51:12,919 INFO Task started: {{atomate.vasp.firetasks.glue_tasks.CopyVaspOutputs}}.\n",
      "2017-08-05 14:51:13,172 INFO Task completed: {{atomate.vasp.firetasks.glue_tasks.CopyVaspOutputs}} \n",
      "2017-08-05 14:51:13,175 INFO Task started: {{atomate.vasp.firetasks.write_inputs.WriteTransmutedStructureIOSet}}.\n",
      "2017-08-05 14:51:13,191 INFO Task completed: {{atomate.vasp.firetasks.write_inputs.WriteTransmutedStructureIOSet}} \n",
      "2017-08-05 14:51:13,194 INFO Task started: {{atomate.vasp.firetasks.write_inputs.ModifyIncar}}.\n",
      "2017-08-05 14:51:13,197 INFO Task completed: {{atomate.vasp.firetasks.write_inputs.ModifyIncar}} \n",
      "2017-08-05 14:51:13,200 INFO Task started: {{atomate.vasp.firetasks.run_calc.RunVaspFake}}.\n",
      "2017-08-05 14:51:13,222 INFO atomate.vasp.firetasks.run_calc RunVaspFake: verified inputs successfully\n",
      "2017-08-05 14:51:13,226 INFO atomate.vasp.firetasks.run_calc RunVaspFake: ran fake VASP, generated outputs\n",
      "2017-08-05 14:51:13,227 INFO Task completed: {{atomate.vasp.firetasks.run_calc.RunVaspFake}} \n",
      "2017-08-05 14:51:13,233 INFO Task started: {{atomate.common.firetasks.glue_tasks.PassCalcLocs}}.\n",
      "2017-08-05 14:51:13,234 INFO Task completed: {{atomate.common.firetasks.glue_tasks.PassCalcLocs}} \n",
      "2017-08-05 14:51:13,240 INFO Task started: {{atomate.vasp.firetasks.parse_outputs.VaspToDb}}.\n",
      "2017-08-05 14:51:13,244 INFO atomate.vasp.firetasks.parse_outputs PARSING DIRECTORY: /home/km/Software/matproj/workshop-2017/Atomate/launcher_2017-08-05-21-51-12-867088\n",
      "2017-08-05 14:51:13,247 INFO atomate.vasp.drones Getting task doc for base dir :/home/km/Software/matproj/workshop-2017/Atomate/launcher_2017-08-05-21-51-12-867088\n",
      "2017-08-05 14:51:13,448 INFO atomate.vasp.drones Post-processing dir:/home/km/Software/matproj/workshop-2017/Atomate/launcher_2017-08-05-21-51-12-867088\n",
      "2017-08-05 14:51:13,449 WARNING atomate.vasp.drones Transformations file does not exist.\n",
      "2017-08-05 14:51:13,454 INFO atomate.vasp.drones Post-processed /home/km/Software/matproj/workshop-2017/Atomate/launcher_2017-08-05-21-51-12-867088\n",
      "2017-08-05 14:51:13,461 INFO atomate.utils.database Inserting 5727:/home/km/Software/matproj/workshop-2017/Atomate/launcher_2017-08-05-21-51-12-867088 with taskid = 19\n",
      "2017-08-05 14:51:13,480 INFO atomate.vasp.firetasks.parse_outputs Finished parsing with task_id: 19\n",
      "2017-08-05 14:51:13,484 INFO Task completed: {{atomate.vasp.firetasks.parse_outputs.VaspToDb}} \n",
      "2017-08-05 14:51:13,494 INFO Task started: {{atomate.common.firetasks.glue_tasks.PassResult}}.\n",
      "2017-08-05 14:51:13,557 INFO Task completed: {{atomate.common.firetasks.glue_tasks.PassResult}} \n"
     ]
    },
    {
     "name": "stderr",
     "output_type": "stream",
     "text": [
      "/home/km/Software/matproj/pymatgen/pymatgen/io/vasp/outputs.py:822: UserWarning: No POTCAR file with matching TITEL fields was found in /home/km/Software/matproj/workshop-2017/Atomate/launcher_2017-08-05-21-51-12-867088\n",
      "  \" was found in {}\".format(os.path.abspath(p)))\n"
     ]
    },
    {
     "name": "stdout",
     "output_type": "stream",
     "text": [
      "2017-08-05 14:51:13,604 INFO Rocket finished\n",
      "2017-08-05 14:51:13,613 INFO Created new dir /home/km/Software/matproj/workshop-2017/Atomate/launcher_2017-08-05-21-51-13-613765\n",
      "2017-08-05 14:51:13,615 INFO Launching Rocket\n",
      "2017-08-05 14:51:13,649 INFO RUNNING fw_id: 4 in directory: /home/km/Software/matproj/workshop-2017/Atomate/launcher_2017-08-05-21-51-13-613765\n",
      "2017-08-05 14:51:13,662 INFO Task started: {{atomate.vasp.firetasks.glue_tasks.CopyVaspOutputs}}.\n",
      "2017-08-05 14:51:13,891 INFO Task completed: {{atomate.vasp.firetasks.glue_tasks.CopyVaspOutputs}} \n",
      "2017-08-05 14:51:13,894 INFO Task started: {{atomate.vasp.firetasks.write_inputs.WriteTransmutedStructureIOSet}}.\n",
      "2017-08-05 14:51:13,912 INFO Task completed: {{atomate.vasp.firetasks.write_inputs.WriteTransmutedStructureIOSet}} \n",
      "2017-08-05 14:51:13,916 INFO Task started: {{atomate.vasp.firetasks.write_inputs.ModifyIncar}}.\n",
      "2017-08-05 14:51:13,918 INFO Task completed: {{atomate.vasp.firetasks.write_inputs.ModifyIncar}} \n",
      "2017-08-05 14:51:13,921 INFO Task started: {{atomate.vasp.firetasks.run_calc.RunVaspFake}}.\n",
      "2017-08-05 14:51:13,943 INFO atomate.vasp.firetasks.run_calc RunVaspFake: verified inputs successfully\n",
      "2017-08-05 14:51:13,945 INFO atomate.vasp.firetasks.run_calc RunVaspFake: ran fake VASP, generated outputs\n",
      "2017-08-05 14:51:13,948 INFO Task completed: {{atomate.vasp.firetasks.run_calc.RunVaspFake}} \n",
      "2017-08-05 14:51:13,951 INFO Task started: {{atomate.common.firetasks.glue_tasks.PassCalcLocs}}.\n",
      "2017-08-05 14:51:13,953 INFO Task completed: {{atomate.common.firetasks.glue_tasks.PassCalcLocs}} \n",
      "2017-08-05 14:51:13,957 INFO Task started: {{atomate.vasp.firetasks.parse_outputs.VaspToDb}}.\n",
      "2017-08-05 14:51:13,958 INFO atomate.vasp.firetasks.parse_outputs PARSING DIRECTORY: /home/km/Software/matproj/workshop-2017/Atomate/launcher_2017-08-05-21-51-13-613765\n",
      "2017-08-05 14:51:13,959 INFO atomate.vasp.drones Getting task doc for base dir :/home/km/Software/matproj/workshop-2017/Atomate/launcher_2017-08-05-21-51-13-613765\n",
      "2017-08-05 14:51:14,247 INFO atomate.vasp.drones Post-processing dir:/home/km/Software/matproj/workshop-2017/Atomate/launcher_2017-08-05-21-51-13-613765\n",
      "2017-08-05 14:51:14,249 WARNING atomate.vasp.drones Transformations file does not exist.\n",
      "2017-08-05 14:51:14,254 INFO atomate.vasp.drones Post-processed /home/km/Software/matproj/workshop-2017/Atomate/launcher_2017-08-05-21-51-13-613765\n",
      "2017-08-05 14:51:14,261 INFO atomate.utils.database Inserting 5727:/home/km/Software/matproj/workshop-2017/Atomate/launcher_2017-08-05-21-51-13-613765 with taskid = 20\n",
      "2017-08-05 14:51:14,280 INFO atomate.vasp.firetasks.parse_outputs Finished parsing with task_id: 20\n",
      "2017-08-05 14:51:14,282 INFO Task completed: {{atomate.vasp.firetasks.parse_outputs.VaspToDb}} \n",
      "2017-08-05 14:51:14,286 INFO Task started: {{atomate.common.firetasks.glue_tasks.PassResult}}.\n"
     ]
    },
    {
     "name": "stderr",
     "output_type": "stream",
     "text": [
      "/home/km/Software/matproj/pymatgen/pymatgen/io/vasp/outputs.py:822: UserWarning: No POTCAR file with matching TITEL fields was found in /home/km/Software/matproj/workshop-2017/Atomate/launcher_2017-08-05-21-51-13-613765\n",
      "  \" was found in {}\".format(os.path.abspath(p)))\n"
     ]
    },
    {
     "name": "stdout",
     "output_type": "stream",
     "text": [
      "2017-08-05 14:51:14,382 INFO Task completed: {{atomate.common.firetasks.glue_tasks.PassResult}} \n",
      "2017-08-05 14:51:14,416 INFO Rocket finished\n",
      "2017-08-05 14:51:14,424 INFO Created new dir /home/km/Software/matproj/workshop-2017/Atomate/launcher_2017-08-05-21-51-14-424681\n",
      "2017-08-05 14:51:14,425 INFO Launching Rocket\n",
      "2017-08-05 14:51:14,471 INFO RUNNING fw_id: 3 in directory: /home/km/Software/matproj/workshop-2017/Atomate/launcher_2017-08-05-21-51-14-424681\n",
      "2017-08-05 14:51:14,486 INFO Task started: {{atomate.vasp.firetasks.glue_tasks.CopyVaspOutputs}}.\n",
      "2017-08-05 14:51:14,735 INFO Task completed: {{atomate.vasp.firetasks.glue_tasks.CopyVaspOutputs}} \n",
      "2017-08-05 14:51:14,738 INFO Task started: {{atomate.vasp.firetasks.write_inputs.WriteTransmutedStructureIOSet}}.\n",
      "2017-08-05 14:51:14,755 INFO Task completed: {{atomate.vasp.firetasks.write_inputs.WriteTransmutedStructureIOSet}} \n",
      "2017-08-05 14:51:14,759 INFO Task started: {{atomate.vasp.firetasks.write_inputs.ModifyIncar}}.\n",
      "2017-08-05 14:51:14,760 INFO Task completed: {{atomate.vasp.firetasks.write_inputs.ModifyIncar}} \n",
      "2017-08-05 14:51:14,764 INFO Task started: {{atomate.vasp.firetasks.run_calc.RunVaspFake}}.\n",
      "2017-08-05 14:51:14,784 INFO atomate.vasp.firetasks.run_calc RunVaspFake: verified inputs successfully\n",
      "2017-08-05 14:51:14,788 INFO atomate.vasp.firetasks.run_calc RunVaspFake: ran fake VASP, generated outputs\n",
      "2017-08-05 14:51:14,789 INFO Task completed: {{atomate.vasp.firetasks.run_calc.RunVaspFake}} \n",
      "2017-08-05 14:51:14,792 INFO Task started: {{atomate.common.firetasks.glue_tasks.PassCalcLocs}}.\n",
      "2017-08-05 14:51:14,793 INFO Task completed: {{atomate.common.firetasks.glue_tasks.PassCalcLocs}} \n",
      "2017-08-05 14:51:14,797 INFO Task started: {{atomate.vasp.firetasks.parse_outputs.VaspToDb}}.\n",
      "2017-08-05 14:51:14,798 INFO atomate.vasp.firetasks.parse_outputs PARSING DIRECTORY: /home/km/Software/matproj/workshop-2017/Atomate/launcher_2017-08-05-21-51-14-424681\n",
      "2017-08-05 14:51:14,799 INFO atomate.vasp.drones Getting task doc for base dir :/home/km/Software/matproj/workshop-2017/Atomate/launcher_2017-08-05-21-51-14-424681\n",
      "2017-08-05 14:51:15,110 INFO atomate.vasp.drones Post-processing dir:/home/km/Software/matproj/workshop-2017/Atomate/launcher_2017-08-05-21-51-14-424681\n",
      "2017-08-05 14:51:15,111 WARNING atomate.vasp.drones Transformations file does not exist.\n",
      "2017-08-05 14:51:15,116 INFO atomate.vasp.drones Post-processed /home/km/Software/matproj/workshop-2017/Atomate/launcher_2017-08-05-21-51-14-424681\n",
      "2017-08-05 14:51:15,122 INFO atomate.utils.database Inserting 5727:/home/km/Software/matproj/workshop-2017/Atomate/launcher_2017-08-05-21-51-14-424681 with taskid = 21\n",
      "2017-08-05 14:51:15,141 INFO atomate.vasp.firetasks.parse_outputs Finished parsing with task_id: 21\n",
      "2017-08-05 14:51:15,143 INFO Task completed: {{atomate.vasp.firetasks.parse_outputs.VaspToDb}} \n",
      "2017-08-05 14:51:15,150 INFO Task started: {{atomate.common.firetasks.glue_tasks.PassResult}}.\n"
     ]
    },
    {
     "name": "stderr",
     "output_type": "stream",
     "text": [
      "/home/km/Software/matproj/pymatgen/pymatgen/io/vasp/outputs.py:822: UserWarning: No POTCAR file with matching TITEL fields was found in /home/km/Software/matproj/workshop-2017/Atomate/launcher_2017-08-05-21-51-14-424681\n",
      "  \" was found in {}\".format(os.path.abspath(p)))\n"
     ]
    },
    {
     "name": "stdout",
     "output_type": "stream",
     "text": [
      "2017-08-05 14:51:15,301 INFO Task completed: {{atomate.common.firetasks.glue_tasks.PassResult}} \n",
      "2017-08-05 14:51:15,338 INFO Rocket finished\n",
      "2017-08-05 14:51:15,348 INFO Created new dir /home/km/Software/matproj/workshop-2017/Atomate/launcher_2017-08-05-21-51-15-348259\n",
      "2017-08-05 14:51:15,351 INFO Launching Rocket\n",
      "2017-08-05 14:51:15,386 INFO RUNNING fw_id: 2 in directory: /home/km/Software/matproj/workshop-2017/Atomate/launcher_2017-08-05-21-51-15-348259\n",
      "2017-08-05 14:51:15,398 INFO Task started: {{atomate.vasp.firetasks.glue_tasks.CopyVaspOutputs}}.\n",
      "2017-08-05 14:51:15,646 INFO Task completed: {{atomate.vasp.firetasks.glue_tasks.CopyVaspOutputs}} \n",
      "2017-08-05 14:51:15,650 INFO Task started: {{atomate.vasp.firetasks.write_inputs.WriteTransmutedStructureIOSet}}.\n",
      "2017-08-05 14:51:15,665 INFO Task completed: {{atomate.vasp.firetasks.write_inputs.WriteTransmutedStructureIOSet}} \n",
      "2017-08-05 14:51:15,669 INFO Task started: {{atomate.vasp.firetasks.write_inputs.ModifyIncar}}.\n",
      "2017-08-05 14:51:15,672 INFO Task completed: {{atomate.vasp.firetasks.write_inputs.ModifyIncar}} \n",
      "2017-08-05 14:51:15,677 INFO Task started: {{atomate.vasp.firetasks.run_calc.RunVaspFake}}.\n",
      "2017-08-05 14:51:15,697 INFO atomate.vasp.firetasks.run_calc RunVaspFake: verified inputs successfully\n",
      "2017-08-05 14:51:15,700 INFO atomate.vasp.firetasks.run_calc RunVaspFake: ran fake VASP, generated outputs\n",
      "2017-08-05 14:51:15,701 INFO Task completed: {{atomate.vasp.firetasks.run_calc.RunVaspFake}} \n",
      "2017-08-05 14:51:15,709 INFO Task started: {{atomate.common.firetasks.glue_tasks.PassCalcLocs}}.\n",
      "2017-08-05 14:51:15,710 INFO Task completed: {{atomate.common.firetasks.glue_tasks.PassCalcLocs}} \n",
      "2017-08-05 14:51:15,716 INFO Task started: {{atomate.vasp.firetasks.parse_outputs.VaspToDb}}.\n",
      "2017-08-05 14:51:15,717 INFO atomate.vasp.firetasks.parse_outputs PARSING DIRECTORY: /home/km/Software/matproj/workshop-2017/Atomate/launcher_2017-08-05-21-51-15-348259\n",
      "2017-08-05 14:51:15,720 INFO atomate.vasp.drones Getting task doc for base dir :/home/km/Software/matproj/workshop-2017/Atomate/launcher_2017-08-05-21-51-15-348259\n",
      "2017-08-05 14:51:15,950 INFO atomate.vasp.drones Post-processing dir:/home/km/Software/matproj/workshop-2017/Atomate/launcher_2017-08-05-21-51-15-348259\n",
      "2017-08-05 14:51:15,951 WARNING atomate.vasp.drones Transformations file does not exist.\n",
      "2017-08-05 14:51:15,956 INFO atomate.vasp.drones Post-processed /home/km/Software/matproj/workshop-2017/Atomate/launcher_2017-08-05-21-51-15-348259\n",
      "2017-08-05 14:51:15,961 INFO atomate.utils.database Inserting 5727:/home/km/Software/matproj/workshop-2017/Atomate/launcher_2017-08-05-21-51-15-348259 with taskid = 22\n",
      "2017-08-05 14:51:15,984 INFO atomate.vasp.firetasks.parse_outputs Finished parsing with task_id: 22\n",
      "2017-08-05 14:51:15,986 INFO Task completed: {{atomate.vasp.firetasks.parse_outputs.VaspToDb}} \n",
      "2017-08-05 14:51:15,994 INFO Task started: {{atomate.common.firetasks.glue_tasks.PassResult}}.\n"
     ]
    },
    {
     "name": "stderr",
     "output_type": "stream",
     "text": [
      "/home/km/Software/matproj/pymatgen/pymatgen/io/vasp/outputs.py:822: UserWarning: No POTCAR file with matching TITEL fields was found in /home/km/Software/matproj/workshop-2017/Atomate/launcher_2017-08-05-21-51-15-348259\n",
      "  \" was found in {}\".format(os.path.abspath(p)))\n"
     ]
    },
    {
     "name": "stdout",
     "output_type": "stream",
     "text": [
      "2017-08-05 14:51:16,142 INFO Task completed: {{atomate.common.firetasks.glue_tasks.PassResult}} \n",
      "2017-08-05 14:51:16,178 INFO Rocket finished\n",
      "2017-08-05 14:51:16,184 INFO Created new dir /home/km/Software/matproj/workshop-2017/Atomate/launcher_2017-08-05-21-51-16-184641\n",
      "2017-08-05 14:51:16,185 INFO Launching Rocket\n",
      "2017-08-05 14:51:16,214 INFO RUNNING fw_id: 1 in directory: /home/km/Software/matproj/workshop-2017/Atomate/launcher_2017-08-05-21-51-16-184641\n",
      "2017-08-05 14:51:16,225 INFO Task started: {{atomate.vasp.firetasks.parse_outputs.ElasticTensorToDb}}.\n",
      "2017-08-05 14:51:16,227 INFO atomate.vasp.firetasks.parse_outputs Parsing initial optimization directory: /home/km/Software/matproj/workshop-2017/Atomate/launcher_2017-08-05-21-51-10-901393\n",
      "2017-08-05 14:51:16,228 INFO atomate.vasp.drones Getting task doc for base dir :/home/km/Software/matproj/workshop-2017/Atomate/launcher_2017-08-05-21-51-10-901393\n",
      "2017-08-05 14:51:16,356 INFO atomate.vasp.drones Post-processing dir:/home/km/Software/matproj/workshop-2017/Atomate/launcher_2017-08-05-21-51-10-901393\n",
      "2017-08-05 14:51:16,357 WARNING atomate.vasp.drones Transformations file does not exist.\n",
      "2017-08-05 14:51:16,362 INFO atomate.vasp.drones Post-processed /home/km/Software/matproj/workshop-2017/Atomate/launcher_2017-08-05-21-51-10-901393\n",
      "2017-08-05 14:51:16,368 INFO atomate.vasp.firetasks.parse_outputs Analyzing stress/strain data\n",
      "2017-08-05 14:51:16,880 INFO atomate.vasp.firetasks.parse_outputs Elastic analysis complete.\n",
      "2017-08-05 14:51:16,881 INFO Task completed: {{atomate.vasp.firetasks.parse_outputs.ElasticTensorToDb}} \n",
      "2017-08-05 14:51:16,907 INFO Rocket finished\n"
     ]
    }
   ],
   "source": [
    "from fireworks import FWorker\n",
    "from fireworks.core.rocket_launcher import rapidfire\n",
    "\n",
    "rapidfire(lp)"
   ]
  },
  {
   "cell_type": "code",
   "execution_count": 12,
   "metadata": {
    "collapsed": true
   },
   "outputs": [],
   "source": [
    "from atomate.vasp.database import VaspCalcDb\n",
    "\n",
    "vasp_db = VaspCalcDb()"
   ]
  },
  {
   "cell_type": "code",
   "execution_count": 13,
   "metadata": {},
   "outputs": [],
   "source": [
    "from helper_functions import get_task_id\n",
    "\n",
    "task_id = get_task_id(lp, \"elastic deformation 4\")\n",
    "d = vasp_db.collection.find_one({\"task_label\":\"elastic deformation 4\"})"
   ]
  },
  {
   "cell_type": "code",
   "execution_count": 14,
   "metadata": {},
   "outputs": [
    {
     "data": {
      "text/plain": [
       "[[3.25702976, 0.0, -45.03552717],\n",
       " [0.0, -0.60369959, 0.0],\n",
       " [-45.03552718, 0.0, 1.66978914]]"
      ]
     },
     "execution_count": 14,
     "metadata": {},
     "output_type": "execute_result"
    }
   ],
   "source": [
    "d[\"calcs_reversed\"][0][\"output\"][\"ionic_steps\"][-1][\"stress\"]"
   ]
  },
  {
   "cell_type": "code",
   "execution_count": 15,
   "metadata": {
    "collapsed": true
   },
   "outputs": [],
   "source": [
    "d = vasp_db.db.elasticity.find_one()"
   ]
  },
  {
   "cell_type": "code",
   "execution_count": 16,
   "metadata": {},
   "outputs": [
    {
     "data": {
      "text/plain": [
       "[[146.25385837056845,\n",
       "  52.26244897838195,\n",
       "  52.262448978381975,\n",
       "  0.0,\n",
       "  -9.25185853854297e-18,\n",
       "  0.0],\n",
       " [52.26244897838195,\n",
       "  146.25385837056848,\n",
       "  52.26244897838197,\n",
       "  0.0,\n",
       "  0.0,\n",
       "  -4.625929269271485e-18],\n",
       " [52.262448978381975,\n",
       "  52.26244897838197,\n",
       "  146.25385837056845,\n",
       "  -4.625929269271485e-18,\n",
       "  -2.3129646346357427e-18,\n",
       "  0.0],\n",
       " [0.0, 0.0, -4.625929269271485e-18, 75.22653077258354, 0.0, 0.0],\n",
       " [-9.25185853854297e-18,\n",
       "  0.0,\n",
       "  -2.3129646346357427e-18,\n",
       "  0.0,\n",
       "  75.22653077258354,\n",
       "  0.0],\n",
       " [0.0, -4.625929269271485e-18, 0.0, 0.0, 0.0, 75.22653077258353]]"
      ]
     },
     "execution_count": 16,
     "metadata": {},
     "output_type": "execute_result"
    }
   ],
   "source": [
    "d['elastic_tensor']['ieee_format']"
   ]
  },
  {
   "cell_type": "code",
   "execution_count": null,
   "metadata": {
    "collapsed": true
   },
   "outputs": [],
   "source": []
  }
 ],
 "metadata": {
  "kernelspec": {
   "display_name": "Python 3",
   "language": "python",
   "name": "python3"
  },
  "language_info": {
   "codemirror_mode": {
    "name": "ipython",
    "version": 3
   },
   "file_extension": ".py",
   "mimetype": "text/x-python",
   "name": "python",
   "nbconvert_exporter": "python",
   "pygments_lexer": "ipython3",
   "version": "3.6.2"
  }
 },
 "nbformat": 4,
 "nbformat_minor": 1
}
