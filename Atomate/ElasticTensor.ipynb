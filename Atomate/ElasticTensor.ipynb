{
 "cells": [
  {
   "cell_type": "code",
   "execution_count": 1,
   "metadata": {
    "collapsed": true
   },
   "outputs": [],
   "source": [
    "import os\n",
    "\n",
    "db_file = os.path.abspath(\"db.json\")"
   ]
  },
  {
   "cell_type": "code",
   "execution_count": 2,
   "metadata": {
    "collapsed": true
   },
   "outputs": [],
   "source": [
    "from pymatgen import Structure\n",
    "\n",
    "struct_si = Structure([[5.468344455957462, 0.0, -0.0], \n",
    "                       [-0.0, 5.468344455957462, 0.0], \n",
    "                       [0.0, -0.0, 5.468344455957462]], \n",
    "                      \n",
    "                      [\"Si\"]*8, \n",
    "                      \n",
    "                      [[-0.0, -0.0, 0.5],\n",
    "                       [0.75, 0.75, 0.75],\n",
    "                       [0.0, 0.5, -0.0],\n",
    "                       [0.75, 0.25, 0.25],\n",
    "                       [0.5, 0.0, -0.0],\n",
    "                       [0.25, 0.75, 0.25],\n",
    "                       [0.5, 0.5, 0.5],\n",
    "                       [0.25, 0.25, 0.75]])"
   ]
  },
  {
   "cell_type": "code",
   "execution_count": 3,
   "metadata": {
    "collapsed": true
   },
   "outputs": [],
   "source": [
    "from atomate.vasp.workflows import wf_structure_optimization\n",
    "\n",
    "c = {\"DB_FILE\": db_file}\n",
    "wf = wf_structure_optimization(struct_si, c)"
   ]
  },
  {
   "cell_type": "code",
   "execution_count": 4,
   "metadata": {
    "collapsed": true
   },
   "outputs": [],
   "source": [
    "from atomate.vasp.workflows import get_wf_elastic_constant\n",
    "\n",
    "wf_elastic = get_wf_elastic_constant(struct_si, db_file=db_file, \n",
    "                              stencils=[[0.01], [0.01], [0.01], [0.03], [0.03], [0.03]], \n",
    "                              copy_vasp_outputs=True)"
   ]
  },
  {
   "cell_type": "code",
   "execution_count": 5,
   "metadata": {},
   "outputs": [
    {
     "data": {
      "text/plain": [
       "{-8, -7, -6, -5, -4, -3, -2}"
      ]
     },
     "execution_count": 5,
     "metadata": {},
     "output_type": "execute_result"
    }
   ],
   "source": [
    "wf.append_wf(wf_elastic, wf.leaf_fw_ids)"
   ]
  },
  {
   "cell_type": "code",
   "execution_count": 6,
   "metadata": {
    "collapsed": true
   },
   "outputs": [],
   "source": [
    "from atomate.vasp.powerups import add_modify_incar\n",
    "\n",
    "\n",
    "wf = add_modify_incar(wf, {'incar_update': {'EDIFF': 1e-6, 'ENCUT': 700}})"
   ]
  },
  {
   "cell_type": "code",
   "execution_count": 7,
   "metadata": {
    "collapsed": true
   },
   "outputs": [],
   "source": [
    "from helper_functions import elastic_simulator\n",
    "\n",
    "wf = elastic_simulator(wf)"
   ]
  },
  {
   "cell_type": "code",
   "execution_count": 8,
   "metadata": {},
   "outputs": [],
   "source": [
    "from fireworks.utilities.fw_utilities import plot_wf\n",
    "\n",
    "plot_wf(wf, depth_factor=2, numerical_label=True)"
   ]
  },
  {
   "cell_type": "code",
   "execution_count": 9,
   "metadata": {},
   "outputs": [
    {
     "name": "stdout",
     "output_type": "stream",
     "text": [
      "2017-08-05 14:40:24,320 INFO Performing db tune-up\n",
      "2017-08-05 14:40:24,329 INFO LaunchPad was RESET.\n"
     ]
    }
   ],
   "source": [
    "from fireworks import LaunchPad\n",
    "\n",
    "lp = LaunchPad()\n",
    "lp.reset(\"\", require_password=False)"
   ]
  },
  {
   "cell_type": "code",
   "execution_count": 10,
   "metadata": {},
   "outputs": [
    {
     "name": "stdout",
     "output_type": "stream",
     "text": [
      "2017-08-05 14:40:25,173 INFO Added a workflow. id_map: {-8: 1, -7: 2, -6: 3, -5: 4, -4: 5, -3: 6, -2: 7, -1: 8}\n"
     ]
    },
    {
     "data": {
      "text/plain": [
       "{-8: 1, -7: 2, -6: 3, -5: 4, -4: 5, -3: 6, -2: 7, -1: 8}"
      ]
     },
     "execution_count": 10,
     "metadata": {},
     "output_type": "execute_result"
    }
   ],
   "source": [
    "lp.add_wf(wf)"
   ]
  },
  {
   "cell_type": "code",
   "execution_count": 12,
   "metadata": {},
   "outputs": [
    {
     "name": "stdout",
     "output_type": "stream",
     "text": [
      "2017-08-01 10:58:18,660 INFO Created new dir /home/km/Software/matproj/workshop-2017/Atomate/launcher_2017-08-01-17-58-18-660461\n",
      "2017-08-01 10:58:18,661 INFO Launching Rocket\n",
      "2017-08-01 10:58:18,688 INFO RUNNING fw_id: 8 in directory: /home/km/Software/matproj/workshop-2017/Atomate/launcher_2017-08-01-17-58-18-660461\n",
      "2017-08-01 10:58:18,696 INFO Task started: FileWriteTask.\n",
      "2017-08-01 10:58:18,701 INFO Task completed: FileWriteTask \n",
      "2017-08-01 10:58:18,701 INFO Task started: {{atomate.vasp.firetasks.write_inputs.WriteVaspFromIOSet}}.\n",
      "2017-08-01 10:58:18,714 INFO Task completed: {{atomate.vasp.firetasks.write_inputs.WriteVaspFromIOSet}} \n",
      "2017-08-01 10:58:18,715 INFO Task started: {{atomate.vasp.firetasks.write_inputs.ModifyIncar}}.\n",
      "2017-08-01 10:58:18,718 INFO Task completed: {{atomate.vasp.firetasks.write_inputs.ModifyIncar}} \n",
      "2017-08-01 10:58:18,719 INFO Task started: {{atomate.vasp.firetasks.run_calc.RunVaspFake}}.\n",
      "2017-08-01 10:58:18,750 INFO atomate.vasp.firetasks.run_calc RunVaspFake: verified inputs successfully\n",
      "2017-08-01 10:58:18,753 INFO atomate.vasp.firetasks.run_calc RunVaspFake: ran fake VASP, generated outputs\n",
      "2017-08-01 10:58:18,754 INFO Task completed: {{atomate.vasp.firetasks.run_calc.RunVaspFake}} \n",
      "2017-08-01 10:58:18,755 INFO Task started: {{atomate.common.firetasks.glue_tasks.PassCalcLocs}}.\n",
      "2017-08-01 10:58:18,756 INFO Task completed: {{atomate.common.firetasks.glue_tasks.PassCalcLocs}} \n",
      "2017-08-01 10:58:18,757 INFO Task started: {{atomate.vasp.firetasks.parse_outputs.VaspToDb}}.\n",
      "2017-08-01 10:58:18,758 INFO atomate.vasp.firetasks.parse_outputs PARSING DIRECTORY: /home/km/Software/matproj/workshop-2017/Atomate/launcher_2017-08-01-17-58-18-660461\n",
      "2017-08-01 10:58:18,759 INFO atomate.vasp.drones Getting task doc for base dir :/home/km/Software/matproj/workshop-2017/Atomate/launcher_2017-08-01-17-58-18-660461\n",
      "2017-08-01 10:58:18,949 INFO atomate.vasp.drones Post-processing dir:/home/km/Software/matproj/workshop-2017/Atomate/launcher_2017-08-01-17-58-18-660461\n",
      "2017-08-01 10:58:18,952 WARNING atomate.vasp.drones Transformations file does not exist.\n",
      "2017-08-01 10:58:18,959 INFO atomate.vasp.drones Post-processed /home/km/Software/matproj/workshop-2017/Atomate/launcher_2017-08-01-17-58-18-660461\n",
      "2017-08-01 10:58:18,977 INFO atomate.utils.database Inserting km-UX305LA:/home/km/Software/matproj/workshop-2017/Atomate/launcher_2017-08-01-17-58-18-660461 with taskid = 44\n",
      "2017-08-01 10:58:18,992 INFO atomate.vasp.firetasks.parse_outputs Finished parsing with task_id: 44\n",
      "2017-08-01 10:58:18,994 INFO Task completed: {{atomate.vasp.firetasks.parse_outputs.VaspToDb}} \n",
      "2017-08-01 10:58:19,102 INFO Rocket finished\n",
      "2017-08-01 10:58:19,112 INFO Created new dir /home/km/Software/matproj/workshop-2017/Atomate/launcher_2017-08-01-17-58-19-111981\n",
      "2017-08-01 10:58:19,113 INFO Launching Rocket\n",
      "2017-08-01 10:58:19,159 INFO RUNNING fw_id: 7 in directory: /home/km/Software/matproj/workshop-2017/Atomate/launcher_2017-08-01-17-58-19-111981\n",
      "2017-08-01 10:58:19,171 INFO Task started: {{atomate.vasp.firetasks.glue_tasks.CopyVaspOutputs}}.\n",
      "2017-08-01 10:58:19,417 INFO Task completed: {{atomate.vasp.firetasks.glue_tasks.CopyVaspOutputs}} \n",
      "2017-08-01 10:58:19,418 INFO Task started: {{atomate.vasp.firetasks.write_inputs.WriteTransmutedStructureIOSet}}.\n",
      "2017-08-01 10:58:19,444 INFO Task completed: {{atomate.vasp.firetasks.write_inputs.WriteTransmutedStructureIOSet}} \n",
      "2017-08-01 10:58:19,445 INFO Task started: {{atomate.vasp.firetasks.write_inputs.ModifyIncar}}.\n",
      "2017-08-01 10:58:19,447 INFO Task completed: {{atomate.vasp.firetasks.write_inputs.ModifyIncar}} \n",
      "2017-08-01 10:58:19,448 INFO Task started: {{atomate.vasp.firetasks.run_calc.RunVaspFake}}.\n",
      "2017-08-01 10:58:19,478 INFO atomate.vasp.firetasks.run_calc RunVaspFake: verified inputs successfully\n",
      "2017-08-01 10:58:19,480 INFO atomate.vasp.firetasks.run_calc RunVaspFake: ran fake VASP, generated outputs\n",
      "2017-08-01 10:58:19,481 INFO Task completed: {{atomate.vasp.firetasks.run_calc.RunVaspFake}} \n",
      "2017-08-01 10:58:19,482 INFO Task started: {{atomate.common.firetasks.glue_tasks.PassCalcLocs}}.\n",
      "2017-08-01 10:58:19,483 INFO Task completed: {{atomate.common.firetasks.glue_tasks.PassCalcLocs}} \n",
      "2017-08-01 10:58:19,484 INFO Task started: {{atomate.vasp.firetasks.parse_outputs.VaspToDb}}.\n",
      "2017-08-01 10:58:19,485 INFO atomate.vasp.firetasks.parse_outputs PARSING DIRECTORY: /home/km/Software/matproj/workshop-2017/Atomate/launcher_2017-08-01-17-58-19-111981\n",
      "2017-08-01 10:58:19,486 INFO atomate.vasp.drones Getting task doc for base dir :/home/km/Software/matproj/workshop-2017/Atomate/launcher_2017-08-01-17-58-19-111981\n",
      "2017-08-01 10:58:19,682 INFO atomate.vasp.drones Post-processing dir:/home/km/Software/matproj/workshop-2017/Atomate/launcher_2017-08-01-17-58-19-111981\n",
      "2017-08-01 10:58:19,683 WARNING atomate.vasp.drones Transformations file does not exist.\n",
      "2017-08-01 10:58:19,684 INFO atomate.vasp.drones Post-processed /home/km/Software/matproj/workshop-2017/Atomate/launcher_2017-08-01-17-58-19-111981\n",
      "2017-08-01 10:58:19,689 INFO atomate.utils.database Inserting km-UX305LA:/home/km/Software/matproj/workshop-2017/Atomate/launcher_2017-08-01-17-58-19-111981 with taskid = 45\n",
      "2017-08-01 10:58:19,703 INFO atomate.vasp.firetasks.parse_outputs Finished parsing with task_id: 45\n",
      "2017-08-01 10:58:19,705 INFO Task completed: {{atomate.vasp.firetasks.parse_outputs.VaspToDb}} \n",
      "2017-08-01 10:58:19,706 INFO Task started: {{atomate.common.firetasks.glue_tasks.PassResult}}.\n"
     ]
    },
    {
     "name": "stderr",
     "output_type": "stream",
     "text": [
      "/home/km/Software/matproj/pymatgen/pymatgen/io/vasp/outputs.py:822: UserWarning: No POTCAR file with matching TITEL fields was found in /home/km/Software/matproj/workshop-2017/Atomate/launcher_2017-08-01-17-58-19-111981\n",
      "  \" was found in {}\".format(os.path.abspath(p)))\n"
     ]
    },
    {
     "name": "stdout",
     "output_type": "stream",
     "text": [
      "2017-08-01 10:58:19,868 INFO Task completed: {{atomate.common.firetasks.glue_tasks.PassResult}} \n",
      "2017-08-01 10:58:19,918 INFO Rocket finished\n",
      "2017-08-01 10:58:19,932 INFO Created new dir /home/km/Software/matproj/workshop-2017/Atomate/launcher_2017-08-01-17-58-19-930183\n",
      "2017-08-01 10:58:19,937 INFO Launching Rocket\n",
      "2017-08-01 10:58:19,989 INFO RUNNING fw_id: 6 in directory: /home/km/Software/matproj/workshop-2017/Atomate/launcher_2017-08-01-17-58-19-930183\n",
      "2017-08-01 10:58:19,999 INFO Task started: {{atomate.vasp.firetasks.glue_tasks.CopyVaspOutputs}}.\n",
      "2017-08-01 10:58:20,223 INFO Task completed: {{atomate.vasp.firetasks.glue_tasks.CopyVaspOutputs}} \n",
      "2017-08-01 10:58:20,223 INFO Task started: {{atomate.vasp.firetasks.write_inputs.WriteTransmutedStructureIOSet}}.\n",
      "2017-08-01 10:58:20,240 INFO Task completed: {{atomate.vasp.firetasks.write_inputs.WriteTransmutedStructureIOSet}} \n",
      "2017-08-01 10:58:20,241 INFO Task started: {{atomate.vasp.firetasks.write_inputs.ModifyIncar}}.\n",
      "2017-08-01 10:58:20,242 INFO Task completed: {{atomate.vasp.firetasks.write_inputs.ModifyIncar}} \n",
      "2017-08-01 10:58:20,243 INFO Task started: {{atomate.vasp.firetasks.run_calc.RunVaspFake}}.\n",
      "2017-08-01 10:58:20,274 INFO atomate.vasp.firetasks.run_calc RunVaspFake: verified inputs successfully\n",
      "2017-08-01 10:58:20,276 INFO atomate.vasp.firetasks.run_calc RunVaspFake: ran fake VASP, generated outputs\n",
      "2017-08-01 10:58:20,277 INFO Task completed: {{atomate.vasp.firetasks.run_calc.RunVaspFake}} \n",
      "2017-08-01 10:58:20,278 INFO Task started: {{atomate.common.firetasks.glue_tasks.PassCalcLocs}}.\n",
      "2017-08-01 10:58:20,279 INFO Task completed: {{atomate.common.firetasks.glue_tasks.PassCalcLocs}} \n",
      "2017-08-01 10:58:20,280 INFO Task started: {{atomate.vasp.firetasks.parse_outputs.VaspToDb}}.\n",
      "2017-08-01 10:58:20,281 INFO atomate.vasp.firetasks.parse_outputs PARSING DIRECTORY: /home/km/Software/matproj/workshop-2017/Atomate/launcher_2017-08-01-17-58-19-930183\n",
      "2017-08-01 10:58:20,282 INFO atomate.vasp.drones Getting task doc for base dir :/home/km/Software/matproj/workshop-2017/Atomate/launcher_2017-08-01-17-58-19-930183\n",
      "2017-08-01 10:58:20,511 INFO atomate.vasp.drones Post-processing dir:/home/km/Software/matproj/workshop-2017/Atomate/launcher_2017-08-01-17-58-19-930183\n",
      "2017-08-01 10:58:20,513 WARNING atomate.vasp.drones Transformations file does not exist.\n",
      "2017-08-01 10:58:20,516 INFO atomate.vasp.drones Post-processed /home/km/Software/matproj/workshop-2017/Atomate/launcher_2017-08-01-17-58-19-930183\n",
      "2017-08-01 10:58:20,531 INFO atomate.utils.database Inserting km-UX305LA:/home/km/Software/matproj/workshop-2017/Atomate/launcher_2017-08-01-17-58-19-930183 with taskid = 46\n",
      "2017-08-01 10:58:20,549 INFO atomate.vasp.firetasks.parse_outputs Finished parsing with task_id: 46\n",
      "2017-08-01 10:58:20,551 INFO Task completed: {{atomate.vasp.firetasks.parse_outputs.VaspToDb}} \n",
      "2017-08-01 10:58:20,552 INFO Task started: {{atomate.common.firetasks.glue_tasks.PassResult}}.\n"
     ]
    },
    {
     "name": "stderr",
     "output_type": "stream",
     "text": [
      "/home/km/Software/matproj/pymatgen/pymatgen/io/vasp/outputs.py:822: UserWarning: No POTCAR file with matching TITEL fields was found in /home/km/Software/matproj/workshop-2017/Atomate/launcher_2017-08-01-17-58-19-930183\n",
      "  \" was found in {}\".format(os.path.abspath(p)))\n"
     ]
    },
    {
     "name": "stdout",
     "output_type": "stream",
     "text": [
      "2017-08-01 10:58:20,666 INFO Task completed: {{atomate.common.firetasks.glue_tasks.PassResult}} \n",
      "2017-08-01 10:58:20,707 INFO Rocket finished\n",
      "2017-08-01 10:58:20,716 INFO Created new dir /home/km/Software/matproj/workshop-2017/Atomate/launcher_2017-08-01-17-58-20-716237\n",
      "2017-08-01 10:58:20,718 INFO Launching Rocket\n",
      "2017-08-01 10:58:20,763 INFO RUNNING fw_id: 5 in directory: /home/km/Software/matproj/workshop-2017/Atomate/launcher_2017-08-01-17-58-20-716237\n",
      "2017-08-01 10:58:20,775 INFO Task started: {{atomate.vasp.firetasks.glue_tasks.CopyVaspOutputs}}.\n",
      "2017-08-01 10:58:21,046 INFO Task completed: {{atomate.vasp.firetasks.glue_tasks.CopyVaspOutputs}} \n",
      "2017-08-01 10:58:21,047 INFO Task started: {{atomate.vasp.firetasks.write_inputs.WriteTransmutedStructureIOSet}}.\n",
      "2017-08-01 10:58:21,071 INFO Task completed: {{atomate.vasp.firetasks.write_inputs.WriteTransmutedStructureIOSet}} \n",
      "2017-08-01 10:58:21,072 INFO Task started: {{atomate.vasp.firetasks.write_inputs.ModifyIncar}}.\n",
      "2017-08-01 10:58:21,076 INFO Task completed: {{atomate.vasp.firetasks.write_inputs.ModifyIncar}} \n",
      "2017-08-01 10:58:21,079 INFO Task started: {{atomate.vasp.firetasks.run_calc.RunVaspFake}}.\n",
      "2017-08-01 10:58:21,112 INFO atomate.vasp.firetasks.run_calc RunVaspFake: verified inputs successfully\n",
      "2017-08-01 10:58:21,115 INFO atomate.vasp.firetasks.run_calc RunVaspFake: ran fake VASP, generated outputs\n",
      "2017-08-01 10:58:21,116 INFO Task completed: {{atomate.vasp.firetasks.run_calc.RunVaspFake}} \n",
      "2017-08-01 10:58:21,120 INFO Task started: {{atomate.common.firetasks.glue_tasks.PassCalcLocs}}.\n",
      "2017-08-01 10:58:21,123 INFO Task completed: {{atomate.common.firetasks.glue_tasks.PassCalcLocs}} \n",
      "2017-08-01 10:58:21,127 INFO Task started: {{atomate.vasp.firetasks.parse_outputs.VaspToDb}}.\n",
      "2017-08-01 10:58:21,128 INFO atomate.vasp.firetasks.parse_outputs PARSING DIRECTORY: /home/km/Software/matproj/workshop-2017/Atomate/launcher_2017-08-01-17-58-20-716237\n",
      "2017-08-01 10:58:21,131 INFO atomate.vasp.drones Getting task doc for base dir :/home/km/Software/matproj/workshop-2017/Atomate/launcher_2017-08-01-17-58-20-716237\n",
      "2017-08-01 10:58:21,390 INFO atomate.vasp.drones Post-processing dir:/home/km/Software/matproj/workshop-2017/Atomate/launcher_2017-08-01-17-58-20-716237\n",
      "2017-08-01 10:58:21,391 WARNING atomate.vasp.drones Transformations file does not exist.\n",
      "2017-08-01 10:58:21,392 INFO atomate.vasp.drones Post-processed /home/km/Software/matproj/workshop-2017/Atomate/launcher_2017-08-01-17-58-20-716237\n",
      "2017-08-01 10:58:21,404 INFO atomate.utils.database Inserting km-UX305LA:/home/km/Software/matproj/workshop-2017/Atomate/launcher_2017-08-01-17-58-20-716237 with taskid = 47\n",
      "2017-08-01 10:58:21,424 INFO atomate.vasp.firetasks.parse_outputs Finished parsing with task_id: 47\n",
      "2017-08-01 10:58:21,429 INFO Task completed: {{atomate.vasp.firetasks.parse_outputs.VaspToDb}} \n",
      "2017-08-01 10:58:21,431 INFO Task started: {{atomate.common.firetasks.glue_tasks.PassResult}}.\n"
     ]
    },
    {
     "name": "stderr",
     "output_type": "stream",
     "text": [
      "/home/km/Software/matproj/pymatgen/pymatgen/io/vasp/outputs.py:822: UserWarning: No POTCAR file with matching TITEL fields was found in /home/km/Software/matproj/workshop-2017/Atomate/launcher_2017-08-01-17-58-20-716237\n",
      "  \" was found in {}\".format(os.path.abspath(p)))\n"
     ]
    },
    {
     "name": "stdout",
     "output_type": "stream",
     "text": [
      "2017-08-01 10:58:21,545 INFO Task completed: {{atomate.common.firetasks.glue_tasks.PassResult}} \n",
      "2017-08-01 10:58:21,591 INFO Rocket finished\n",
      "2017-08-01 10:58:21,610 INFO Created new dir /home/km/Software/matproj/workshop-2017/Atomate/launcher_2017-08-01-17-58-21-609457\n",
      "2017-08-01 10:58:21,614 INFO Launching Rocket\n",
      "2017-08-01 10:58:21,664 INFO RUNNING fw_id: 4 in directory: /home/km/Software/matproj/workshop-2017/Atomate/launcher_2017-08-01-17-58-21-609457\n",
      "2017-08-01 10:58:21,676 INFO Task started: {{atomate.vasp.firetasks.glue_tasks.CopyVaspOutputs}}.\n",
      "2017-08-01 10:58:21,916 INFO Task completed: {{atomate.vasp.firetasks.glue_tasks.CopyVaspOutputs}} \n",
      "2017-08-01 10:58:21,917 INFO Task started: {{atomate.vasp.firetasks.write_inputs.WriteTransmutedStructureIOSet}}.\n",
      "2017-08-01 10:58:21,938 INFO Task completed: {{atomate.vasp.firetasks.write_inputs.WriteTransmutedStructureIOSet}} \n",
      "2017-08-01 10:58:21,940 INFO Task started: {{atomate.vasp.firetasks.write_inputs.ModifyIncar}}.\n",
      "2017-08-01 10:58:21,941 INFO Task completed: {{atomate.vasp.firetasks.write_inputs.ModifyIncar}} \n",
      "2017-08-01 10:58:21,946 INFO Task started: {{atomate.vasp.firetasks.run_calc.RunVaspFake}}.\n",
      "2017-08-01 10:58:21,976 INFO atomate.vasp.firetasks.run_calc RunVaspFake: verified inputs successfully\n",
      "2017-08-01 10:58:21,979 INFO atomate.vasp.firetasks.run_calc RunVaspFake: ran fake VASP, generated outputs\n",
      "2017-08-01 10:58:21,980 INFO Task completed: {{atomate.vasp.firetasks.run_calc.RunVaspFake}} \n",
      "2017-08-01 10:58:21,980 INFO Task started: {{atomate.common.firetasks.glue_tasks.PassCalcLocs}}.\n",
      "2017-08-01 10:58:21,982 INFO Task completed: {{atomate.common.firetasks.glue_tasks.PassCalcLocs}} \n",
      "2017-08-01 10:58:21,983 INFO Task started: {{atomate.vasp.firetasks.parse_outputs.VaspToDb}}.\n",
      "2017-08-01 10:58:21,984 INFO atomate.vasp.firetasks.parse_outputs PARSING DIRECTORY: /home/km/Software/matproj/workshop-2017/Atomate/launcher_2017-08-01-17-58-21-609457\n",
      "2017-08-01 10:58:21,985 INFO atomate.vasp.drones Getting task doc for base dir :/home/km/Software/matproj/workshop-2017/Atomate/launcher_2017-08-01-17-58-21-609457\n",
      "2017-08-01 10:58:22,356 INFO atomate.vasp.drones Post-processing dir:/home/km/Software/matproj/workshop-2017/Atomate/launcher_2017-08-01-17-58-21-609457\n",
      "2017-08-01 10:58:22,358 WARNING atomate.vasp.drones Transformations file does not exist.\n",
      "2017-08-01 10:58:22,359 INFO atomate.vasp.drones Post-processed /home/km/Software/matproj/workshop-2017/Atomate/launcher_2017-08-01-17-58-21-609457\n",
      "2017-08-01 10:58:22,371 INFO atomate.utils.database Inserting km-UX305LA:/home/km/Software/matproj/workshop-2017/Atomate/launcher_2017-08-01-17-58-21-609457 with taskid = 48\n",
      "2017-08-01 10:58:22,399 INFO atomate.vasp.firetasks.parse_outputs Finished parsing with task_id: 48\n",
      "2017-08-01 10:58:22,401 INFO Task completed: {{atomate.vasp.firetasks.parse_outputs.VaspToDb}} \n",
      "2017-08-01 10:58:22,402 INFO Task started: {{atomate.common.firetasks.glue_tasks.PassResult}}.\n"
     ]
    },
    {
     "name": "stderr",
     "output_type": "stream",
     "text": [
      "/home/km/Software/matproj/pymatgen/pymatgen/io/vasp/outputs.py:822: UserWarning: No POTCAR file with matching TITEL fields was found in /home/km/Software/matproj/workshop-2017/Atomate/launcher_2017-08-01-17-58-21-609457\n",
      "  \" was found in {}\".format(os.path.abspath(p)))\n"
     ]
    },
    {
     "name": "stdout",
     "output_type": "stream",
     "text": [
      "2017-08-01 10:58:22,603 INFO Task completed: {{atomate.common.firetasks.glue_tasks.PassResult}} \n",
      "2017-08-01 10:58:22,672 INFO Rocket finished\n",
      "2017-08-01 10:58:22,685 INFO Created new dir /home/km/Software/matproj/workshop-2017/Atomate/launcher_2017-08-01-17-58-22-685547\n",
      "2017-08-01 10:58:22,688 INFO Launching Rocket\n",
      "2017-08-01 10:58:22,728 INFO RUNNING fw_id: 3 in directory: /home/km/Software/matproj/workshop-2017/Atomate/launcher_2017-08-01-17-58-22-685547\n",
      "2017-08-01 10:58:22,735 INFO Task started: {{atomate.vasp.firetasks.glue_tasks.CopyVaspOutputs}}.\n",
      "2017-08-01 10:58:22,951 INFO Task completed: {{atomate.vasp.firetasks.glue_tasks.CopyVaspOutputs}} \n",
      "2017-08-01 10:58:22,952 INFO Task started: {{atomate.vasp.firetasks.write_inputs.WriteTransmutedStructureIOSet}}.\n",
      "2017-08-01 10:58:22,970 INFO Task completed: {{atomate.vasp.firetasks.write_inputs.WriteTransmutedStructureIOSet}} \n",
      "2017-08-01 10:58:22,975 INFO Task started: {{atomate.vasp.firetasks.write_inputs.ModifyIncar}}.\n",
      "2017-08-01 10:58:22,979 INFO Task completed: {{atomate.vasp.firetasks.write_inputs.ModifyIncar}} \n",
      "2017-08-01 10:58:22,980 INFO Task started: {{atomate.vasp.firetasks.run_calc.RunVaspFake}}.\n",
      "2017-08-01 10:58:23,011 INFO atomate.vasp.firetasks.run_calc RunVaspFake: verified inputs successfully\n",
      "2017-08-01 10:58:23,014 INFO atomate.vasp.firetasks.run_calc RunVaspFake: ran fake VASP, generated outputs\n",
      "2017-08-01 10:58:23,015 INFO Task completed: {{atomate.vasp.firetasks.run_calc.RunVaspFake}} \n",
      "2017-08-01 10:58:23,017 INFO Task started: {{atomate.common.firetasks.glue_tasks.PassCalcLocs}}.\n",
      "2017-08-01 10:58:23,018 INFO Task completed: {{atomate.common.firetasks.glue_tasks.PassCalcLocs}} \n",
      "2017-08-01 10:58:23,019 INFO Task started: {{atomate.vasp.firetasks.parse_outputs.VaspToDb}}.\n",
      "2017-08-01 10:58:23,020 INFO atomate.vasp.firetasks.parse_outputs PARSING DIRECTORY: /home/km/Software/matproj/workshop-2017/Atomate/launcher_2017-08-01-17-58-22-685547\n",
      "2017-08-01 10:58:23,021 INFO atomate.vasp.drones Getting task doc for base dir :/home/km/Software/matproj/workshop-2017/Atomate/launcher_2017-08-01-17-58-22-685547\n",
      "2017-08-01 10:58:23,335 INFO atomate.vasp.drones Post-processing dir:/home/km/Software/matproj/workshop-2017/Atomate/launcher_2017-08-01-17-58-22-685547\n",
      "2017-08-01 10:58:23,336 WARNING atomate.vasp.drones Transformations file does not exist.\n",
      "2017-08-01 10:58:23,338 INFO atomate.vasp.drones Post-processed /home/km/Software/matproj/workshop-2017/Atomate/launcher_2017-08-01-17-58-22-685547\n",
      "2017-08-01 10:58:23,355 INFO atomate.utils.database Inserting km-UX305LA:/home/km/Software/matproj/workshop-2017/Atomate/launcher_2017-08-01-17-58-22-685547 with taskid = 49\n",
      "2017-08-01 10:58:23,386 INFO atomate.vasp.firetasks.parse_outputs Finished parsing with task_id: 49\n",
      "2017-08-01 10:58:23,391 INFO Task completed: {{atomate.vasp.firetasks.parse_outputs.VaspToDb}} \n",
      "2017-08-01 10:58:23,395 INFO Task started: {{atomate.common.firetasks.glue_tasks.PassResult}}.\n"
     ]
    },
    {
     "name": "stderr",
     "output_type": "stream",
     "text": [
      "/home/km/Software/matproj/pymatgen/pymatgen/io/vasp/outputs.py:822: UserWarning: No POTCAR file with matching TITEL fields was found in /home/km/Software/matproj/workshop-2017/Atomate/launcher_2017-08-01-17-58-22-685547\n",
      "  \" was found in {}\".format(os.path.abspath(p)))\n"
     ]
    },
    {
     "name": "stdout",
     "output_type": "stream",
     "text": [
      "2017-08-01 10:58:23,586 INFO Task completed: {{atomate.common.firetasks.glue_tasks.PassResult}} \n",
      "2017-08-01 10:58:23,636 INFO Rocket finished\n",
      "2017-08-01 10:58:23,647 INFO Created new dir /home/km/Software/matproj/workshop-2017/Atomate/launcher_2017-08-01-17-58-23-647166\n",
      "2017-08-01 10:58:23,650 INFO Launching Rocket\n",
      "2017-08-01 10:58:23,697 INFO RUNNING fw_id: 2 in directory: /home/km/Software/matproj/workshop-2017/Atomate/launcher_2017-08-01-17-58-23-647166\n",
      "2017-08-01 10:58:23,704 INFO Task started: {{atomate.vasp.firetasks.glue_tasks.CopyVaspOutputs}}.\n",
      "2017-08-01 10:58:23,927 INFO Task completed: {{atomate.vasp.firetasks.glue_tasks.CopyVaspOutputs}} \n",
      "2017-08-01 10:58:23,928 INFO Task started: {{atomate.vasp.firetasks.write_inputs.WriteTransmutedStructureIOSet}}.\n",
      "2017-08-01 10:58:23,944 INFO Task completed: {{atomate.vasp.firetasks.write_inputs.WriteTransmutedStructureIOSet}} \n",
      "2017-08-01 10:58:23,945 INFO Task started: {{atomate.vasp.firetasks.write_inputs.ModifyIncar}}.\n",
      "2017-08-01 10:58:23,947 INFO Task completed: {{atomate.vasp.firetasks.write_inputs.ModifyIncar}} \n",
      "2017-08-01 10:58:23,947 INFO Task started: {{atomate.vasp.firetasks.run_calc.RunVaspFake}}.\n",
      "2017-08-01 10:58:23,978 INFO atomate.vasp.firetasks.run_calc RunVaspFake: verified inputs successfully\n",
      "2017-08-01 10:58:23,980 INFO atomate.vasp.firetasks.run_calc RunVaspFake: ran fake VASP, generated outputs\n",
      "2017-08-01 10:58:23,981 INFO Task completed: {{atomate.vasp.firetasks.run_calc.RunVaspFake}} \n",
      "2017-08-01 10:58:23,985 INFO Task started: {{atomate.common.firetasks.glue_tasks.PassCalcLocs}}.\n",
      "2017-08-01 10:58:23,986 INFO Task completed: {{atomate.common.firetasks.glue_tasks.PassCalcLocs}} \n",
      "2017-08-01 10:58:23,987 INFO Task started: {{atomate.vasp.firetasks.parse_outputs.VaspToDb}}.\n",
      "2017-08-01 10:58:23,988 INFO atomate.vasp.firetasks.parse_outputs PARSING DIRECTORY: /home/km/Software/matproj/workshop-2017/Atomate/launcher_2017-08-01-17-58-23-647166\n",
      "2017-08-01 10:58:23,989 INFO atomate.vasp.drones Getting task doc for base dir :/home/km/Software/matproj/workshop-2017/Atomate/launcher_2017-08-01-17-58-23-647166\n",
      "2017-08-01 10:58:24,345 INFO atomate.vasp.drones Post-processing dir:/home/km/Software/matproj/workshop-2017/Atomate/launcher_2017-08-01-17-58-23-647166\n",
      "2017-08-01 10:58:24,346 WARNING atomate.vasp.drones Transformations file does not exist.\n",
      "2017-08-01 10:58:24,349 INFO atomate.vasp.drones Post-processed /home/km/Software/matproj/workshop-2017/Atomate/launcher_2017-08-01-17-58-23-647166\n",
      "2017-08-01 10:58:24,357 INFO atomate.utils.database Inserting km-UX305LA:/home/km/Software/matproj/workshop-2017/Atomate/launcher_2017-08-01-17-58-23-647166 with taskid = 50\n",
      "2017-08-01 10:58:24,384 INFO atomate.vasp.firetasks.parse_outputs Finished parsing with task_id: 50\n",
      "2017-08-01 10:58:24,390 INFO Task completed: {{atomate.vasp.firetasks.parse_outputs.VaspToDb}} \n",
      "2017-08-01 10:58:24,393 INFO Task started: {{atomate.common.firetasks.glue_tasks.PassResult}}.\n"
     ]
    },
    {
     "name": "stderr",
     "output_type": "stream",
     "text": [
      "/home/km/Software/matproj/pymatgen/pymatgen/io/vasp/outputs.py:822: UserWarning: No POTCAR file with matching TITEL fields was found in /home/km/Software/matproj/workshop-2017/Atomate/launcher_2017-08-01-17-58-23-647166\n",
      "  \" was found in {}\".format(os.path.abspath(p)))\n"
     ]
    },
    {
     "name": "stdout",
     "output_type": "stream",
     "text": [
      "2017-08-01 10:58:24,540 INFO Task completed: {{atomate.common.firetasks.glue_tasks.PassResult}} \n",
      "2017-08-01 10:58:24,585 INFO Rocket finished\n",
      "2017-08-01 10:58:24,594 INFO Created new dir /home/km/Software/matproj/workshop-2017/Atomate/launcher_2017-08-01-17-58-24-594394\n",
      "2017-08-01 10:58:24,597 INFO Launching Rocket\n",
      "2017-08-01 10:58:24,634 INFO RUNNING fw_id: 1 in directory: /home/km/Software/matproj/workshop-2017/Atomate/launcher_2017-08-01-17-58-24-594394\n",
      "2017-08-01 10:58:24,644 INFO Task started: {{atomate.vasp.firetasks.parse_outputs.ElasticTensorToDb}}.\n",
      "2017-08-01 10:58:24,648 INFO atomate.vasp.firetasks.parse_outputs Parsing initial optimization directory: /home/km/Software/matproj/workshop-2017/Atomate/launcher_2017-08-01-17-58-18-660461\n",
      "2017-08-01 10:58:24,649 INFO atomate.vasp.drones Getting task doc for base dir :/home/km/Software/matproj/workshop-2017/Atomate/launcher_2017-08-01-17-58-18-660461\n",
      "2017-08-01 10:58:24,828 INFO atomate.vasp.drones Post-processing dir:/home/km/Software/matproj/workshop-2017/Atomate/launcher_2017-08-01-17-58-18-660461\n",
      "2017-08-01 10:58:24,829 WARNING atomate.vasp.drones Transformations file does not exist.\n",
      "2017-08-01 10:58:24,833 INFO atomate.vasp.drones Post-processed /home/km/Software/matproj/workshop-2017/Atomate/launcher_2017-08-01-17-58-18-660461\n",
      "2017-08-01 10:58:24,850 INFO atomate.vasp.firetasks.parse_outputs Analyzing stress/strain data\n",
      "2017-08-01 10:58:25,412 INFO atomate.vasp.firetasks.parse_outputs Elastic analysis complete.\n",
      "2017-08-01 10:58:25,414 INFO Task completed: {{atomate.vasp.firetasks.parse_outputs.ElasticTensorToDb}} \n",
      "2017-08-01 10:58:25,460 INFO Rocket finished\n"
     ]
    }
   ],
   "source": [
    "from fireworks import FWorker\n",
    "from fireworks.core.rocket_launcher import rapidfire\n",
    "\n",
    "rapidfire(lp)"
   ]
  },
  {
   "cell_type": "code",
   "execution_count": 11,
   "metadata": {
    "collapsed": true
   },
   "outputs": [],
   "source": [
    "from atomate.vasp.database import VaspCalcDb\n",
    "\n",
    "vasp_db = VaspCalcDb.from_db_file(db_file)"
   ]
  },
  {
   "cell_type": "code",
   "execution_count": 15,
   "metadata": {
    "collapsed": true
   },
   "outputs": [],
   "source": [
    "from helper_functions import get_task_id\n",
    "\n",
    "task_id = get_task_id(lp, \"elastic deformation 4\")\n",
    "d = vasp_db.collection.find_one(lp, {\"task_label\":\"elastic deformation 4\"})"
   ]
  },
  {
   "cell_type": "code",
   "execution_count": 16,
   "metadata": {},
   "outputs": [
    {
     "data": {
      "text/plain": [
       "[[3.25702976, 0.0, -45.03552717],\n",
       " [0.0, -0.60369959, 0.0],\n",
       " [-45.03552718, 0.0, 1.66978914]]"
      ]
     },
     "execution_count": 16,
     "metadata": {},
     "output_type": "execute_result"
    }
   ],
   "source": [
    "d[\"calcs_reversed\"][0][\"output\"][\"ionic_steps\"][-1][\"stress\"]"
   ]
  },
  {
   "cell_type": "code",
   "execution_count": 17,
   "metadata": {
    "collapsed": true
   },
   "outputs": [],
   "source": [
    "d = vasp_db.db.elasticity.find_one()"
   ]
  },
  {
   "cell_type": "code",
   "execution_count": 19,
   "metadata": {},
   "outputs": [
    {
     "data": {
      "text/plain": [
       "[[146.25385837056845,\n",
       "  52.26244897838195,\n",
       "  52.262448978381975,\n",
       "  -5.782411586589357e-19,\n",
       "  -4.625929269271485e-18,\n",
       "  -4.625929269271485e-18],\n",
       " [52.26244897838195,\n",
       "  146.25385837056848,\n",
       "  52.26244897838197,\n",
       "  -4.625929269271485e-18,\n",
       "  -5.782411586589357e-19,\n",
       "  -9.25185853854297e-18],\n",
       " [52.262448978381975,\n",
       "  52.26244897838197,\n",
       "  146.25385837056845,\n",
       "  -9.25185853854297e-18,\n",
       "  -6.938893903907228e-18,\n",
       "  -5.782411586589357e-19],\n",
       " [-5.782411586589357e-19,\n",
       "  -4.625929269271485e-18,\n",
       "  -9.25185853854297e-18,\n",
       "  75.22653076702798,\n",
       "  0.0,\n",
       "  0.0],\n",
       " [-4.625929269271485e-18,\n",
       "  -5.782411586589357e-19,\n",
       "  -6.938893903907228e-18,\n",
       "  0.0,\n",
       "  75.22653076702797,\n",
       "  0.0],\n",
       " [-4.625929269271485e-18,\n",
       "  -9.25185853854297e-18,\n",
       "  -5.782411586589357e-19,\n",
       "  0.0,\n",
       "  0.0,\n",
       "  75.226530767028]]"
      ]
     },
     "execution_count": 19,
     "metadata": {},
     "output_type": "execute_result"
    }
   ],
   "source": [
    "d['elastic_tensor']['ieee_format']"
   ]
  },
  {
   "cell_type": "code",
   "execution_count": null,
   "metadata": {
    "collapsed": true
   },
   "outputs": [],
   "source": []
  }
 ],
 "metadata": {
  "kernelspec": {
   "display_name": "Python 3",
   "language": "python",
   "name": "python3"
  },
  "language_info": {
   "codemirror_mode": {
    "name": "ipython",
    "version": 3
   },
   "file_extension": ".py",
   "mimetype": "text/x-python",
   "name": "python",
   "nbconvert_exporter": "python",
   "pygments_lexer": "ipython3",
   "version": "3.6.2"
  }
 },
 "nbformat": 4,
 "nbformat_minor": 1
}
