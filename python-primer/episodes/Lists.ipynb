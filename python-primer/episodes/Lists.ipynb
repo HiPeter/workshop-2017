{
 "cells": [
  {
   "cell_type": "markdown",
   "metadata": {},
   "source": [
    "# Lists\n",
    "**Teaching:** 10min<br>\n",
    "**Exercises:** 10min"
   ]
  },
  {
   "cell_type": "markdown",
   "metadata": {},
   "source": [
    "## A list stores many values in a single structure.\n",
    "* Doing calculations with a hundred variables called `pressure_001`, `pressure_002`, etc., would be at least as slow as doing them by hand.\n",
    "\n",
    "\n",
    "* Use a `list` to store many values together.\n",
    "  * Contained within square brackets `[...]`.\n",
    "  * Values separated by commas `,`.\n",
    "\n",
    "\n",
    "* Use `len` to find out how many values are in a list."
   ]
  },
  {
   "cell_type": "code",
   "execution_count": 1,
   "metadata": {},
   "outputs": [
    {
     "name": "stdout",
     "output_type": "stream",
     "text": [
      "pressures: [0.273, 0.275, 0.277, 0.275, 0.276]\n",
      "length: 5\n"
     ]
    }
   ],
   "source": [
    "pressures  = [0.273, 0.275, 0.277, 0.275, 0.276]\n",
    "print('pressures:', pressures)\n",
    "print('length:', len(pressures))"
   ]
  },
  {
   "cell_type": "markdown",
   "metadata": {},
   "source": [
    "## Use an item's index to fetch it from a list\n",
    "* just like strings"
   ]
  },
  {
   "cell_type": "code",
   "execution_count": 2,
   "metadata": {},
   "outputs": [
    {
     "name": "stdout",
     "output_type": "stream",
     "text": [
      "zeroth item of pressures: 0.273\n",
      "fourth item of pressures: 0.276\n"
     ]
    }
   ],
   "source": [
    "print('zeroth item of pressures:', pressures[0])\n",
    "print('fourth item of pressures:', pressures[4])"
   ]
  },
  {
   "cell_type": "code",
   "execution_count": 3,
   "metadata": {},
   "outputs": [
    {
     "name": "stdout",
     "output_type": "stream",
     "text": [
      "fourth item of \"pressures\": s\n"
     ]
    }
   ],
   "source": [
    "print('fourth item of \"pressures\":', \"pressures\"[4])"
   ]
  },
  {
   "cell_type": "markdown",
   "metadata": {},
   "source": [
    "Say **your name**..."
   ]
  },
  {
   "cell_type": "markdown",
   "metadata": {},
   "source": [
    "## Lists' values can be replaced by assigning to them\n",
    "* Use an index expression on the left of assignment to replace a value."
   ]
  },
  {
   "cell_type": "code",
   "execution_count": 4,
   "metadata": {},
   "outputs": [
    {
     "name": "stdout",
     "output_type": "stream",
     "text": [
      "pressures is now: [0.265, 0.275, 0.277, 0.275, 0.276]\n"
     ]
    }
   ],
   "source": [
    "pressures[0] = 0.265\n",
    "print('pressures is now:', pressures)"
   ]
  },
  {
   "cell_type": "markdown",
   "metadata": {},
   "source": [
    "## Appending items to a list lengthens it\n",
    "* use `list_name.append` to add items to the end of a list."
   ]
  },
  {
   "cell_type": "code",
   "execution_count": 5,
   "metadata": {},
   "outputs": [
    {
     "name": "stdout",
     "output_type": "stream",
     "text": [
      "primes is initially: [2, 3, 5]\n",
      "primes has become: [2, 3, 5, 7, 9]\n"
     ]
    }
   ],
   "source": [
    "primes = [2, 3, 5]\n",
    "print('primes is initially:', primes)\n",
    "primes.append(7)\n",
    "primes.append(9)\n",
    "print('primes has become:', primes)"
   ]
  },
  {
   "cell_type": "markdown",
   "metadata": {},
   "source": [
    "* `append` is a *method* of lists\n",
    "  * like a function, but tied to a particular object\n",
    "\n",
    "\n",
    "* Use `object_name.method_name` to call methods\n",
    "  * deliberately resembles the way we refer to things in a library\n",
    "\n",
    "* We will meet other methods of lists as we go along\n",
    "  * Use `help(list)` for a preview"
   ]
  },
  {
   "cell_type": "markdown",
   "metadata": {},
   "source": [
    "`extend` is similar to `append`, but it allows you to combine two lists."
   ]
  },
  {
   "cell_type": "code",
   "execution_count": 6,
   "metadata": {},
   "outputs": [
    {
     "name": "stdout",
     "output_type": "stream",
     "text": [
      "primes is currently: [2, 3, 5, 7, 9]\n",
      "primes has now become: [2, 3, 5, 7, 9, 11, 13, 17, 19]\n",
      "primes has finally become: [2, 3, 5, 7, 9, 11, 13, 17, 19, [37, 41, 43, 47]]\n"
     ]
    }
   ],
   "source": [
    "teen_primes = [11, 13, 17, 19]\n",
    "middle_aged_primes = [37, 41, 43, 47]\n",
    "print('primes is currently:', primes)\n",
    "primes.extend(teen_primes)\n",
    "print('primes has now become:', primes)\n",
    "primes.append(middle_aged_primes)\n",
    "print('primes has finally become:', primes)"
   ]
  },
  {
   "cell_type": "markdown",
   "metadata": {},
   "source": [
    "Note that while `extend` maintains the \"flat\" structure of the list, appending a list to a list makes the result two-dimensional."
   ]
  },
  {
   "cell_type": "markdown",
   "metadata": {},
   "source": [
    "## Use `del` to remove items from a list entirely\n",
    "* `del list_name[index]` removes an item from a list and shortens the list.\n",
    "* Not a function or method, but a statement in the language."
   ]
  },
  {
   "cell_type": "code",
   "execution_count": 7,
   "metadata": {},
   "outputs": [
    {
     "name": "stdout",
     "output_type": "stream",
     "text": [
      "primes before removing last item: [2, 3, 5, 7, 9, 11, 13, 17, 19, [37, 41, 43, 47]]\n",
      "primes after removing last item: [2, 3, 5, 7, 11, 13, 17, 19, [37, 41, 43, 47]]\n"
     ]
    }
   ],
   "source": [
    "print('primes before removing last item:', primes)\n",
    "del primes[4]\n",
    "print('primes after removing last item:', primes)"
   ]
  },
  {
   "cell_type": "markdown",
   "metadata": {},
   "source": [
    "## The empty list contains no values\n",
    "* `[]` is \"the zero of lists\"\n",
    "* Helpful as a starting point for collecting values"
   ]
  },
  {
   "cell_type": "markdown",
   "metadata": {},
   "source": [
    "## Lists may be *heterogeneous*"
   ]
  },
  {
   "cell_type": "code",
   "execution_count": 8,
   "metadata": {
    "collapsed": true
   },
   "outputs": [],
   "source": [
    "goals = [1, 'Create lists.', 2, 'Extract items from lists.',\n",
    "         3, 'Modify lists.']"
   ]
  },
  {
   "cell_type": "markdown",
   "metadata": {},
   "source": [
    "* Not always a good idea..."
   ]
  },
  {
   "cell_type": "markdown",
   "metadata": {},
   "source": [
    "## Character strings are *immutable*\n",
    "* Cannot change the characters in a string after it has been created.\n",
    "* Python considers the string to be a single value with parts, not a collection of values."
   ]
  },
  {
   "cell_type": "code",
   "execution_count": 9,
   "metadata": {},
   "outputs": [
    {
     "ename": "TypeError",
     "evalue": "'str' object does not support item assignment",
     "output_type": "error",
     "traceback": [
      "\u001b[0;31m---------------------------------------------------------------------------\u001b[0m",
      "\u001b[0;31mTypeError\u001b[0m                                 Traceback (most recent call last)",
      "\u001b[0;32m<ipython-input-9-c893e3322d55>\u001b[0m in \u001b[0;36m<module>\u001b[0;34m()\u001b[0m\n\u001b[1;32m      1\u001b[0m \u001b[0melement\u001b[0m \u001b[0;34m=\u001b[0m \u001b[0;34m'helium'\u001b[0m\u001b[0;34m\u001b[0m\u001b[0m\n\u001b[0;32m----> 2\u001b[0;31m \u001b[0melement\u001b[0m\u001b[0;34m[\u001b[0m\u001b[0;36m0\u001b[0m\u001b[0;34m]\u001b[0m \u001b[0;34m=\u001b[0m \u001b[0;34m'C'\u001b[0m\u001b[0;34m\u001b[0m\u001b[0m\n\u001b[0m",
      "\u001b[0;31mTypeError\u001b[0m: 'str' object does not support item assignment"
     ]
    }
   ],
   "source": [
    "element = 'helium'\n",
    "element[0] = 'C'"
   ]
  },
  {
   "cell_type": "markdown",
   "metadata": {},
   "source": [
    "## Index and slice to get information out of a string/list\n",
    "* Locations are numbered from 0 rather than 1\n",
    "* Negative indices count backward from the end of the string\n",
    "* Slices *include* the lower bound but *exclude* the upper bound, so `(upper - lower)` is the slice's length"
   ]
  },
  {
   "cell_type": "code",
   "execution_count": 10,
   "metadata": {},
   "outputs": [
    {
     "name": "stdout",
     "output_type": "stream",
     "text": [
      "first character: h\n",
      "last character: m\n",
      "middle: liu\n"
     ]
    }
   ],
   "source": [
    "print('first character:', element[0])\n",
    "print('last character:', element[-1])\n",
    "print('middle:', element[2:5])"
   ]
  },
  {
   "cell_type": "markdown",
   "metadata": {},
   "source": [
    "Indexing beyond the end of a collection is an error"
   ]
  },
  {
   "cell_type": "code",
   "execution_count": 11,
   "metadata": {},
   "outputs": [
    {
     "ename": "IndexError",
     "evalue": "string index out of range",
     "output_type": "error",
     "traceback": [
      "\u001b[0;31m---------------------------------------------------------------------------\u001b[0m",
      "\u001b[0;31mIndexError\u001b[0m                                Traceback (most recent call last)",
      "\u001b[0;32m<ipython-input-11-320bc28f00ab>\u001b[0m in \u001b[0;36m<module>\u001b[0;34m()\u001b[0m\n\u001b[0;32m----> 1\u001b[0;31m \u001b[0mprint\u001b[0m\u001b[0;34m(\u001b[0m\u001b[0;34m'99th element of element is:'\u001b[0m\u001b[0;34m,\u001b[0m \u001b[0melement\u001b[0m\u001b[0;34m[\u001b[0m\u001b[0;36m99\u001b[0m\u001b[0;34m]\u001b[0m\u001b[0;34m)\u001b[0m\u001b[0;34m\u001b[0m\u001b[0m\n\u001b[0m",
      "\u001b[0;31mIndexError\u001b[0m: string index out of range"
     ]
    }
   ],
   "source": [
    "print('99th element of element is:', element[99])"
   ]
  },
  {
   "cell_type": "markdown",
   "metadata": {},
   "source": [
    "## Use the built-in function `len` to find the length of a string"
   ]
  },
  {
   "cell_type": "code",
   "execution_count": 12,
   "metadata": {},
   "outputs": [
    {
     "name": "stdout",
     "output_type": "stream",
     "text": [
      "6\n"
     ]
    }
   ],
   "source": [
    "print(len('helium'))"
   ]
  },
  {
   "cell_type": "markdown",
   "metadata": {},
   "source": [
    "## Exercise: Slicing\n",
    "What does the following print:\n",
    "\n",
    "```python\n",
    "element = 'carbon'\n",
    "print('element[1:3] is:', element[1:3])\n",
    "```\n",
    "\n",
    "What does `thing[low:high]` do?\n",
    "\n",
    "What does `thing[low:]` do?\n",
    "\n",
    "What does `thing[:high]` do?\n",
    "\n",
    "What does `thing[:]` do?\n",
    "\n",
    "What about `thing[::2]`? `thing[::-1]`?"
   ]
  },
  {
   "cell_type": "markdown",
   "metadata": {},
   "source": [
    "## Exercise: Fill in the blanks\n",
    "Fill in the blanks so that the program below produces the output shown.\n",
    "\n",
    "```python\n",
    "values = ____\n",
    "values.____(1)\n",
    "values.____(3)\n",
    "values.____(5)\n",
    "print('first time:', values)\n",
    "values = values[____]\n",
    "print('second time:', values)\n",
    "```\n",
    "---\n",
    "```\n",
    "first time: [1, 3, 5]\n",
    "second time: [3, 5]\n",
    "```"
   ]
  },
  {
   "cell_type": "markdown",
   "metadata": {
    "collapsed": true
   },
   "source": [
    "## Exercise: From strings to lists and back\n",
    "Given this:\n",
    "\n",
    "```python\n",
    "print('string to list:', list('tin'))\n",
    "print('list to string:', ''.join(['g', 'o', 'l', 'd']))\n",
    "```\n",
    "---\n",
    "```\n",
    "['t', 'i', 'n']\n",
    "'gold'\n",
    "```\n",
    "\n",
    "1. Explain in simple terms what `list('some string')` does.\n",
    "2. What does `'-'.join(['x', 'y'])` generate?"
   ]
  },
  {
   "cell_type": "markdown",
   "metadata": {},
   "source": [
    "## Exercise: Sort and Sorted\n",
    "What do these two programs print? In simple terms, explain the difference between `sorted(letters)` and `letters.sort()`.\n",
    "\n",
    "```python\n",
    "# Program A\n",
    "letters = list('gold')\n",
    "result = sorted(letters)\n",
    "print('letters is', letters, 'and result is', result)\n",
    "```\n",
    "---\n",
    "```python\n",
    "# Program B\n",
    "letters = list('gold')\n",
    "result = letters.sort()\n",
    "print('letters is', letters, 'and result is', result)\n",
    "```"
   ]
  },
  {
   "cell_type": "markdown",
   "metadata": {},
   "source": [
    "## Exercise: Copying (or Not)\n",
    "What do these two programs print? In simple terms, explain the difference between <br>`new = old` and `new = old[:]`.\n",
    "\n",
    "```python\n",
    "# Program A\n",
    "old = list('gold')\n",
    "new = old      # simple assignment\n",
    "new[0] = 'D'\n",
    "print('new is', new, 'and old is', old)\n",
    "```\n",
    "---\n",
    "```python\n",
    "# Program B\n",
    "old = list('gold')\n",
    "new = old[:]   # assigning a slice\n",
    "new[0] = 'D'\n",
    "print('new is', new, 'and old is', old)\n",
    "```"
   ]
  }
 ],
 "metadata": {
  "kernelspec": {
   "display_name": "Python 3",
   "language": "python",
   "name": "python3"
  },
  "language_info": {
   "codemirror_mode": {
    "name": "ipython",
    "version": 3
   },
   "file_extension": ".py",
   "mimetype": "text/x-python",
   "name": "python",
   "nbconvert_exporter": "python",
   "pygments_lexer": "ipython3",
   "version": "3.6.1"
  }
 },
 "nbformat": 4,
 "nbformat_minor": 2
}
